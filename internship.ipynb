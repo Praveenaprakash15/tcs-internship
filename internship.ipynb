{
  "nbformat": 4,
  "nbformat_minor": 0,
  "metadata": {
    "colab": {
      "provenance": []
    },
    "kernelspec": {
      "name": "python3",
      "display_name": "Python 3"
    },
    "language_info": {
      "name": "python"
    }
  },
  "cells": [
    {
      "cell_type": "code",
      "execution_count": 1,
      "metadata": {
        "id": "Nuaq3cC5zFP8"
      },
      "outputs": [],
      "source": [
        "#importing libraries\n",
        "import numpy as np\n",
        "import pandas as pd\n",
        "import seaborn as sns \n",
        "import matplotlib.pyplot as plt\n",
        "import plotly.express as px\n",
        "import warnings\n",
        "warnings.filterwarnings(\"ignore\")"
      ]
    },
    {
      "cell_type": "code",
      "source": [
        "from google.colab import drive\n",
        "drive.mount('/content/gdrive')"
      ],
      "metadata": {
        "id": "Vh2Q5sLC0pOW",
        "colab": {
          "base_uri": "https://localhost:8080/"
        },
        "outputId": "cb045cfa-2e41-482d-e675-85909795ff2d"
      },
      "execution_count": 2,
      "outputs": [
        {
          "output_type": "stream",
          "name": "stdout",
          "text": [
            "Mounted at /content/gdrive\n"
          ]
        }
      ]
    },
    {
      "cell_type": "code",
      "source": [
        "data=pd.read_csv('/content/gdrive/MyDrive/MobileTrain.csv')\n",
        "data.head(5)"
      ],
      "metadata": {
        "id": "gp5sol0g1aM5",
        "colab": {
          "base_uri": "https://localhost:8080/",
          "height": 280
        },
        "outputId": "1de5fa6a-570c-4fe7-e886-a78cbf5aeed2"
      },
      "execution_count": 3,
      "outputs": [
        {
          "output_type": "execute_result",
          "data": {
            "text/plain": [
              "   battery_power  blue  clock_speed  dual_sim  fc  four_g  int_memory  m_dep  \\\n",
              "0            842     0          2.2         0   1       0           7    0.6   \n",
              "1           1021     1          0.5         1   0       1          53    0.7   \n",
              "2            563     1          0.5         1   2       1          41    0.9   \n",
              "3            615     1          2.5         0   0       0          10    0.8   \n",
              "4           1821     1          1.2         0  13       1          44    0.6   \n",
              "\n",
              "   mobile_wt  n_cores  ...  px_height  px_width   ram  sc_h  sc_w  talk_time  \\\n",
              "0        188        2  ...         20       756  2549     9     7         19   \n",
              "1        136        3  ...        905      1988  2631    17     3          7   \n",
              "2        145        5  ...       1263      1716  2603    11     2          9   \n",
              "3        131        6  ...       1216      1786  2769    16     8         11   \n",
              "4        141        2  ...       1208      1212  1411     8     2         15   \n",
              "\n",
              "   three_g  touch_screen  wifi  price_range  \n",
              "0        0             0     1            1  \n",
              "1        1             1     0            2  \n",
              "2        1             1     0            2  \n",
              "3        1             0     0            2  \n",
              "4        1             1     0            1  \n",
              "\n",
              "[5 rows x 21 columns]"
            ],
            "text/html": [
              "\n",
              "  <div id=\"df-0badfd14-87fa-469f-9c12-d2bad7799d67\">\n",
              "    <div class=\"colab-df-container\">\n",
              "      <div>\n",
              "<style scoped>\n",
              "    .dataframe tbody tr th:only-of-type {\n",
              "        vertical-align: middle;\n",
              "    }\n",
              "\n",
              "    .dataframe tbody tr th {\n",
              "        vertical-align: top;\n",
              "    }\n",
              "\n",
              "    .dataframe thead th {\n",
              "        text-align: right;\n",
              "    }\n",
              "</style>\n",
              "<table border=\"1\" class=\"dataframe\">\n",
              "  <thead>\n",
              "    <tr style=\"text-align: right;\">\n",
              "      <th></th>\n",
              "      <th>battery_power</th>\n",
              "      <th>blue</th>\n",
              "      <th>clock_speed</th>\n",
              "      <th>dual_sim</th>\n",
              "      <th>fc</th>\n",
              "      <th>four_g</th>\n",
              "      <th>int_memory</th>\n",
              "      <th>m_dep</th>\n",
              "      <th>mobile_wt</th>\n",
              "      <th>n_cores</th>\n",
              "      <th>...</th>\n",
              "      <th>px_height</th>\n",
              "      <th>px_width</th>\n",
              "      <th>ram</th>\n",
              "      <th>sc_h</th>\n",
              "      <th>sc_w</th>\n",
              "      <th>talk_time</th>\n",
              "      <th>three_g</th>\n",
              "      <th>touch_screen</th>\n",
              "      <th>wifi</th>\n",
              "      <th>price_range</th>\n",
              "    </tr>\n",
              "  </thead>\n",
              "  <tbody>\n",
              "    <tr>\n",
              "      <th>0</th>\n",
              "      <td>842</td>\n",
              "      <td>0</td>\n",
              "      <td>2.2</td>\n",
              "      <td>0</td>\n",
              "      <td>1</td>\n",
              "      <td>0</td>\n",
              "      <td>7</td>\n",
              "      <td>0.6</td>\n",
              "      <td>188</td>\n",
              "      <td>2</td>\n",
              "      <td>...</td>\n",
              "      <td>20</td>\n",
              "      <td>756</td>\n",
              "      <td>2549</td>\n",
              "      <td>9</td>\n",
              "      <td>7</td>\n",
              "      <td>19</td>\n",
              "      <td>0</td>\n",
              "      <td>0</td>\n",
              "      <td>1</td>\n",
              "      <td>1</td>\n",
              "    </tr>\n",
              "    <tr>\n",
              "      <th>1</th>\n",
              "      <td>1021</td>\n",
              "      <td>1</td>\n",
              "      <td>0.5</td>\n",
              "      <td>1</td>\n",
              "      <td>0</td>\n",
              "      <td>1</td>\n",
              "      <td>53</td>\n",
              "      <td>0.7</td>\n",
              "      <td>136</td>\n",
              "      <td>3</td>\n",
              "      <td>...</td>\n",
              "      <td>905</td>\n",
              "      <td>1988</td>\n",
              "      <td>2631</td>\n",
              "      <td>17</td>\n",
              "      <td>3</td>\n",
              "      <td>7</td>\n",
              "      <td>1</td>\n",
              "      <td>1</td>\n",
              "      <td>0</td>\n",
              "      <td>2</td>\n",
              "    </tr>\n",
              "    <tr>\n",
              "      <th>2</th>\n",
              "      <td>563</td>\n",
              "      <td>1</td>\n",
              "      <td>0.5</td>\n",
              "      <td>1</td>\n",
              "      <td>2</td>\n",
              "      <td>1</td>\n",
              "      <td>41</td>\n",
              "      <td>0.9</td>\n",
              "      <td>145</td>\n",
              "      <td>5</td>\n",
              "      <td>...</td>\n",
              "      <td>1263</td>\n",
              "      <td>1716</td>\n",
              "      <td>2603</td>\n",
              "      <td>11</td>\n",
              "      <td>2</td>\n",
              "      <td>9</td>\n",
              "      <td>1</td>\n",
              "      <td>1</td>\n",
              "      <td>0</td>\n",
              "      <td>2</td>\n",
              "    </tr>\n",
              "    <tr>\n",
              "      <th>3</th>\n",
              "      <td>615</td>\n",
              "      <td>1</td>\n",
              "      <td>2.5</td>\n",
              "      <td>0</td>\n",
              "      <td>0</td>\n",
              "      <td>0</td>\n",
              "      <td>10</td>\n",
              "      <td>0.8</td>\n",
              "      <td>131</td>\n",
              "      <td>6</td>\n",
              "      <td>...</td>\n",
              "      <td>1216</td>\n",
              "      <td>1786</td>\n",
              "      <td>2769</td>\n",
              "      <td>16</td>\n",
              "      <td>8</td>\n",
              "      <td>11</td>\n",
              "      <td>1</td>\n",
              "      <td>0</td>\n",
              "      <td>0</td>\n",
              "      <td>2</td>\n",
              "    </tr>\n",
              "    <tr>\n",
              "      <th>4</th>\n",
              "      <td>1821</td>\n",
              "      <td>1</td>\n",
              "      <td>1.2</td>\n",
              "      <td>0</td>\n",
              "      <td>13</td>\n",
              "      <td>1</td>\n",
              "      <td>44</td>\n",
              "      <td>0.6</td>\n",
              "      <td>141</td>\n",
              "      <td>2</td>\n",
              "      <td>...</td>\n",
              "      <td>1208</td>\n",
              "      <td>1212</td>\n",
              "      <td>1411</td>\n",
              "      <td>8</td>\n",
              "      <td>2</td>\n",
              "      <td>15</td>\n",
              "      <td>1</td>\n",
              "      <td>1</td>\n",
              "      <td>0</td>\n",
              "      <td>1</td>\n",
              "    </tr>\n",
              "  </tbody>\n",
              "</table>\n",
              "<p>5 rows × 21 columns</p>\n",
              "</div>\n",
              "      <button class=\"colab-df-convert\" onclick=\"convertToInteractive('df-0badfd14-87fa-469f-9c12-d2bad7799d67')\"\n",
              "              title=\"Convert this dataframe to an interactive table.\"\n",
              "              style=\"display:none;\">\n",
              "        \n",
              "  <svg xmlns=\"http://www.w3.org/2000/svg\" height=\"24px\"viewBox=\"0 0 24 24\"\n",
              "       width=\"24px\">\n",
              "    <path d=\"M0 0h24v24H0V0z\" fill=\"none\"/>\n",
              "    <path d=\"M18.56 5.44l.94 2.06.94-2.06 2.06-.94-2.06-.94-.94-2.06-.94 2.06-2.06.94zm-11 1L8.5 8.5l.94-2.06 2.06-.94-2.06-.94L8.5 2.5l-.94 2.06-2.06.94zm10 10l.94 2.06.94-2.06 2.06-.94-2.06-.94-.94-2.06-.94 2.06-2.06.94z\"/><path d=\"M17.41 7.96l-1.37-1.37c-.4-.4-.92-.59-1.43-.59-.52 0-1.04.2-1.43.59L10.3 9.45l-7.72 7.72c-.78.78-.78 2.05 0 2.83L4 21.41c.39.39.9.59 1.41.59.51 0 1.02-.2 1.41-.59l7.78-7.78 2.81-2.81c.8-.78.8-2.07 0-2.86zM5.41 20L4 18.59l7.72-7.72 1.47 1.35L5.41 20z\"/>\n",
              "  </svg>\n",
              "      </button>\n",
              "      \n",
              "  <style>\n",
              "    .colab-df-container {\n",
              "      display:flex;\n",
              "      flex-wrap:wrap;\n",
              "      gap: 12px;\n",
              "    }\n",
              "\n",
              "    .colab-df-convert {\n",
              "      background-color: #E8F0FE;\n",
              "      border: none;\n",
              "      border-radius: 50%;\n",
              "      cursor: pointer;\n",
              "      display: none;\n",
              "      fill: #1967D2;\n",
              "      height: 32px;\n",
              "      padding: 0 0 0 0;\n",
              "      width: 32px;\n",
              "    }\n",
              "\n",
              "    .colab-df-convert:hover {\n",
              "      background-color: #E2EBFA;\n",
              "      box-shadow: 0px 1px 2px rgba(60, 64, 67, 0.3), 0px 1px 3px 1px rgba(60, 64, 67, 0.15);\n",
              "      fill: #174EA6;\n",
              "    }\n",
              "\n",
              "    [theme=dark] .colab-df-convert {\n",
              "      background-color: #3B4455;\n",
              "      fill: #D2E3FC;\n",
              "    }\n",
              "\n",
              "    [theme=dark] .colab-df-convert:hover {\n",
              "      background-color: #434B5C;\n",
              "      box-shadow: 0px 1px 3px 1px rgba(0, 0, 0, 0.15);\n",
              "      filter: drop-shadow(0px 1px 2px rgba(0, 0, 0, 0.3));\n",
              "      fill: #FFFFFF;\n",
              "    }\n",
              "  </style>\n",
              "\n",
              "      <script>\n",
              "        const buttonEl =\n",
              "          document.querySelector('#df-0badfd14-87fa-469f-9c12-d2bad7799d67 button.colab-df-convert');\n",
              "        buttonEl.style.display =\n",
              "          google.colab.kernel.accessAllowed ? 'block' : 'none';\n",
              "\n",
              "        async function convertToInteractive(key) {\n",
              "          const element = document.querySelector('#df-0badfd14-87fa-469f-9c12-d2bad7799d67');\n",
              "          const dataTable =\n",
              "            await google.colab.kernel.invokeFunction('convertToInteractive',\n",
              "                                                     [key], {});\n",
              "          if (!dataTable) return;\n",
              "\n",
              "          const docLinkHtml = 'Like what you see? Visit the ' +\n",
              "            '<a target=\"_blank\" href=https://colab.research.google.com/notebooks/data_table.ipynb>data table notebook</a>'\n",
              "            + ' to learn more about interactive tables.';\n",
              "          element.innerHTML = '';\n",
              "          dataTable['output_type'] = 'display_data';\n",
              "          await google.colab.output.renderOutput(dataTable, element);\n",
              "          const docLink = document.createElement('div');\n",
              "          docLink.innerHTML = docLinkHtml;\n",
              "          element.appendChild(docLink);\n",
              "        }\n",
              "      </script>\n",
              "    </div>\n",
              "  </div>\n",
              "  "
            ]
          },
          "metadata": {},
          "execution_count": 3
        }
      ]
    },
    {
      "cell_type": "code",
      "source": [
        "data.info()"
      ],
      "metadata": {
        "id": "-6mXPmOd15v5",
        "colab": {
          "base_uri": "https://localhost:8080/"
        },
        "outputId": "e7b1d90c-a046-41af-9d6b-f9cb46f47fd3"
      },
      "execution_count": 4,
      "outputs": [
        {
          "output_type": "stream",
          "name": "stdout",
          "text": [
            "<class 'pandas.core.frame.DataFrame'>\n",
            "RangeIndex: 2000 entries, 0 to 1999\n",
            "Data columns (total 21 columns):\n",
            " #   Column         Non-Null Count  Dtype  \n",
            "---  ------         --------------  -----  \n",
            " 0   battery_power  2000 non-null   int64  \n",
            " 1   blue           2000 non-null   int64  \n",
            " 2   clock_speed    2000 non-null   float64\n",
            " 3   dual_sim       2000 non-null   int64  \n",
            " 4   fc             2000 non-null   int64  \n",
            " 5   four_g         2000 non-null   int64  \n",
            " 6   int_memory     2000 non-null   int64  \n",
            " 7   m_dep          2000 non-null   float64\n",
            " 8   mobile_wt      2000 non-null   int64  \n",
            " 9   n_cores        2000 non-null   int64  \n",
            " 10  pc             2000 non-null   int64  \n",
            " 11  px_height      2000 non-null   int64  \n",
            " 12  px_width       2000 non-null   int64  \n",
            " 13  ram            2000 non-null   int64  \n",
            " 14  sc_h           2000 non-null   int64  \n",
            " 15  sc_w           2000 non-null   int64  \n",
            " 16  talk_time      2000 non-null   int64  \n",
            " 17  three_g        2000 non-null   int64  \n",
            " 18  touch_screen   2000 non-null   int64  \n",
            " 19  wifi           2000 non-null   int64  \n",
            " 20  price_range    2000 non-null   int64  \n",
            "dtypes: float64(2), int64(19)\n",
            "memory usage: 328.2 KB\n"
          ]
        }
      ]
    },
    {
      "cell_type": "code",
      "source": [
        "data.describe()"
      ],
      "metadata": {
        "id": "8LkpTOu61_Qq",
        "colab": {
          "base_uri": "https://localhost:8080/",
          "height": 394
        },
        "outputId": "a0f4170b-840b-417b-d093-97da03052f99"
      },
      "execution_count": 5,
      "outputs": [
        {
          "output_type": "execute_result",
          "data": {
            "text/plain": [
              "       battery_power       blue  clock_speed     dual_sim           fc  \\\n",
              "count    2000.000000  2000.0000  2000.000000  2000.000000  2000.000000   \n",
              "mean     1238.518500     0.4950     1.522250     0.509500     4.309500   \n",
              "std       439.418206     0.5001     0.816004     0.500035     4.341444   \n",
              "min       501.000000     0.0000     0.500000     0.000000     0.000000   \n",
              "25%       851.750000     0.0000     0.700000     0.000000     1.000000   \n",
              "50%      1226.000000     0.0000     1.500000     1.000000     3.000000   \n",
              "75%      1615.250000     1.0000     2.200000     1.000000     7.000000   \n",
              "max      1998.000000     1.0000     3.000000     1.000000    19.000000   \n",
              "\n",
              "            four_g   int_memory        m_dep    mobile_wt      n_cores  ...  \\\n",
              "count  2000.000000  2000.000000  2000.000000  2000.000000  2000.000000  ...   \n",
              "mean      0.521500    32.046500     0.501750   140.249000     4.520500  ...   \n",
              "std       0.499662    18.145715     0.288416    35.399655     2.287837  ...   \n",
              "min       0.000000     2.000000     0.100000    80.000000     1.000000  ...   \n",
              "25%       0.000000    16.000000     0.200000   109.000000     3.000000  ...   \n",
              "50%       1.000000    32.000000     0.500000   141.000000     4.000000  ...   \n",
              "75%       1.000000    48.000000     0.800000   170.000000     7.000000  ...   \n",
              "max       1.000000    64.000000     1.000000   200.000000     8.000000  ...   \n",
              "\n",
              "         px_height     px_width          ram         sc_h         sc_w  \\\n",
              "count  2000.000000  2000.000000  2000.000000  2000.000000  2000.000000   \n",
              "mean    645.108000  1251.515500  2124.213000    12.306500     5.767000   \n",
              "std     443.780811   432.199447  1084.732044     4.213245     4.356398   \n",
              "min       0.000000   500.000000   256.000000     5.000000     0.000000   \n",
              "25%     282.750000   874.750000  1207.500000     9.000000     2.000000   \n",
              "50%     564.000000  1247.000000  2146.500000    12.000000     5.000000   \n",
              "75%     947.250000  1633.000000  3064.500000    16.000000     9.000000   \n",
              "max    1960.000000  1998.000000  3998.000000    19.000000    18.000000   \n",
              "\n",
              "         talk_time      three_g  touch_screen         wifi  price_range  \n",
              "count  2000.000000  2000.000000   2000.000000  2000.000000  2000.000000  \n",
              "mean     11.011000     0.761500      0.503000     0.507000     1.500000  \n",
              "std       5.463955     0.426273      0.500116     0.500076     1.118314  \n",
              "min       2.000000     0.000000      0.000000     0.000000     0.000000  \n",
              "25%       6.000000     1.000000      0.000000     0.000000     0.750000  \n",
              "50%      11.000000     1.000000      1.000000     1.000000     1.500000  \n",
              "75%      16.000000     1.000000      1.000000     1.000000     2.250000  \n",
              "max      20.000000     1.000000      1.000000     1.000000     3.000000  \n",
              "\n",
              "[8 rows x 21 columns]"
            ],
            "text/html": [
              "\n",
              "  <div id=\"df-8ea53a82-95c9-4ba3-bdec-a43a76730098\">\n",
              "    <div class=\"colab-df-container\">\n",
              "      <div>\n",
              "<style scoped>\n",
              "    .dataframe tbody tr th:only-of-type {\n",
              "        vertical-align: middle;\n",
              "    }\n",
              "\n",
              "    .dataframe tbody tr th {\n",
              "        vertical-align: top;\n",
              "    }\n",
              "\n",
              "    .dataframe thead th {\n",
              "        text-align: right;\n",
              "    }\n",
              "</style>\n",
              "<table border=\"1\" class=\"dataframe\">\n",
              "  <thead>\n",
              "    <tr style=\"text-align: right;\">\n",
              "      <th></th>\n",
              "      <th>battery_power</th>\n",
              "      <th>blue</th>\n",
              "      <th>clock_speed</th>\n",
              "      <th>dual_sim</th>\n",
              "      <th>fc</th>\n",
              "      <th>four_g</th>\n",
              "      <th>int_memory</th>\n",
              "      <th>m_dep</th>\n",
              "      <th>mobile_wt</th>\n",
              "      <th>n_cores</th>\n",
              "      <th>...</th>\n",
              "      <th>px_height</th>\n",
              "      <th>px_width</th>\n",
              "      <th>ram</th>\n",
              "      <th>sc_h</th>\n",
              "      <th>sc_w</th>\n",
              "      <th>talk_time</th>\n",
              "      <th>three_g</th>\n",
              "      <th>touch_screen</th>\n",
              "      <th>wifi</th>\n",
              "      <th>price_range</th>\n",
              "    </tr>\n",
              "  </thead>\n",
              "  <tbody>\n",
              "    <tr>\n",
              "      <th>count</th>\n",
              "      <td>2000.000000</td>\n",
              "      <td>2000.0000</td>\n",
              "      <td>2000.000000</td>\n",
              "      <td>2000.000000</td>\n",
              "      <td>2000.000000</td>\n",
              "      <td>2000.000000</td>\n",
              "      <td>2000.000000</td>\n",
              "      <td>2000.000000</td>\n",
              "      <td>2000.000000</td>\n",
              "      <td>2000.000000</td>\n",
              "      <td>...</td>\n",
              "      <td>2000.000000</td>\n",
              "      <td>2000.000000</td>\n",
              "      <td>2000.000000</td>\n",
              "      <td>2000.000000</td>\n",
              "      <td>2000.000000</td>\n",
              "      <td>2000.000000</td>\n",
              "      <td>2000.000000</td>\n",
              "      <td>2000.000000</td>\n",
              "      <td>2000.000000</td>\n",
              "      <td>2000.000000</td>\n",
              "    </tr>\n",
              "    <tr>\n",
              "      <th>mean</th>\n",
              "      <td>1238.518500</td>\n",
              "      <td>0.4950</td>\n",
              "      <td>1.522250</td>\n",
              "      <td>0.509500</td>\n",
              "      <td>4.309500</td>\n",
              "      <td>0.521500</td>\n",
              "      <td>32.046500</td>\n",
              "      <td>0.501750</td>\n",
              "      <td>140.249000</td>\n",
              "      <td>4.520500</td>\n",
              "      <td>...</td>\n",
              "      <td>645.108000</td>\n",
              "      <td>1251.515500</td>\n",
              "      <td>2124.213000</td>\n",
              "      <td>12.306500</td>\n",
              "      <td>5.767000</td>\n",
              "      <td>11.011000</td>\n",
              "      <td>0.761500</td>\n",
              "      <td>0.503000</td>\n",
              "      <td>0.507000</td>\n",
              "      <td>1.500000</td>\n",
              "    </tr>\n",
              "    <tr>\n",
              "      <th>std</th>\n",
              "      <td>439.418206</td>\n",
              "      <td>0.5001</td>\n",
              "      <td>0.816004</td>\n",
              "      <td>0.500035</td>\n",
              "      <td>4.341444</td>\n",
              "      <td>0.499662</td>\n",
              "      <td>18.145715</td>\n",
              "      <td>0.288416</td>\n",
              "      <td>35.399655</td>\n",
              "      <td>2.287837</td>\n",
              "      <td>...</td>\n",
              "      <td>443.780811</td>\n",
              "      <td>432.199447</td>\n",
              "      <td>1084.732044</td>\n",
              "      <td>4.213245</td>\n",
              "      <td>4.356398</td>\n",
              "      <td>5.463955</td>\n",
              "      <td>0.426273</td>\n",
              "      <td>0.500116</td>\n",
              "      <td>0.500076</td>\n",
              "      <td>1.118314</td>\n",
              "    </tr>\n",
              "    <tr>\n",
              "      <th>min</th>\n",
              "      <td>501.000000</td>\n",
              "      <td>0.0000</td>\n",
              "      <td>0.500000</td>\n",
              "      <td>0.000000</td>\n",
              "      <td>0.000000</td>\n",
              "      <td>0.000000</td>\n",
              "      <td>2.000000</td>\n",
              "      <td>0.100000</td>\n",
              "      <td>80.000000</td>\n",
              "      <td>1.000000</td>\n",
              "      <td>...</td>\n",
              "      <td>0.000000</td>\n",
              "      <td>500.000000</td>\n",
              "      <td>256.000000</td>\n",
              "      <td>5.000000</td>\n",
              "      <td>0.000000</td>\n",
              "      <td>2.000000</td>\n",
              "      <td>0.000000</td>\n",
              "      <td>0.000000</td>\n",
              "      <td>0.000000</td>\n",
              "      <td>0.000000</td>\n",
              "    </tr>\n",
              "    <tr>\n",
              "      <th>25%</th>\n",
              "      <td>851.750000</td>\n",
              "      <td>0.0000</td>\n",
              "      <td>0.700000</td>\n",
              "      <td>0.000000</td>\n",
              "      <td>1.000000</td>\n",
              "      <td>0.000000</td>\n",
              "      <td>16.000000</td>\n",
              "      <td>0.200000</td>\n",
              "      <td>109.000000</td>\n",
              "      <td>3.000000</td>\n",
              "      <td>...</td>\n",
              "      <td>282.750000</td>\n",
              "      <td>874.750000</td>\n",
              "      <td>1207.500000</td>\n",
              "      <td>9.000000</td>\n",
              "      <td>2.000000</td>\n",
              "      <td>6.000000</td>\n",
              "      <td>1.000000</td>\n",
              "      <td>0.000000</td>\n",
              "      <td>0.000000</td>\n",
              "      <td>0.750000</td>\n",
              "    </tr>\n",
              "    <tr>\n",
              "      <th>50%</th>\n",
              "      <td>1226.000000</td>\n",
              "      <td>0.0000</td>\n",
              "      <td>1.500000</td>\n",
              "      <td>1.000000</td>\n",
              "      <td>3.000000</td>\n",
              "      <td>1.000000</td>\n",
              "      <td>32.000000</td>\n",
              "      <td>0.500000</td>\n",
              "      <td>141.000000</td>\n",
              "      <td>4.000000</td>\n",
              "      <td>...</td>\n",
              "      <td>564.000000</td>\n",
              "      <td>1247.000000</td>\n",
              "      <td>2146.500000</td>\n",
              "      <td>12.000000</td>\n",
              "      <td>5.000000</td>\n",
              "      <td>11.000000</td>\n",
              "      <td>1.000000</td>\n",
              "      <td>1.000000</td>\n",
              "      <td>1.000000</td>\n",
              "      <td>1.500000</td>\n",
              "    </tr>\n",
              "    <tr>\n",
              "      <th>75%</th>\n",
              "      <td>1615.250000</td>\n",
              "      <td>1.0000</td>\n",
              "      <td>2.200000</td>\n",
              "      <td>1.000000</td>\n",
              "      <td>7.000000</td>\n",
              "      <td>1.000000</td>\n",
              "      <td>48.000000</td>\n",
              "      <td>0.800000</td>\n",
              "      <td>170.000000</td>\n",
              "      <td>7.000000</td>\n",
              "      <td>...</td>\n",
              "      <td>947.250000</td>\n",
              "      <td>1633.000000</td>\n",
              "      <td>3064.500000</td>\n",
              "      <td>16.000000</td>\n",
              "      <td>9.000000</td>\n",
              "      <td>16.000000</td>\n",
              "      <td>1.000000</td>\n",
              "      <td>1.000000</td>\n",
              "      <td>1.000000</td>\n",
              "      <td>2.250000</td>\n",
              "    </tr>\n",
              "    <tr>\n",
              "      <th>max</th>\n",
              "      <td>1998.000000</td>\n",
              "      <td>1.0000</td>\n",
              "      <td>3.000000</td>\n",
              "      <td>1.000000</td>\n",
              "      <td>19.000000</td>\n",
              "      <td>1.000000</td>\n",
              "      <td>64.000000</td>\n",
              "      <td>1.000000</td>\n",
              "      <td>200.000000</td>\n",
              "      <td>8.000000</td>\n",
              "      <td>...</td>\n",
              "      <td>1960.000000</td>\n",
              "      <td>1998.000000</td>\n",
              "      <td>3998.000000</td>\n",
              "      <td>19.000000</td>\n",
              "      <td>18.000000</td>\n",
              "      <td>20.000000</td>\n",
              "      <td>1.000000</td>\n",
              "      <td>1.000000</td>\n",
              "      <td>1.000000</td>\n",
              "      <td>3.000000</td>\n",
              "    </tr>\n",
              "  </tbody>\n",
              "</table>\n",
              "<p>8 rows × 21 columns</p>\n",
              "</div>\n",
              "      <button class=\"colab-df-convert\" onclick=\"convertToInteractive('df-8ea53a82-95c9-4ba3-bdec-a43a76730098')\"\n",
              "              title=\"Convert this dataframe to an interactive table.\"\n",
              "              style=\"display:none;\">\n",
              "        \n",
              "  <svg xmlns=\"http://www.w3.org/2000/svg\" height=\"24px\"viewBox=\"0 0 24 24\"\n",
              "       width=\"24px\">\n",
              "    <path d=\"M0 0h24v24H0V0z\" fill=\"none\"/>\n",
              "    <path d=\"M18.56 5.44l.94 2.06.94-2.06 2.06-.94-2.06-.94-.94-2.06-.94 2.06-2.06.94zm-11 1L8.5 8.5l.94-2.06 2.06-.94-2.06-.94L8.5 2.5l-.94 2.06-2.06.94zm10 10l.94 2.06.94-2.06 2.06-.94-2.06-.94-.94-2.06-.94 2.06-2.06.94z\"/><path d=\"M17.41 7.96l-1.37-1.37c-.4-.4-.92-.59-1.43-.59-.52 0-1.04.2-1.43.59L10.3 9.45l-7.72 7.72c-.78.78-.78 2.05 0 2.83L4 21.41c.39.39.9.59 1.41.59.51 0 1.02-.2 1.41-.59l7.78-7.78 2.81-2.81c.8-.78.8-2.07 0-2.86zM5.41 20L4 18.59l7.72-7.72 1.47 1.35L5.41 20z\"/>\n",
              "  </svg>\n",
              "      </button>\n",
              "      \n",
              "  <style>\n",
              "    .colab-df-container {\n",
              "      display:flex;\n",
              "      flex-wrap:wrap;\n",
              "      gap: 12px;\n",
              "    }\n",
              "\n",
              "    .colab-df-convert {\n",
              "      background-color: #E8F0FE;\n",
              "      border: none;\n",
              "      border-radius: 50%;\n",
              "      cursor: pointer;\n",
              "      display: none;\n",
              "      fill: #1967D2;\n",
              "      height: 32px;\n",
              "      padding: 0 0 0 0;\n",
              "      width: 32px;\n",
              "    }\n",
              "\n",
              "    .colab-df-convert:hover {\n",
              "      background-color: #E2EBFA;\n",
              "      box-shadow: 0px 1px 2px rgba(60, 64, 67, 0.3), 0px 1px 3px 1px rgba(60, 64, 67, 0.15);\n",
              "      fill: #174EA6;\n",
              "    }\n",
              "\n",
              "    [theme=dark] .colab-df-convert {\n",
              "      background-color: #3B4455;\n",
              "      fill: #D2E3FC;\n",
              "    }\n",
              "\n",
              "    [theme=dark] .colab-df-convert:hover {\n",
              "      background-color: #434B5C;\n",
              "      box-shadow: 0px 1px 3px 1px rgba(0, 0, 0, 0.15);\n",
              "      filter: drop-shadow(0px 1px 2px rgba(0, 0, 0, 0.3));\n",
              "      fill: #FFFFFF;\n",
              "    }\n",
              "  </style>\n",
              "\n",
              "      <script>\n",
              "        const buttonEl =\n",
              "          document.querySelector('#df-8ea53a82-95c9-4ba3-bdec-a43a76730098 button.colab-df-convert');\n",
              "        buttonEl.style.display =\n",
              "          google.colab.kernel.accessAllowed ? 'block' : 'none';\n",
              "\n",
              "        async function convertToInteractive(key) {\n",
              "          const element = document.querySelector('#df-8ea53a82-95c9-4ba3-bdec-a43a76730098');\n",
              "          const dataTable =\n",
              "            await google.colab.kernel.invokeFunction('convertToInteractive',\n",
              "                                                     [key], {});\n",
              "          if (!dataTable) return;\n",
              "\n",
              "          const docLinkHtml = 'Like what you see? Visit the ' +\n",
              "            '<a target=\"_blank\" href=https://colab.research.google.com/notebooks/data_table.ipynb>data table notebook</a>'\n",
              "            + ' to learn more about interactive tables.';\n",
              "          element.innerHTML = '';\n",
              "          dataTable['output_type'] = 'display_data';\n",
              "          await google.colab.output.renderOutput(dataTable, element);\n",
              "          const docLink = document.createElement('div');\n",
              "          docLink.innerHTML = docLinkHtml;\n",
              "          element.appendChild(docLink);\n",
              "        }\n",
              "      </script>\n",
              "    </div>\n",
              "  </div>\n",
              "  "
            ]
          },
          "metadata": {},
          "execution_count": 5
        }
      ]
    },
    {
      "cell_type": "code",
      "source": [
        "data.shape"
      ],
      "metadata": {
        "id": "Qkhp0r1n2CPa",
        "colab": {
          "base_uri": "https://localhost:8080/"
        },
        "outputId": "c9ba1f47-de9b-4f39-bcf3-0032380ae150"
      },
      "execution_count": 6,
      "outputs": [
        {
          "output_type": "execute_result",
          "data": {
            "text/plain": [
              "(2000, 21)"
            ]
          },
          "metadata": {},
          "execution_count": 6
        }
      ]
    },
    {
      "cell_type": "markdown",
      "source": [
        "# Data Cleaning"
      ],
      "metadata": {
        "id": "KXmisqM3A2JI"
      }
    },
    {
      "cell_type": "code",
      "source": [
        "data.isna().sum()"
      ],
      "metadata": {
        "id": "Le0rUDHY2InO",
        "colab": {
          "base_uri": "https://localhost:8080/"
        },
        "outputId": "ac5ac91e-8b76-4a77-af02-25b2342bbb30"
      },
      "execution_count": 7,
      "outputs": [
        {
          "output_type": "execute_result",
          "data": {
            "text/plain": [
              "battery_power    0\n",
              "blue             0\n",
              "clock_speed      0\n",
              "dual_sim         0\n",
              "fc               0\n",
              "four_g           0\n",
              "int_memory       0\n",
              "m_dep            0\n",
              "mobile_wt        0\n",
              "n_cores          0\n",
              "pc               0\n",
              "px_height        0\n",
              "px_width         0\n",
              "ram              0\n",
              "sc_h             0\n",
              "sc_w             0\n",
              "talk_time        0\n",
              "three_g          0\n",
              "touch_screen     0\n",
              "wifi             0\n",
              "price_range      0\n",
              "dtype: int64"
            ]
          },
          "metadata": {},
          "execution_count": 7
        }
      ]
    },
    {
      "cell_type": "markdown",
      "source": [
        "There are no null values in the dataset."
      ],
      "metadata": {
        "id": "cljI3zJg2Pvg"
      }
    },
    {
      "cell_type": "code",
      "source": [
        "data.columns"
      ],
      "metadata": {
        "id": "fif-vHeF2YgM",
        "colab": {
          "base_uri": "https://localhost:8080/"
        },
        "outputId": "923a2baf-00a4-4e5d-8d0c-181bb81fac2e"
      },
      "execution_count": 8,
      "outputs": [
        {
          "output_type": "execute_result",
          "data": {
            "text/plain": [
              "Index(['battery_power', 'blue', 'clock_speed', 'dual_sim', 'fc', 'four_g',\n",
              "       'int_memory', 'm_dep', 'mobile_wt', 'n_cores', 'pc', 'px_height',\n",
              "       'px_width', 'ram', 'sc_h', 'sc_w', 'talk_time', 'three_g',\n",
              "       'touch_screen', 'wifi', 'price_range'],\n",
              "      dtype='object')"
            ]
          },
          "metadata": {},
          "execution_count": 8
        }
      ]
    },
    {
      "cell_type": "code",
      "source": [
        "data.nunique()"
      ],
      "metadata": {
        "id": "8UnRQd8t3IHY",
        "colab": {
          "base_uri": "https://localhost:8080/"
        },
        "outputId": "46a40620-e42d-432f-e16e-1de57b408aad"
      },
      "execution_count": 9,
      "outputs": [
        {
          "output_type": "execute_result",
          "data": {
            "text/plain": [
              "battery_power    1094\n",
              "blue                2\n",
              "clock_speed        26\n",
              "dual_sim            2\n",
              "fc                 20\n",
              "four_g              2\n",
              "int_memory         63\n",
              "m_dep              10\n",
              "mobile_wt         121\n",
              "n_cores             8\n",
              "pc                 21\n",
              "px_height        1137\n",
              "px_width         1109\n",
              "ram              1562\n",
              "sc_h               15\n",
              "sc_w               19\n",
              "talk_time          19\n",
              "three_g             2\n",
              "touch_screen        2\n",
              "wifi                2\n",
              "price_range         4\n",
              "dtype: int64"
            ]
          },
          "metadata": {},
          "execution_count": 9
        }
      ]
    },
    {
      "cell_type": "markdown",
      "source": [
        "# **Exploratory data analysis**"
      ],
      "metadata": {
        "id": "ThW2bdWo4TN5"
      }
    },
    {
      "cell_type": "markdown",
      "source": [
        "# Univariate Analysis"
      ],
      "metadata": {
        "id": "bknbuLLQwLFD"
      }
    },
    {
      "cell_type": "markdown",
      "source": [
        "# Count plot"
      ],
      "metadata": {
        "id": "yg11hPJ6u0lJ"
      }
    },
    {
      "cell_type": "code",
      "source": [
        "for i in data:\n",
        "  if(data[i].nunique())<=30:\n",
        "    sns.countplot(x=data[i])\n",
        "    plt.show()"
      ],
      "metadata": {
        "id": "WzL0KLO84Kbp",
        "colab": {
          "base_uri": "https://localhost:8080/",
          "height": 1000
        },
        "outputId": "96770f6d-73ef-4433-ba5e-ac4e1e7ce9b4"
      },
      "execution_count": 10,
      "outputs": [
        {
          "output_type": "display_data",
          "data": {
            "text/plain": [
              "<Figure size 432x288 with 1 Axes>"
            ],
            "image/png": "[encoded data removed]"
          },
          "metadata": {
            "needs_background": "light"
          }
        },
        {
          "output_type": "display_data",
          "data": {
            "text/plain": [
              "<Figure size 432x288 with 1 Axes>"
            ],
            "image/png": "[encoded data removed]"
          },
          "metadata": {
            "needs_background": "light"
          }
        },
        {
          "output_type": "display_data",
          "data": {
            "text/plain": [
              "<Figure size 432x288 with 1 Axes>"
            ],
            "image/png": "[encoded data removed]"
          },
          "metadata": {
            "needs_background": "light"
          }
        },
        {
          "output_type": "display_data",
          "data": {
            "text/plain": [
              "<Figure size 432x288 with 1 Axes>"
            ],
            "image/png": "[encoded data removed]"
          },
          "metadata": {
            "needs_background": "light"
          }
        },
        {
          "output_type": "display_data",
          "data": {
            "text/plain": [
              "<Figure size 432x288 with 1 Axes>"
            ],
            "image/png": "[encoded data removed]"
          },
          "metadata": {
            "needs_background": "light"
          }
        },
        {
          "output_type": "display_data",
          "data": {
            "text/plain": [
              "<Figure size 432x288 with 1 Axes>"
            ],
            "image/png": "[encoded data removed]"
          },
          "metadata": {
            "needs_background": "light"
          }
        },
        {
          "output_type": "display_data",
          "data": {
            "text/plain": [
              "<Figure size 432x288 with 1 Axes>"
            ],
            "image/png": "[encoded data removed]"
          },
          "metadata": {
            "needs_background": "light"
          }
        },
        {
          "output_type": "display_data",
          "data": {
            "text/plain": [
              "<Figure size 432x288 with 1 Axes>"
            ],
            "image/png": "[encoded data removed]"
          },
          "metadata": {
            "needs_background": "light"
          }
        },
        {
          "output_type": "display_data",
          "data": {
            "text/plain": [
              "<Figure size 432x288 with 1 Axes>"
            ],
            "image/png": "[encoded data removed]"
          },
          "metadata": {
            "needs_background": "light"
          }
        },
        {
          "output_type": "display_data",
          "data": {
            "text/plain": [
              "<Figure size 432x288 with 1 Axes>"
            ],
            "image/png": "[encoded data removed]"
          },
          "metadata": {
            "needs_background": "light"
          }
        },
        {
          "output_type": "display_data",
          "data": {
            "text/plain": [
              "<Figure size 432x288 with 1 Axes>"
            ],
            "image/png": "[encoded data removed]"
          },
          "metadata": {
            "needs_background": "light"
          }
        },
        {
          "output_type": "display_data",
          "data": {
            "text/plain": [
              "<Figure size 432x288 with 1 Axes>"
            ],
            "image/png": "[encoded data removed]"
          },
          "metadata": {
            "needs_background": "light"
          }
        },
        {
          "output_type": "display_data",
          "data": {
            "text/plain": [
              "<Figure size 432x288 with 1 Axes>"
            ],
            "image/png": "[encoded data removed]"
          },
          "metadata": {
            "needs_background": "light"
          }
        },
        {
          "output_type": "display_data",
          "data": {
            "text/plain": [
              "<Figure size 432x288 with 1 Axes>"
            ],
            "image/png": "[encoded data removed]"
          },
          "metadata": {
            "needs_background": "light"
          }
        },
        {
          "output_type": "display_data",
          "data": {
            "text/plain": [
              "<Figure size 432x288 with 1 Axes>"
            ],
            "image/png": "[encoded data removed]"
          },
          "metadata": {
            "needs_background": "light"
          }
        }
      ]
    },
    {
      "cell_type": "markdown",
      "source": [
        "# Distribution plot"
      ],
      "metadata": {
        "id": "SlPmSibwwEpz"
      }
    },
    {
      "cell_type": "code",
      "source": [
        "#Distplot of various columns in the dataset\n",
        "plt.figure(figsize=(30,10))\n",
        "plt.subplot(331)\n",
        "sns.distplot(data[\"battery_power\"])\n",
        "plt.subplot(332)\n",
        "sns.distplot(data[\"clock_speed\"])\n",
        "plt.subplot(333)\n",
        "sns.distplot(data[\"int_memory\"])\n",
        "plt.subplot(334)\n",
        "sns.distplot(data[\"mobile_wt\"])\n",
        "plt.subplot(335)\n",
        "sns.distplot(data[\"px_height\"])\n",
        "plt.subplot(336)\n",
        "sns.distplot(data[\"px_width\"])\n",
        "plt.subplot(337)\n",
        "sns.distplot(data[\"ram\"])\n",
        "plt.subplot(338)\n",
        "sns.distplot(data[\"talk_time\"])\n",
        "plt.subplot(339)\n",
        "sns.distplot(data[\"m_dep\"])\n",
        "plt.show()"
      ],
      "metadata": {
        "id": "D9IG2jR95glz",
        "colab": {
          "base_uri": "https://localhost:8080/",
          "height": 521
        },
        "outputId": "1d71a57d-0b8b-4a32-910c-077868faac8a"
      },
      "execution_count": 11,
      "outputs": [
        {
          "output_type": "display_data",
          "data": {
            "text/plain": [
              "<Figure size 2160x720 with 9 Axes>"
            ],
            "image/png": "[encoded data removed]"
          },
          "metadata": {
            "needs_background": "light"
          }
        }
      ]
    },
    {
      "cell_type": "markdown",
      "source": [
        "# Pie plot"
      ],
      "metadata": {
        "id": "uCosIFtTwQiw"
      }
    },
    {
      "cell_type": "code",
      "source": [
        "#Percentage of devices having BlueTooth\n",
        "count=data[\"blue\"].value_counts()\n",
        "plt.figure(figsize=(5,5))\n",
        "plt.pie(count,labels=count.index,autopct='%1.2f%%')\n",
        "plt.title(\"Percentage of devices having BlueTooth\")\n",
        "plt.show()"
      ],
      "metadata": {
        "id": "0UFcsdDzst_T",
        "colab": {
          "base_uri": "https://localhost:8080/",
          "height": 319
        },
        "outputId": "0619ad22-856c-49de-abb7-937b7d63f126"
      },
      "execution_count": 12,
      "outputs": [
        {
          "output_type": "display_data",
          "data": {
            "text/plain": [
              "<Figure size 360x360 with 1 Axes>"
            ],
            "image/png": "[encoded data removed]"
          },
          "metadata": {}
        }
      ]
    },
    {
      "cell_type": "markdown",
      "source": [
        "50.58% smartphones sold have BlueTooth and 49.42% doesn't have it."
      ],
      "metadata": {
        "id": "pUmbyw5Ps-ha"
      }
    },
    {
      "cell_type": "code",
      "source": [
        "#Percentage of devices having dual sim\n",
        "count=data[\"dual_sim\"].value_counts()\n",
        "plt.figure(figsize=(5,5))\n",
        "plt.pie(count,labels=count.index,autopct='%1.2f%%')\n",
        "plt.title(\"Percentage of devices having dual sim\")\n",
        "plt.show()"
      ],
      "metadata": {
        "id": "JgscLgLztKw3",
        "colab": {
          "base_uri": "https://localhost:8080/",
          "height": 319
        },
        "outputId": "3abd0d6f-b782-4e17-d45e-a6705301ead0"
      },
      "execution_count": 13,
      "outputs": [
        {
          "output_type": "display_data",
          "data": {
            "text/plain": [
              "<Figure size 360x360 with 1 Axes>"
            ],
            "image/png": "[encoded data removed]"
          },
          "metadata": {}
        }
      ]
    },
    {
      "cell_type": "markdown",
      "source": [
        "51.14% smartphones sold have dual sim and 48.86% doesn't have it."
      ],
      "metadata": {
        "id": "i_8RLU_3tS9G"
      }
    },
    {
      "cell_type": "code",
      "source": [
        "#Percentage of devices having 4G connection\n",
        "count=data[\"four_g\"].value_counts()\n",
        "plt.figure(figsize=(5,5))\n",
        "plt.pie(count,labels=count.index,autopct='%1.2f%%')\n",
        "plt.title(\"Percentage of devices having 4G connection\")\n",
        "plt.show()"
      ],
      "metadata": {
        "id": "zCRkS3nutaC-",
        "colab": {
          "base_uri": "https://localhost:8080/",
          "height": 319
        },
        "outputId": "0ab3a8e8-510e-4c82-daa0-3eec6ecc7415"
      },
      "execution_count": 14,
      "outputs": [
        {
          "output_type": "display_data",
          "data": {
            "text/plain": [
              "<Figure size 360x360 with 1 Axes>"
            ],
            "image/png": "[encoded data removed]"
          },
          "metadata": {}
        }
      ]
    },
    {
      "cell_type": "markdown",
      "source": [
        "52.04% smartphones have 4G connection and 47.96% doesn't have it."
      ],
      "metadata": {
        "id": "MjhxmAf5tjh1"
      }
    },
    {
      "cell_type": "code",
      "source": [
        "#Percentage of devices having 3G connection\n",
        "count=data[\"three_g\"].value_counts()\n",
        "plt.figure(figsize=(5,5))\n",
        "plt.pie(count,labels=count.index,autopct='%1.2f%%')\n",
        "plt.title(\"Percentage of devices having 3G connection\")\n",
        "plt.show()"
      ],
      "metadata": {
        "id": "feK0mFCTtPu_",
        "colab": {
          "base_uri": "https://localhost:8080/",
          "height": 319
        },
        "outputId": "082c521b-6eb0-4ab8-864d-541e4cd833b0"
      },
      "execution_count": 15,
      "outputs": [
        {
          "output_type": "display_data",
          "data": {
            "text/plain": [
              "<Figure size 360x360 with 1 Axes>"
            ],
            "image/png": "[encoded data removed]"
          },
          "metadata": {}
        }
      ]
    },
    {
      "cell_type": "code",
      "source": [
        "#Percentage of devices having Touch Screen\n",
        "count=data[\"touch_screen\"].value_counts()\n",
        "plt.figure(figsize=(5,5))\n",
        "plt.pie(count,labels=count.index,autopct='%1.2f%%')\n",
        "plt.title(\"Percentage of devices having Touch Screen\")\n",
        "plt.show()"
      ],
      "metadata": {
        "id": "z_KKOh_nuPMC",
        "colab": {
          "base_uri": "https://localhost:8080/",
          "height": 319
        },
        "outputId": "58784550-e28c-4dc8-8f86-152b7c4e16ae"
      },
      "execution_count": 16,
      "outputs": [
        {
          "output_type": "display_data",
          "data": {
            "text/plain": [
              "<Figure size 360x360 with 1 Axes>"
            ],
            "image/png": "[encoded data removed]"
          },
          "metadata": {}
        }
      ]
    },
    {
      "cell_type": "markdown",
      "source": [
        "50.13% smartphones sold have Touch screen and 49.87% doesn't have it."
      ],
      "metadata": {
        "id": "fTEN56e6uZ_m"
      }
    },
    {
      "cell_type": "code",
      "source": [
        "#Percentage of devices having Wifi\n",
        "count=data[\"wifi\"].value_counts()\n",
        "plt.figure(figsize=(5,5))\n",
        "plt.pie(count,labels=count.index,autopct='%1.2f%%')\n",
        "plt.title(\"Percentage of devices having Wifi\")\n",
        "plt.show()\n"
      ],
      "metadata": {
        "id": "yel-3T25uZOj",
        "colab": {
          "base_uri": "https://localhost:8080/",
          "height": 319
        },
        "outputId": "ca2e6a4c-e53a-4814-e686-cb1db9426a54"
      },
      "execution_count": 17,
      "outputs": [
        {
          "output_type": "display_data",
          "data": {
            "text/plain": [
              "<Figure size 360x360 with 1 Axes>"
            ],
            "image/png": "[encoded data removed]"
          },
          "metadata": {}
        }
      ]
    },
    {
      "cell_type": "markdown",
      "source": [
        "50.68% of the smartphones sold have wifi and 49.32% doesn't have it."
      ],
      "metadata": {
        "id": "W4EQse5KumqC"
      }
    },
    {
      "cell_type": "code",
      "source": [
        "#Percentage of devices having different number of Cores\n",
        "count=data[\"n_cores\"].value_counts()\n",
        "plt.figure(figsize=(5,5))\n",
        "plt.pie(count,labels=count.index,autopct='%1.2f%%')\n",
        "plt.title(\"Percentage of devices having different number of Cores\")\n",
        "plt.show()\n"
      ],
      "metadata": {
        "id": "C6lKFOZTuvfz",
        "colab": {
          "base_uri": "https://localhost:8080/",
          "height": 319
        },
        "outputId": "bac68628-22a7-46d7-e8e4-84e852291a90"
      },
      "execution_count": 18,
      "outputs": [
        {
          "output_type": "display_data",
          "data": {
            "text/plain": [
              "<Figure size 360x360 with 1 Axes>"
            ],
            "image/png": "[encoded data removed]"
          },
          "metadata": {}
        }
      ]
    },
    {
      "cell_type": "markdown",
      "source": [
        "Smartphones with Quad Core are the mostly sold."
      ],
      "metadata": {
        "id": "P-qKHPoiu3fu"
      }
    },
    {
      "cell_type": "markdown",
      "source": [
        "# Bivariate Analysis"
      ],
      "metadata": {
        "id": "YGLhnSorvKe9"
      }
    },
    {
      "cell_type": "code",
      "source": [
        "plt.figure(figsize=(20,15))\n",
        "sns.heatmap(data.corr(),annot=True)\n",
        "plt.show()\n"
      ],
      "metadata": {
        "id": "-lkXbhrrvHIQ",
        "colab": {
          "base_uri": "https://localhost:8080/",
          "height": 929
        },
        "outputId": "f5f2c0a2-9715-44b0-e021-a60c6898e83b"
      },
      "execution_count": 19,
      "outputs": [
        {
          "output_type": "display_data",
          "data": {
            "text/plain": [
              "<Figure size 1440x1080 with 2 Axes>"
            ],
            "image/png": "[encoded data removed]"
          },
          "metadata": {
            "needs_background": "light"
          }
        }
      ]
    },
    {
      "cell_type": "markdown",
      "source": [
        "ram is highly correlated with price range. That is, as ram value increases price also increases. There is negative correlation between mobile weight and price range. That is, as the mobile weight increases price range decreases. "
      ],
      "metadata": {
        "id": "FN0dcBuKvj9C"
      }
    },
    {
      "cell_type": "code",
      "source": [
        "# Bivariate Analysis on features\n",
        "plt.figure()\n",
        "sns.barplot(y=\"ram\", x=\"price_range\", data=data)"
      ],
      "metadata": {
        "id": "saqA86Ipw5QZ",
        "colab": {
          "base_uri": "https://localhost:8080/",
          "height": 297
        },
        "outputId": "975ad600-df76-4a7e-a80e-3739b691a9fb"
      },
      "execution_count": 20,
      "outputs": [
        {
          "output_type": "execute_result",
          "data": {
            "text/plain": [
              "<matplotlib.axes._subplots.AxesSubplot at 0x7fc393652220>"
            ]
          },
          "metadata": {},
          "execution_count": 20
        },
        {
          "output_type": "display_data",
          "data": {
            "text/plain": [
              "<Figure size 432x288 with 1 Axes>"
            ],
            "image/png": "[encoded data removed]"
          },
          "metadata": {
            "needs_background": "light"
          }
        }
      ]
    },
    {
      "cell_type": "code",
      "source": [
        "plt.figure()\n",
        "sns.barplot(y=\"int_memory\", x=\"price_range\", data=data)"
      ],
      "metadata": {
        "id": "JW-ZGjWvw_jq",
        "colab": {
          "base_uri": "https://localhost:8080/",
          "height": 297
        },
        "outputId": "97d8bf40-586f-465b-e90c-3f232fbbe3a9"
      },
      "execution_count": 21,
      "outputs": [
        {
          "output_type": "execute_result",
          "data": {
            "text/plain": [
              "<matplotlib.axes._subplots.AxesSubplot at 0x7fc39359d670>"
            ]
          },
          "metadata": {},
          "execution_count": 21
        },
        {
          "output_type": "display_data",
          "data": {
            "text/plain": [
              "<Figure size 432x288 with 1 Axes>"
            ],
            "image/png": "[encoded data removed]"
          },
          "metadata": {
            "needs_background": "light"
          }
        }
      ]
    },
    {
      "cell_type": "code",
      "source": [
        "plt.figure()\n",
        "sns.barplot(y=\"battery_power\", x=\"price_range\", data=data)"
      ],
      "metadata": {
        "id": "0Umi1p0LxFBP",
        "colab": {
          "base_uri": "https://localhost:8080/",
          "height": 297
        },
        "outputId": "05aa13e1-fb26-4336-c7a8-7c6a941cda65"
      },
      "execution_count": 22,
      "outputs": [
        {
          "output_type": "execute_result",
          "data": {
            "text/plain": [
              "<matplotlib.axes._subplots.AxesSubplot at 0x7fc393804d90>"
            ]
          },
          "metadata": {},
          "execution_count": 22
        },
        {
          "output_type": "display_data",
          "data": {
            "text/plain": [
              "<Figure size 432x288 with 1 Axes>"
            ],
            "image/png": "[encoded data removed]"
          },
          "metadata": {
            "needs_background": "light"
          }
        }
      ]
    },
    {
      "cell_type": "code",
      "source": [
        "plt.figure()\n",
        "sns.barplot(y=\"touch_screen\", x=\"price_range\", data=data)"
      ],
      "metadata": {
        "id": "r9p_iHHpxJmt",
        "colab": {
          "base_uri": "https://localhost:8080/",
          "height": 297
        },
        "outputId": "ccad296e-458f-42b2-9324-bfa5b9f0979c"
      },
      "execution_count": 23,
      "outputs": [
        {
          "output_type": "execute_result",
          "data": {
            "text/plain": [
              "<matplotlib.axes._subplots.AxesSubplot at 0x7fc393755fd0>"
            ]
          },
          "metadata": {},
          "execution_count": 23
        },
        {
          "output_type": "display_data",
          "data": {
            "text/plain": [
              "<Figure size 432x288 with 1 Axes>"
            ],
            "image/png": "[encoded data removed]"
          },
          "metadata": {
            "needs_background": "light"
          }
        }
      ]
    },
    {
      "cell_type": "code",
      "source": [
        "plt.figure()\n",
        "sns.barplot(y=\"px_width\", x=\"price_range\", data=data)"
      ],
      "metadata": {
        "id": "Dbhk2reSxOWV",
        "colab": {
          "base_uri": "https://localhost:8080/",
          "height": 297
        },
        "outputId": "52437c83-ec50-4796-e83b-541b5e69fc8b"
      },
      "execution_count": 24,
      "outputs": [
        {
          "output_type": "execute_result",
          "data": {
            "text/plain": [
              "<matplotlib.axes._subplots.AxesSubplot at 0x7fc3934dde50>"
            ]
          },
          "metadata": {},
          "execution_count": 24
        },
        {
          "output_type": "display_data",
          "data": {
            "text/plain": [
              "<Figure size 432x288 with 1 Axes>"
            ],
            "image/png": "[encoded data removed]"
          },
          "metadata": {
            "needs_background": "light"
          }
        }
      ]
    },
    {
      "cell_type": "markdown",
      "source": [
        "# Checking outliers"
      ],
      "metadata": {
        "id": "JYB2rhi4TxL-"
      }
    },
    {
      "cell_type": "code",
      "source": [
        "#checking for outliers\n",
        "plt.figure(figsize=(16,7))\n",
        "data.boxplot()"
      ],
      "metadata": {
        "id": "Src7Vm5D3AZK",
        "colab": {
          "base_uri": "https://localhost:8080/",
          "height": 446
        },
        "outputId": "a6ae8397-41de-46c4-bb57-6476262e9afc"
      },
      "execution_count": 25,
      "outputs": [
        {
          "output_type": "execute_result",
          "data": {
            "text/plain": [
              "<matplotlib.axes._subplots.AxesSubplot at 0x7fc3933f45b0>"
            ]
          },
          "metadata": {},
          "execution_count": 25
        },
        {
          "output_type": "display_data",
          "data": {
            "text/plain": [
              "<Figure size 1152x504 with 1 Axes>"
            ],
            "image/png": "[encoded data removed]"
          },
          "metadata": {
            "needs_background": "light"
          }
        }
      ]
    },
    {
      "cell_type": "markdown",
      "source": [
        "There are only very few outliers present in the dataset.Hence it will not affect the dataset,no need of removing them."
      ],
      "metadata": {
        "id": "Ji7Kw8Q-qHZq"
      }
    },
    {
      "cell_type": "markdown",
      "source": [
        "# **Classifying the dataset into two ifferent datasets containing hardware and software requests.**"
      ],
      "metadata": {
        "id": "mJAZtcrRyqHb"
      }
    },
    {
      "cell_type": "code",
      "source": [
        "data.columns"
      ],
      "metadata": {
        "id": "radtHN8Lyd_m",
        "colab": {
          "base_uri": "https://localhost:8080/"
        },
        "outputId": "9ddfa129-9588-471c-ff58-379ce1b25f2b"
      },
      "execution_count": 26,
      "outputs": [
        {
          "output_type": "execute_result",
          "data": {
            "text/plain": [
              "Index(['battery_power', 'blue', 'clock_speed', 'dual_sim', 'fc', 'four_g',\n",
              "       'int_memory', 'm_dep', 'mobile_wt', 'n_cores', 'pc', 'px_height',\n",
              "       'px_width', 'ram', 'sc_h', 'sc_w', 'talk_time', 'three_g',\n",
              "       'touch_screen', 'wifi', 'price_range'],\n",
              "      dtype='object')"
            ]
          },
          "metadata": {},
          "execution_count": 26
        }
      ]
    },
    {
      "cell_type": "code",
      "source": [
        "data_s = data.loc[:,['battery_power','blue','four_g','mobile_wt','n_cores','px_height','px_width','price_range','talk_time','three_g','wifi','clock_speed']]\n",
        "data_s"
      ],
      "metadata": {
        "id": "90138NsVzhpy",
        "colab": {
          "base_uri": "https://localhost:8080/",
          "height": 424
        },
        "outputId": "e1625ca6-eed0-4ea5-83aa-600e25c06b43"
      },
      "execution_count": 27,
      "outputs": [
        {
          "output_type": "execute_result",
          "data": {
            "text/plain": [
              "      battery_power  blue  four_g  mobile_wt  n_cores  px_height  px_width  \\\n",
              "0               842     0       0        188        2         20       756   \n",
              "1              1021     1       1        136        3        905      1988   \n",
              "2               563     1       1        145        5       1263      1716   \n",
              "3               615     1       0        131        6       1216      1786   \n",
              "4              1821     1       1        141        2       1208      1212   \n",
              "...             ...   ...     ...        ...      ...        ...       ...   \n",
              "1995            794     1       1        106        6       1222      1890   \n",
              "1996           1965     1       0        187        4        915      1965   \n",
              "1997           1911     0       1        108        8        868      1632   \n",
              "1998           1512     0       1        145        5        336       670   \n",
              "1999            510     1       1        168        6        483       754   \n",
              "\n",
              "      price_range  talk_time  three_g  wifi  clock_speed  \n",
              "0               1         19        0     1          2.2  \n",
              "1               2          7        1     0          0.5  \n",
              "2               2          9        1     0          0.5  \n",
              "3               2         11        1     0          2.5  \n",
              "4               1         15        1     0          1.2  \n",
              "...           ...        ...      ...   ...          ...  \n",
              "1995            0         19        1     0          0.5  \n",
              "1996            2         16        1     1          2.6  \n",
              "1997            3          5        1     0          0.9  \n",
              "1998            0         19        1     1          0.9  \n",
              "1999            3          2        1     1          2.0  \n",
              "\n",
              "[2000 rows x 12 columns]"
            ],
            "text/html": [
              "\n",
              "  <div id=\"df-6a81c0c4-155f-403e-a8b7-e124f6b819ef\">\n",
              "    <div class=\"colab-df-container\">\n",
              "      <div>\n",
              "<style scoped>\n",
              "    .dataframe tbody tr th:only-of-type {\n",
              "        vertical-align: middle;\n",
              "    }\n",
              "\n",
              "    .dataframe tbody tr th {\n",
              "        vertical-align: top;\n",
              "    }\n",
              "\n",
              "    .dataframe thead th {\n",
              "        text-align: right;\n",
              "    }\n",
              "</style>\n",
              "<table border=\"1\" class=\"dataframe\">\n",
              "  <thead>\n",
              "    <tr style=\"text-align: right;\">\n",
              "      <th></th>\n",
              "      <th>battery_power</th>\n",
              "      <th>blue</th>\n",
              "      <th>four_g</th>\n",
              "      <th>mobile_wt</th>\n",
              "      <th>n_cores</th>\n",
              "      <th>px_height</th>\n",
              "      <th>px_width</th>\n",
              "      <th>price_range</th>\n",
              "      <th>talk_time</th>\n",
              "      <th>three_g</th>\n",
              "      <th>wifi</th>\n",
              "      <th>clock_speed</th>\n",
              "    </tr>\n",
              "  </thead>\n",
              "  <tbody>\n",
              "    <tr>\n",
              "      <th>0</th>\n",
              "      <td>842</td>\n",
              "      <td>0</td>\n",
              "      <td>0</td>\n",
              "      <td>188</td>\n",
              "      <td>2</td>\n",
              "      <td>20</td>\n",
              "      <td>756</td>\n",
              "      <td>1</td>\n",
              "      <td>19</td>\n",
              "      <td>0</td>\n",
              "      <td>1</td>\n",
              "      <td>2.2</td>\n",
              "    </tr>\n",
              "    <tr>\n",
              "      <th>1</th>\n",
              "      <td>1021</td>\n",
              "      <td>1</td>\n",
              "      <td>1</td>\n",
              "      <td>136</td>\n",
              "      <td>3</td>\n",
              "      <td>905</td>\n",
              "      <td>1988</td>\n",
              "      <td>2</td>\n",
              "      <td>7</td>\n",
              "      <td>1</td>\n",
              "      <td>0</td>\n",
              "      <td>0.5</td>\n",
              "    </tr>\n",
              "    <tr>\n",
              "      <th>2</th>\n",
              "      <td>563</td>\n",
              "      <td>1</td>\n",
              "      <td>1</td>\n",
              "      <td>145</td>\n",
              "      <td>5</td>\n",
              "      <td>1263</td>\n",
              "      <td>1716</td>\n",
              "      <td>2</td>\n",
              "      <td>9</td>\n",
              "      <td>1</td>\n",
              "      <td>0</td>\n",
              "      <td>0.5</td>\n",
              "    </tr>\n",
              "    <tr>\n",
              "      <th>3</th>\n",
              "      <td>615</td>\n",
              "      <td>1</td>\n",
              "      <td>0</td>\n",
              "      <td>131</td>\n",
              "      <td>6</td>\n",
              "      <td>1216</td>\n",
              "      <td>1786</td>\n",
              "      <td>2</td>\n",
              "      <td>11</td>\n",
              "      <td>1</td>\n",
              "      <td>0</td>\n",
              "      <td>2.5</td>\n",
              "    </tr>\n",
              "    <tr>\n",
              "      <th>4</th>\n",
              "      <td>1821</td>\n",
              "      <td>1</td>\n",
              "      <td>1</td>\n",
              "      <td>141</td>\n",
              "      <td>2</td>\n",
              "      <td>1208</td>\n",
              "      <td>1212</td>\n",
              "      <td>1</td>\n",
              "      <td>15</td>\n",
              "      <td>1</td>\n",
              "      <td>0</td>\n",
              "      <td>1.2</td>\n",
              "    </tr>\n",
              "    <tr>\n",
              "      <th>...</th>\n",
              "      <td>...</td>\n",
              "      <td>...</td>\n",
              "      <td>...</td>\n",
              "      <td>...</td>\n",
              "      <td>...</td>\n",
              "      <td>...</td>\n",
              "      <td>...</td>\n",
              "      <td>...</td>\n",
              "      <td>...</td>\n",
              "      <td>...</td>\n",
              "      <td>...</td>\n",
              "      <td>...</td>\n",
              "    </tr>\n",
              "    <tr>\n",
              "      <th>1995</th>\n",
              "      <td>794</td>\n",
              "      <td>1</td>\n",
              "      <td>1</td>\n",
              "      <td>106</td>\n",
              "      <td>6</td>\n",
              "      <td>1222</td>\n",
              "      <td>1890</td>\n",
              "      <td>0</td>\n",
              "      <td>19</td>\n",
              "      <td>1</td>\n",
              "      <td>0</td>\n",
              "      <td>0.5</td>\n",
              "    </tr>\n",
              "    <tr>\n",
              "      <th>1996</th>\n",
              "      <td>1965</td>\n",
              "      <td>1</td>\n",
              "      <td>0</td>\n",
              "      <td>187</td>\n",
              "      <td>4</td>\n",
              "      <td>915</td>\n",
              "      <td>1965</td>\n",
              "      <td>2</td>\n",
              "      <td>16</td>\n",
              "      <td>1</td>\n",
              "      <td>1</td>\n",
              "      <td>2.6</td>\n",
              "    </tr>\n",
              "    <tr>\n",
              "      <th>1997</th>\n",
              "      <td>1911</td>\n",
              "      <td>0</td>\n",
              "      <td>1</td>\n",
              "      <td>108</td>\n",
              "      <td>8</td>\n",
              "      <td>868</td>\n",
              "      <td>1632</td>\n",
              "      <td>3</td>\n",
              "      <td>5</td>\n",
              "      <td>1</td>\n",
              "      <td>0</td>\n",
              "      <td>0.9</td>\n",
              "    </tr>\n",
              "    <tr>\n",
              "      <th>1998</th>\n",
              "      <td>1512</td>\n",
              "      <td>0</td>\n",
              "      <td>1</td>\n",
              "      <td>145</td>\n",
              "      <td>5</td>\n",
              "      <td>336</td>\n",
              "      <td>670</td>\n",
              "      <td>0</td>\n",
              "      <td>19</td>\n",
              "      <td>1</td>\n",
              "      <td>1</td>\n",
              "      <td>0.9</td>\n",
              "    </tr>\n",
              "    <tr>\n",
              "      <th>1999</th>\n",
              "      <td>510</td>\n",
              "      <td>1</td>\n",
              "      <td>1</td>\n",
              "      <td>168</td>\n",
              "      <td>6</td>\n",
              "      <td>483</td>\n",
              "      <td>754</td>\n",
              "      <td>3</td>\n",
              "      <td>2</td>\n",
              "      <td>1</td>\n",
              "      <td>1</td>\n",
              "      <td>2.0</td>\n",
              "    </tr>\n",
              "  </tbody>\n",
              "</table>\n",
              "<p>2000 rows × 12 columns</p>\n",
              "</div>\n",
              "      <button class=\"colab-df-convert\" onclick=\"convertToInteractive('df-6a81c0c4-155f-403e-a8b7-e124f6b819ef')\"\n",
              "              title=\"Convert this dataframe to an interactive table.\"\n",
              "              style=\"display:none;\">\n",
              "        \n",
              "  <svg xmlns=\"http://www.w3.org/2000/svg\" height=\"24px\"viewBox=\"0 0 24 24\"\n",
              "       width=\"24px\">\n",
              "    <path d=\"M0 0h24v24H0V0z\" fill=\"none\"/>\n",
              "    <path d=\"M18.56 5.44l.94 2.06.94-2.06 2.06-.94-2.06-.94-.94-2.06-.94 2.06-2.06.94zm-11 1L8.5 8.5l.94-2.06 2.06-.94-2.06-.94L8.5 2.5l-.94 2.06-2.06.94zm10 10l.94 2.06.94-2.06 2.06-.94-2.06-.94-.94-2.06-.94 2.06-2.06.94z\"/><path d=\"M17.41 7.96l-1.37-1.37c-.4-.4-.92-.59-1.43-.59-.52 0-1.04.2-1.43.59L10.3 9.45l-7.72 7.72c-.78.78-.78 2.05 0 2.83L4 21.41c.39.39.9.59 1.41.59.51 0 1.02-.2 1.41-.59l7.78-7.78 2.81-2.81c.8-.78.8-2.07 0-2.86zM5.41 20L4 18.59l7.72-7.72 1.47 1.35L5.41 20z\"/>\n",
              "  </svg>\n",
              "      </button>\n",
              "      \n",
              "  <style>\n",
              "    .colab-df-container {\n",
              "      display:flex;\n",
              "      flex-wrap:wrap;\n",
              "      gap: 12px;\n",
              "    }\n",
              "\n",
              "    .colab-df-convert {\n",
              "      background-color: #E8F0FE;\n",
              "      border: none;\n",
              "      border-radius: 50%;\n",
              "      cursor: pointer;\n",
              "      display: none;\n",
              "      fill: #1967D2;\n",
              "      height: 32px;\n",
              "      padding: 0 0 0 0;\n",
              "      width: 32px;\n",
              "    }\n",
              "\n",
              "    .colab-df-convert:hover {\n",
              "      background-color: #E2EBFA;\n",
              "      box-shadow: 0px 1px 2px rgba(60, 64, 67, 0.3), 0px 1px 3px 1px rgba(60, 64, 67, 0.15);\n",
              "      fill: #174EA6;\n",
              "    }\n",
              "\n",
              "    [theme=dark] .colab-df-convert {\n",
              "      background-color: #3B4455;\n",
              "      fill: #D2E3FC;\n",
              "    }\n",
              "\n",
              "    [theme=dark] .colab-df-convert:hover {\n",
              "      background-color: #434B5C;\n",
              "      box-shadow: 0px 1px 3px 1px rgba(0, 0, 0, 0.15);\n",
              "      filter: drop-shadow(0px 1px 2px rgba(0, 0, 0, 0.3));\n",
              "      fill: #FFFFFF;\n",
              "    }\n",
              "  </style>\n",
              "\n",
              "      <script>\n",
              "        const buttonEl =\n",
              "          document.querySelector('#df-6a81c0c4-155f-403e-a8b7-e124f6b819ef button.colab-df-convert');\n",
              "        buttonEl.style.display =\n",
              "          google.colab.kernel.accessAllowed ? 'block' : 'none';\n",
              "\n",
              "        async function convertToInteractive(key) {\n",
              "          const element = document.querySelector('#df-6a81c0c4-155f-403e-a8b7-e124f6b819ef');\n",
              "          const dataTable =\n",
              "            await google.colab.kernel.invokeFunction('convertToInteractive',\n",
              "                                                     [key], {});\n",
              "          if (!dataTable) return;\n",
              "\n",
              "          const docLinkHtml = 'Like what you see? Visit the ' +\n",
              "            '<a target=\"_blank\" href=https://colab.research.google.com/notebooks/data_table.ipynb>data table notebook</a>'\n",
              "            + ' to learn more about interactive tables.';\n",
              "          element.innerHTML = '';\n",
              "          dataTable['output_type'] = 'display_data';\n",
              "          await google.colab.output.renderOutput(dataTable, element);\n",
              "          const docLink = document.createElement('div');\n",
              "          docLink.innerHTML = docLinkHtml;\n",
              "          element.appendChild(docLink);\n",
              "        }\n",
              "      </script>\n",
              "    </div>\n",
              "  </div>\n",
              "  "
            ]
          },
          "metadata": {},
          "execution_count": 27
        }
      ]
    },
    {
      "cell_type": "code",
      "source": [
        "data_h = data.loc[:,['dual_sim','fc','m_dep','int_memory','pc','ram','sc_h','sc_w','touch_screen']]\n",
        "data_h"
      ],
      "metadata": {
        "id": "AC9wwmXgeb2V",
        "colab": {
          "base_uri": "https://localhost:8080/",
          "height": 424
        },
        "outputId": "eea35246-752e-41c1-d6a0-cbcac0871757"
      },
      "execution_count": 28,
      "outputs": [
        {
          "output_type": "execute_result",
          "data": {
            "text/plain": [
              "      dual_sim  fc  m_dep  int_memory  pc   ram  sc_h  sc_w  touch_screen\n",
              "0            0   1    0.6           7   2  2549     9     7             0\n",
              "1            1   0    0.7          53   6  2631    17     3             1\n",
              "2            1   2    0.9          41   6  2603    11     2             1\n",
              "3            0   0    0.8          10   9  2769    16     8             0\n",
              "4            0  13    0.6          44  14  1411     8     2             1\n",
              "...        ...  ..    ...         ...  ..   ...   ...   ...           ...\n",
              "1995         1   0    0.8           2  14   668    13     4             1\n",
              "1996         1   0    0.2          39   3  2032    11    10             1\n",
              "1997         1   1    0.7          36   3  3057     9     1             1\n",
              "1998         0   4    0.1          46   5   869    18    10             1\n",
              "1999         1   5    0.9          45  16  3919    19     4             1\n",
              "\n",
              "[2000 rows x 9 columns]"
            ],
            "text/html": [
              "\n",
              "  <div id=\"df-8db4e37d-1486-4992-88fc-691c2b6bb35a\">\n",
              "    <div class=\"colab-df-container\">\n",
              "      <div>\n",
              "<style scoped>\n",
              "    .dataframe tbody tr th:only-of-type {\n",
              "        vertical-align: middle;\n",
              "    }\n",
              "\n",
              "    .dataframe tbody tr th {\n",
              "        vertical-align: top;\n",
              "    }\n",
              "\n",
              "    .dataframe thead th {\n",
              "        text-align: right;\n",
              "    }\n",
              "</style>\n",
              "<table border=\"1\" class=\"dataframe\">\n",
              "  <thead>\n",
              "    <tr style=\"text-align: right;\">\n",
              "      <th></th>\n",
              "      <th>dual_sim</th>\n",
              "      <th>fc</th>\n",
              "      <th>m_dep</th>\n",
              "      <th>int_memory</th>\n",
              "      <th>pc</th>\n",
              "      <th>ram</th>\n",
              "      <th>sc_h</th>\n",
              "      <th>sc_w</th>\n",
              "      <th>touch_screen</th>\n",
              "    </tr>\n",
              "  </thead>\n",
              "  <tbody>\n",
              "    <tr>\n",
              "      <th>0</th>\n",
              "      <td>0</td>\n",
              "      <td>1</td>\n",
              "      <td>0.6</td>\n",
              "      <td>7</td>\n",
              "      <td>2</td>\n",
              "      <td>2549</td>\n",
              "      <td>9</td>\n",
              "      <td>7</td>\n",
              "      <td>0</td>\n",
              "    </tr>\n",
              "    <tr>\n",
              "      <th>1</th>\n",
              "      <td>1</td>\n",
              "      <td>0</td>\n",
              "      <td>0.7</td>\n",
              "      <td>53</td>\n",
              "      <td>6</td>\n",
              "      <td>2631</td>\n",
              "      <td>17</td>\n",
              "      <td>3</td>\n",
              "      <td>1</td>\n",
              "    </tr>\n",
              "    <tr>\n",
              "      <th>2</th>\n",
              "      <td>1</td>\n",
              "      <td>2</td>\n",
              "      <td>0.9</td>\n",
              "      <td>41</td>\n",
              "      <td>6</td>\n",
              "      <td>2603</td>\n",
              "      <td>11</td>\n",
              "      <td>2</td>\n",
              "      <td>1</td>\n",
              "    </tr>\n",
              "    <tr>\n",
              "      <th>3</th>\n",
              "      <td>0</td>\n",
              "      <td>0</td>\n",
              "      <td>0.8</td>\n",
              "      <td>10</td>\n",
              "      <td>9</td>\n",
              "      <td>2769</td>\n",
              "      <td>16</td>\n",
              "      <td>8</td>\n",
              "      <td>0</td>\n",
              "    </tr>\n",
              "    <tr>\n",
              "      <th>4</th>\n",
              "      <td>0</td>\n",
              "      <td>13</td>\n",
              "      <td>0.6</td>\n",
              "      <td>44</td>\n",
              "      <td>14</td>\n",
              "      <td>1411</td>\n",
              "      <td>8</td>\n",
              "      <td>2</td>\n",
              "      <td>1</td>\n",
              "    </tr>\n",
              "    <tr>\n",
              "      <th>...</th>\n",
              "      <td>...</td>\n",
              "      <td>...</td>\n",
              "      <td>...</td>\n",
              "      <td>...</td>\n",
              "      <td>...</td>\n",
              "      <td>...</td>\n",
              "      <td>...</td>\n",
              "      <td>...</td>\n",
              "      <td>...</td>\n",
              "    </tr>\n",
              "    <tr>\n",
              "      <th>1995</th>\n",
              "      <td>1</td>\n",
              "      <td>0</td>\n",
              "      <td>0.8</td>\n",
              "      <td>2</td>\n",
              "      <td>14</td>\n",
              "      <td>668</td>\n",
              "      <td>13</td>\n",
              "      <td>4</td>\n",
              "      <td>1</td>\n",
              "    </tr>\n",
              "    <tr>\n",
              "      <th>1996</th>\n",
              "      <td>1</td>\n",
              "      <td>0</td>\n",
              "      <td>0.2</td>\n",
              "      <td>39</td>\n",
              "      <td>3</td>\n",
              "      <td>2032</td>\n",
              "      <td>11</td>\n",
              "      <td>10</td>\n",
              "      <td>1</td>\n",
              "    </tr>\n",
              "    <tr>\n",
              "      <th>1997</th>\n",
              "      <td>1</td>\n",
              "      <td>1</td>\n",
              "      <td>0.7</td>\n",
              "      <td>36</td>\n",
              "      <td>3</td>\n",
              "      <td>3057</td>\n",
              "      <td>9</td>\n",
              "      <td>1</td>\n",
              "      <td>1</td>\n",
              "    </tr>\n",
              "    <tr>\n",
              "      <th>1998</th>\n",
              "      <td>0</td>\n",
              "      <td>4</td>\n",
              "      <td>0.1</td>\n",
              "      <td>46</td>\n",
              "      <td>5</td>\n",
              "      <td>869</td>\n",
              "      <td>18</td>\n",
              "      <td>10</td>\n",
              "      <td>1</td>\n",
              "    </tr>\n",
              "    <tr>\n",
              "      <th>1999</th>\n",
              "      <td>1</td>\n",
              "      <td>5</td>\n",
              "      <td>0.9</td>\n",
              "      <td>45</td>\n",
              "      <td>16</td>\n",
              "      <td>3919</td>\n",
              "      <td>19</td>\n",
              "      <td>4</td>\n",
              "      <td>1</td>\n",
              "    </tr>\n",
              "  </tbody>\n",
              "</table>\n",
              "<p>2000 rows × 9 columns</p>\n",
              "</div>\n",
              "      <button class=\"colab-df-convert\" onclick=\"convertToInteractive('df-8db4e37d-1486-4992-88fc-691c2b6bb35a')\"\n",
              "              title=\"Convert this dataframe to an interactive table.\"\n",
              "              style=\"display:none;\">\n",
              "        \n",
              "  <svg xmlns=\"http://www.w3.org/2000/svg\" height=\"24px\"viewBox=\"0 0 24 24\"\n",
              "       width=\"24px\">\n",
              "    <path d=\"M0 0h24v24H0V0z\" fill=\"none\"/>\n",
              "    <path d=\"M18.56 5.44l.94 2.06.94-2.06 2.06-.94-2.06-.94-.94-2.06-.94 2.06-2.06.94zm-11 1L8.5 8.5l.94-2.06 2.06-.94-2.06-.94L8.5 2.5l-.94 2.06-2.06.94zm10 10l.94 2.06.94-2.06 2.06-.94-2.06-.94-.94-2.06-.94 2.06-2.06.94z\"/><path d=\"M17.41 7.96l-1.37-1.37c-.4-.4-.92-.59-1.43-.59-.52 0-1.04.2-1.43.59L10.3 9.45l-7.72 7.72c-.78.78-.78 2.05 0 2.83L4 21.41c.39.39.9.59 1.41.59.51 0 1.02-.2 1.41-.59l7.78-7.78 2.81-2.81c.8-.78.8-2.07 0-2.86zM5.41 20L4 18.59l7.72-7.72 1.47 1.35L5.41 20z\"/>\n",
              "  </svg>\n",
              "      </button>\n",
              "      \n",
              "  <style>\n",
              "    .colab-df-container {\n",
              "      display:flex;\n",
              "      flex-wrap:wrap;\n",
              "      gap: 12px;\n",
              "    }\n",
              "\n",
              "    .colab-df-convert {\n",
              "      background-color: #E8F0FE;\n",
              "      border: none;\n",
              "      border-radius: 50%;\n",
              "      cursor: pointer;\n",
              "      display: none;\n",
              "      fill: #1967D2;\n",
              "      height: 32px;\n",
              "      padding: 0 0 0 0;\n",
              "      width: 32px;\n",
              "    }\n",
              "\n",
              "    .colab-df-convert:hover {\n",
              "      background-color: #E2EBFA;\n",
              "      box-shadow: 0px 1px 2px rgba(60, 64, 67, 0.3), 0px 1px 3px 1px rgba(60, 64, 67, 0.15);\n",
              "      fill: #174EA6;\n",
              "    }\n",
              "\n",
              "    [theme=dark] .colab-df-convert {\n",
              "      background-color: #3B4455;\n",
              "      fill: #D2E3FC;\n",
              "    }\n",
              "\n",
              "    [theme=dark] .colab-df-convert:hover {\n",
              "      background-color: #434B5C;\n",
              "      box-shadow: 0px 1px 3px 1px rgba(0, 0, 0, 0.15);\n",
              "      filter: drop-shadow(0px 1px 2px rgba(0, 0, 0, 0.3));\n",
              "      fill: #FFFFFF;\n",
              "    }\n",
              "  </style>\n",
              "\n",
              "      <script>\n",
              "        const buttonEl =\n",
              "          document.querySelector('#df-8db4e37d-1486-4992-88fc-691c2b6bb35a button.colab-df-convert');\n",
              "        buttonEl.style.display =\n",
              "          google.colab.kernel.accessAllowed ? 'block' : 'none';\n",
              "\n",
              "        async function convertToInteractive(key) {\n",
              "          const element = document.querySelector('#df-8db4e37d-1486-4992-88fc-691c2b6bb35a');\n",
              "          const dataTable =\n",
              "            await google.colab.kernel.invokeFunction('convertToInteractive',\n",
              "                                                     [key], {});\n",
              "          if (!dataTable) return;\n",
              "\n",
              "          const docLinkHtml = 'Like what you see? Visit the ' +\n",
              "            '<a target=\"_blank\" href=https://colab.research.google.com/notebooks/data_table.ipynb>data table notebook</a>'\n",
              "            + ' to learn more about interactive tables.';\n",
              "          element.innerHTML = '';\n",
              "          dataTable['output_type'] = 'display_data';\n",
              "          await google.colab.output.renderOutput(dataTable, element);\n",
              "          const docLink = document.createElement('div');\n",
              "          docLink.innerHTML = docLinkHtml;\n",
              "          element.appendChild(docLink);\n",
              "        }\n",
              "      </script>\n",
              "    </div>\n",
              "  </div>\n",
              "  "
            ]
          },
          "metadata": {},
          "execution_count": 28
        }
      ]
    },
    {
      "cell_type": "markdown",
      "source": [
        "# Merging the classified datasets"
      ],
      "metadata": {
        "id": "2deFXgHniExE"
      }
    },
    {
      "cell_type": "code",
      "source": [
        "data_mer= pd.concat([data_s, data_h], axis=1)\n",
        "data_mer.head(5)"
      ],
      "metadata": {
        "id": "b1qiqblmh3FS",
        "colab": {
          "base_uri": "https://localhost:8080/",
          "height": 280
        },
        "outputId": "c7ab3375-d98e-4956-b4ad-401e0348a466"
      },
      "execution_count": 29,
      "outputs": [
        {
          "output_type": "execute_result",
          "data": {
            "text/plain": [
              "   battery_power  blue  four_g  mobile_wt  n_cores  px_height  px_width  \\\n",
              "0            842     0       0        188        2         20       756   \n",
              "1           1021     1       1        136        3        905      1988   \n",
              "2            563     1       1        145        5       1263      1716   \n",
              "3            615     1       0        131        6       1216      1786   \n",
              "4           1821     1       1        141        2       1208      1212   \n",
              "\n",
              "   price_range  talk_time  three_g  ...  clock_speed  dual_sim  fc  m_dep  \\\n",
              "0            1         19        0  ...          2.2         0   1    0.6   \n",
              "1            2          7        1  ...          0.5         1   0    0.7   \n",
              "2            2          9        1  ...          0.5         1   2    0.9   \n",
              "3            2         11        1  ...          2.5         0   0    0.8   \n",
              "4            1         15        1  ...          1.2         0  13    0.6   \n",
              "\n",
              "   int_memory  pc   ram  sc_h  sc_w  touch_screen  \n",
              "0           7   2  2549     9     7             0  \n",
              "1          53   6  2631    17     3             1  \n",
              "2          41   6  2603    11     2             1  \n",
              "3          10   9  2769    16     8             0  \n",
              "4          44  14  1411     8     2             1  \n",
              "\n",
              "[5 rows x 21 columns]"
            ],
            "text/html": [
              "\n",
              "  <div id=\"df-9cb6329f-e892-4d30-b033-cc07a5398b16\">\n",
              "    <div class=\"colab-df-container\">\n",
              "      <div>\n",
              "<style scoped>\n",
              "    .dataframe tbody tr th:only-of-type {\n",
              "        vertical-align: middle;\n",
              "    }\n",
              "\n",
              "    .dataframe tbody tr th {\n",
              "        vertical-align: top;\n",
              "    }\n",
              "\n",
              "    .dataframe thead th {\n",
              "        text-align: right;\n",
              "    }\n",
              "</style>\n",
              "<table border=\"1\" class=\"dataframe\">\n",
              "  <thead>\n",
              "    <tr style=\"text-align: right;\">\n",
              "      <th></th>\n",
              "      <th>battery_power</th>\n",
              "      <th>blue</th>\n",
              "      <th>four_g</th>\n",
              "      <th>mobile_wt</th>\n",
              "      <th>n_cores</th>\n",
              "      <th>px_height</th>\n",
              "      <th>px_width</th>\n",
              "      <th>price_range</th>\n",
              "      <th>talk_time</th>\n",
              "      <th>three_g</th>\n",
              "      <th>...</th>\n",
              "      <th>clock_speed</th>\n",
              "      <th>dual_sim</th>\n",
              "      <th>fc</th>\n",
              "      <th>m_dep</th>\n",
              "      <th>int_memory</th>\n",
              "      <th>pc</th>\n",
              "      <th>ram</th>\n",
              "      <th>sc_h</th>\n",
              "      <th>sc_w</th>\n",
              "      <th>touch_screen</th>\n",
              "    </tr>\n",
              "  </thead>\n",
              "  <tbody>\n",
              "    <tr>\n",
              "      <th>0</th>\n",
              "      <td>842</td>\n",
              "      <td>0</td>\n",
              "      <td>0</td>\n",
              "      <td>188</td>\n",
              "      <td>2</td>\n",
              "      <td>20</td>\n",
              "      <td>756</td>\n",
              "      <td>1</td>\n",
              "      <td>19</td>\n",
              "      <td>0</td>\n",
              "      <td>...</td>\n",
              "      <td>2.2</td>\n",
              "      <td>0</td>\n",
              "      <td>1</td>\n",
              "      <td>0.6</td>\n",
              "      <td>7</td>\n",
              "      <td>2</td>\n",
              "      <td>2549</td>\n",
              "      <td>9</td>\n",
              "      <td>7</td>\n",
              "      <td>0</td>\n",
              "    </tr>\n",
              "    <tr>\n",
              "      <th>1</th>\n",
              "      <td>1021</td>\n",
              "      <td>1</td>\n",
              "      <td>1</td>\n",
              "      <td>136</td>\n",
              "      <td>3</td>\n",
              "      <td>905</td>\n",
              "      <td>1988</td>\n",
              "      <td>2</td>\n",
              "      <td>7</td>\n",
              "      <td>1</td>\n",
              "      <td>...</td>\n",
              "      <td>0.5</td>\n",
              "      <td>1</td>\n",
              "      <td>0</td>\n",
              "      <td>0.7</td>\n",
              "      <td>53</td>\n",
              "      <td>6</td>\n",
              "      <td>2631</td>\n",
              "      <td>17</td>\n",
              "      <td>3</td>\n",
              "      <td>1</td>\n",
              "    </tr>\n",
              "    <tr>\n",
              "      <th>2</th>\n",
              "      <td>563</td>\n",
              "      <td>1</td>\n",
              "      <td>1</td>\n",
              "      <td>145</td>\n",
              "      <td>5</td>\n",
              "      <td>1263</td>\n",
              "      <td>1716</td>\n",
              "      <td>2</td>\n",
              "      <td>9</td>\n",
              "      <td>1</td>\n",
              "      <td>...</td>\n",
              "      <td>0.5</td>\n",
              "      <td>1</td>\n",
              "      <td>2</td>\n",
              "      <td>0.9</td>\n",
              "      <td>41</td>\n",
              "      <td>6</td>\n",
              "      <td>2603</td>\n",
              "      <td>11</td>\n",
              "      <td>2</td>\n",
              "      <td>1</td>\n",
              "    </tr>\n",
              "    <tr>\n",
              "      <th>3</th>\n",
              "      <td>615</td>\n",
              "      <td>1</td>\n",
              "      <td>0</td>\n",
              "      <td>131</td>\n",
              "      <td>6</td>\n",
              "      <td>1216</td>\n",
              "      <td>1786</td>\n",
              "      <td>2</td>\n",
              "      <td>11</td>\n",
              "      <td>1</td>\n",
              "      <td>...</td>\n",
              "      <td>2.5</td>\n",
              "      <td>0</td>\n",
              "      <td>0</td>\n",
              "      <td>0.8</td>\n",
              "      <td>10</td>\n",
              "      <td>9</td>\n",
              "      <td>2769</td>\n",
              "      <td>16</td>\n",
              "      <td>8</td>\n",
              "      <td>0</td>\n",
              "    </tr>\n",
              "    <tr>\n",
              "      <th>4</th>\n",
              "      <td>1821</td>\n",
              "      <td>1</td>\n",
              "      <td>1</td>\n",
              "      <td>141</td>\n",
              "      <td>2</td>\n",
              "      <td>1208</td>\n",
              "      <td>1212</td>\n",
              "      <td>1</td>\n",
              "      <td>15</td>\n",
              "      <td>1</td>\n",
              "      <td>...</td>\n",
              "      <td>1.2</td>\n",
              "      <td>0</td>\n",
              "      <td>13</td>\n",
              "      <td>0.6</td>\n",
              "      <td>44</td>\n",
              "      <td>14</td>\n",
              "      <td>1411</td>\n",
              "      <td>8</td>\n",
              "      <td>2</td>\n",
              "      <td>1</td>\n",
              "    </tr>\n",
              "  </tbody>\n",
              "</table>\n",
              "<p>5 rows × 21 columns</p>\n",
              "</div>\n",
              "      <button class=\"colab-df-convert\" onclick=\"convertToInteractive('df-9cb6329f-e892-4d30-b033-cc07a5398b16')\"\n",
              "              title=\"Convert this dataframe to an interactive table.\"\n",
              "              style=\"display:none;\">\n",
              "        \n",
              "  <svg xmlns=\"http://www.w3.org/2000/svg\" height=\"24px\"viewBox=\"0 0 24 24\"\n",
              "       width=\"24px\">\n",
              "    <path d=\"M0 0h24v24H0V0z\" fill=\"none\"/>\n",
              "    <path d=\"M18.56 5.44l.94 2.06.94-2.06 2.06-.94-2.06-.94-.94-2.06-.94 2.06-2.06.94zm-11 1L8.5 8.5l.94-2.06 2.06-.94-2.06-.94L8.5 2.5l-.94 2.06-2.06.94zm10 10l.94 2.06.94-2.06 2.06-.94-2.06-.94-.94-2.06-.94 2.06-2.06.94z\"/><path d=\"M17.41 7.96l-1.37-1.37c-.4-.4-.92-.59-1.43-.59-.52 0-1.04.2-1.43.59L10.3 9.45l-7.72 7.72c-.78.78-.78 2.05 0 2.83L4 21.41c.39.39.9.59 1.41.59.51 0 1.02-.2 1.41-.59l7.78-7.78 2.81-2.81c.8-.78.8-2.07 0-2.86zM5.41 20L4 18.59l7.72-7.72 1.47 1.35L5.41 20z\"/>\n",
              "  </svg>\n",
              "      </button>\n",
              "      \n",
              "  <style>\n",
              "    .colab-df-container {\n",
              "      display:flex;\n",
              "      flex-wrap:wrap;\n",
              "      gap: 12px;\n",
              "    }\n",
              "\n",
              "    .colab-df-convert {\n",
              "      background-color: #E8F0FE;\n",
              "      border: none;\n",
              "      border-radius: 50%;\n",
              "      cursor: pointer;\n",
              "      display: none;\n",
              "      fill: #1967D2;\n",
              "      height: 32px;\n",
              "      padding: 0 0 0 0;\n",
              "      width: 32px;\n",
              "    }\n",
              "\n",
              "    .colab-df-convert:hover {\n",
              "      background-color: #E2EBFA;\n",
              "      box-shadow: 0px 1px 2px rgba(60, 64, 67, 0.3), 0px 1px 3px 1px rgba(60, 64, 67, 0.15);\n",
              "      fill: #174EA6;\n",
              "    }\n",
              "\n",
              "    [theme=dark] .colab-df-convert {\n",
              "      background-color: #3B4455;\n",
              "      fill: #D2E3FC;\n",
              "    }\n",
              "\n",
              "    [theme=dark] .colab-df-convert:hover {\n",
              "      background-color: #434B5C;\n",
              "      box-shadow: 0px 1px 3px 1px rgba(0, 0, 0, 0.15);\n",
              "      filter: drop-shadow(0px 1px 2px rgba(0, 0, 0, 0.3));\n",
              "      fill: #FFFFFF;\n",
              "    }\n",
              "  </style>\n",
              "\n",
              "      <script>\n",
              "        const buttonEl =\n",
              "          document.querySelector('#df-9cb6329f-e892-4d30-b033-cc07a5398b16 button.colab-df-convert');\n",
              "        buttonEl.style.display =\n",
              "          google.colab.kernel.accessAllowed ? 'block' : 'none';\n",
              "\n",
              "        async function convertToInteractive(key) {\n",
              "          const element = document.querySelector('#df-9cb6329f-e892-4d30-b033-cc07a5398b16');\n",
              "          const dataTable =\n",
              "            await google.colab.kernel.invokeFunction('convertToInteractive',\n",
              "                                                     [key], {});\n",
              "          if (!dataTable) return;\n",
              "\n",
              "          const docLinkHtml = 'Like what you see? Visit the ' +\n",
              "            '<a target=\"_blank\" href=https://colab.research.google.com/notebooks/data_table.ipynb>data table notebook</a>'\n",
              "            + ' to learn more about interactive tables.';\n",
              "          element.innerHTML = '';\n",
              "          dataTable['output_type'] = 'display_data';\n",
              "          await google.colab.output.renderOutput(dataTable, element);\n",
              "          const docLink = document.createElement('div');\n",
              "          docLink.innerHTML = docLinkHtml;\n",
              "          element.appendChild(docLink);\n",
              "        }\n",
              "      </script>\n",
              "    </div>\n",
              "  </div>\n",
              "  "
            ]
          },
          "metadata": {},
          "execution_count": 29
        }
      ]
    },
    {
      "cell_type": "markdown",
      "source": [
        "# **Feature scaling**"
      ],
      "metadata": {
        "id": "-FkndUt5-Itw"
      }
    },
    {
      "cell_type": "code",
      "source": [
        "x=data.drop(\"price_range\", axis=1)\n",
        "y=data[\"price_range\"]"
      ],
      "metadata": {
        "id": "sMLoN7QI-NUZ"
      },
      "execution_count": 30,
      "outputs": []
    },
    {
      "cell_type": "code",
      "source": [
        "# Feature selection\n",
        "\n",
        "from sklearn.feature_selection import SelectKBest\n",
        "from sklearn.feature_selection import chi2\n",
        "\n",
        "#apply SelectKBest class to extract top 12 best features\n",
        "bestfeatures = SelectKBest(score_func=chi2, k=12)\n",
        "fit = bestfeatures.fit(x,y)\n",
        "dfscores = pd.DataFrame(fit.scores_)\n",
        "dfcolumns = pd.DataFrame(x.columns)\n",
        "#concat two dataframes \n",
        "featureScores = pd.concat([dfcolumns,dfscores],axis=1)\n",
        "featureScores.columns = ['Features','Score']  \n",
        "print(featureScores.nlargest(12,'Score')) "
      ],
      "metadata": {
        "colab": {
          "base_uri": "https://localhost:8080/"
        },
        "id": "8cwLRmrBXmrQ",
        "outputId": "64b2dac8-5d07-45fa-826c-45ec5296fc01"
      },
      "execution_count": 31,
      "outputs": [
        {
          "output_type": "stream",
          "name": "stdout",
          "text": [
            "         Features          Score\n",
            "13            ram  931267.519053\n",
            "11      px_height   17363.569536\n",
            "0   battery_power   14129.866576\n",
            "12       px_width    9810.586750\n",
            "8       mobile_wt      95.972863\n",
            "6      int_memory      89.839124\n",
            "15           sc_w      16.480319\n",
            "16      talk_time      13.236400\n",
            "4              fc      10.135166\n",
            "14           sc_h       9.614878\n",
            "10             pc       9.186054\n",
            "9         n_cores       9.097556\n"
          ]
        }
      ]
    },
    {
      "cell_type": "markdown",
      "source": [
        "from the feature selection it is clear that the feature 'ram' is mostly contriburtinng to the target variable."
      ],
      "metadata": {
        "id": "TgDZtec3P7hH"
      }
    },
    {
      "cell_type": "code",
      "source": [
        "#Feature importance\n",
        "\n",
        "from sklearn.ensemble import ExtraTreesClassifier\n",
        "import matplotlib.pyplot as plt\n",
        "model = ExtraTreesClassifier()\n",
        "model.fit(x,y)\n",
        "print(model.feature_importances_)\n",
        "#plot graph of feature importances\n",
        "ranked_features = pd.Series(model.feature_importances_, index=x.columns)\n",
        "ranked_features.nlargest(12).plot(kind='barh')\n",
        "plt.show()"
      ],
      "metadata": {
        "colab": {
          "base_uri": "https://localhost:8080/",
          "height": 334
        },
        "id": "-zepV0iIX1x0",
        "outputId": "0108e52f-7d49-4bda-e5c4-cd2f62e7d41f"
      },
      "execution_count": 32,
      "outputs": [
        {
          "output_type": "stream",
          "name": "stdout",
          "text": [
            "[0.0624628  0.01932487 0.03237868 0.01801427 0.0317403  0.01729427\n",
            " 0.03464833 0.03180921 0.03545848 0.03240214 0.03385993 0.04730613\n",
            " 0.04855792 0.40268096 0.03305395 0.03287568 0.03356886 0.01373877\n",
            " 0.01846165 0.02036281]\n"
          ]
        },
        {
          "output_type": "display_data",
          "data": {
            "text/plain": [
              "<Figure size 432x288 with 1 Axes>"
            ],
            "image/png": "[encoded data removed]"
          },
          "metadata": {
            "needs_background": "light"
          }
        }
      ]
    },
    {
      "cell_type": "markdown",
      "source": [
        "The feature importance is high for the feature ram."
      ],
      "metadata": {
        "id": "lIODUV9DQf9G"
      }
    },
    {
      "cell_type": "code",
      "source": [
        "#Standardization\n",
        "from sklearn.preprocessing import StandardScaler\n",
        "scaler=StandardScaler()\n",
        "data_scaled=scaler.fit_transform(x)\n",
        "data_scaled=pd.DataFrame(data_scaled)\n",
        "data_scaled.describe()"
      ],
      "metadata": {
        "id": "P6rfMZA9-YFg",
        "colab": {
          "base_uri": "https://localhost:8080/",
          "height": 434
        },
        "outputId": "ca58002c-db2b-41ef-cd64-6e8886717886"
      },
      "execution_count": 33,
      "outputs": [
        {
          "output_type": "execute_result",
          "data": {
            "text/plain": [
              "                 0             1             2             3             4   \\\n",
              "count  2.000000e+03  2.000000e+03  2.000000e+03  2.000000e+03  2.000000e+03   \n",
              "mean   2.149392e-16 -1.243450e-17 -1.545430e-16  8.082424e-17  5.861978e-17   \n",
              "std    1.000250e+00  1.000250e+00  1.000250e+00  1.000250e+00  1.000250e+00   \n",
              "min   -1.678817e+00 -9.900495e-01 -1.253064e+00 -1.019184e+00 -9.928904e-01   \n",
              "25%   -8.804033e-01 -9.900495e-01 -1.007906e+00 -1.019184e+00 -7.624947e-01   \n",
              "50%   -2.849593e-02 -9.900495e-01 -2.727384e-02  9.811771e-01 -3.017032e-01   \n",
              "75%    8.575560e-01  1.010051e+00  8.307794e-01  9.811771e-01  6.198797e-01   \n",
              "max    1.728812e+00  1.010051e+00  1.811412e+00  9.811771e-01  3.384628e+00   \n",
              "\n",
              "                 5             6             7             8             9   \\\n",
              "count  2.000000e+03  2.000000e+03  2.000000e+03  2.000000e+03  2.000000e+03   \n",
              "mean   1.048051e-16 -9.592327e-17 -1.030287e-16  1.278977e-16 -7.727152e-17   \n",
              "std    1.000250e+00  1.000250e+00  1.000250e+00  1.000250e+00  1.000250e+00   \n",
              "min   -1.043966e+00 -1.656260e+00 -1.393304e+00 -1.702391e+00 -1.539175e+00   \n",
              "25%   -1.043966e+00 -8.845346e-01 -1.046495e+00 -8.829695e-01 -6.647678e-01   \n",
              "50%    9.578860e-01 -2.563229e-03 -6.069151e-03  2.122020e-02 -2.275644e-01   \n",
              "75%    9.578860e-01  8.794082e-01  1.034357e+00  8.406421e-01  1.084046e+00   \n",
              "max    9.578860e-01  1.761380e+00  1.727974e+00  1.688320e+00  1.521249e+00   \n",
              "\n",
              "                 10            11            12            13            14  \\\n",
              "count  2.000000e+03  2.000000e+03  2.000000e+03  2.000000e+03  2.000000e+03   \n",
              "mean   1.403322e-16  1.181277e-16  6.084022e-17 -1.811884e-16  4.884981e-17   \n",
              "std    1.000250e+00  1.000250e+00  1.000250e+00  1.000250e+00  1.000250e+00   \n",
              "min   -1.635631e+00 -1.454027e+00 -1.739251e+00 -1.722711e+00 -1.734608e+00   \n",
              "25%   -8.109291e-01 -8.167289e-01 -8.719579e-01 -8.453168e-01 -7.849833e-01   \n",
              "50%    1.377252e-02 -1.828116e-01 -1.045034e-02  2.055123e-02 -7.276497e-02   \n",
              "75%    8.384742e-01  6.810064e-01  8.828792e-01  8.670548e-01  8.768595e-01   \n",
              "max    1.663176e+00  2.963672e+00  1.727608e+00  1.727851e+00  1.589078e+00   \n",
              "\n",
              "                 15            16            17            18            19  \n",
              "count  2.000000e+03  2.000000e+03  2.000000e+03  2.000000e+03  2.000000e+03  \n",
              "mean  -5.506706e-17  1.421085e-16  1.421085e-17 -5.417888e-17  1.421085e-17  \n",
              "std    1.000250e+00  1.000250e+00  1.000250e+00  1.000250e+00  1.000250e+00  \n",
              "min   -1.324131e+00 -1.649584e+00 -1.786861e+00 -1.006018e+00 -1.014099e+00  \n",
              "25%   -8.649215e-01 -9.173306e-01  5.596406e-01 -1.006018e+00 -1.014099e+00  \n",
              "50%   -1.761069e-01 -2.013697e-03  5.596406e-01  9.940179e-01  9.860966e-01  \n",
              "75%    7.423125e-01  9.133032e-01  5.596406e-01  9.940179e-01  9.860966e-01  \n",
              "max    2.808756e+00  1.645557e+00  5.596406e-01  9.940179e-01  9.860966e-01  "
            ],
            "text/html": [
              "\n",
              "  <div id=\"df-1b84f45c-8015-4883-912a-cdaf7e2284a3\">\n",
              "    <div class=\"colab-df-container\">\n",
              "      <div>\n",
              "<style scoped>\n",
              "    .dataframe tbody tr th:only-of-type {\n",
              "        vertical-align: middle;\n",
              "    }\n",
              "\n",
              "    .dataframe tbody tr th {\n",
              "        vertical-align: top;\n",
              "    }\n",
              "\n",
              "    .dataframe thead th {\n",
              "        text-align: right;\n",
              "    }\n",
              "</style>\n",
              "<table border=\"1\" class=\"dataframe\">\n",
              "  <thead>\n",
              "    <tr style=\"text-align: right;\">\n",
              "      <th></th>\n",
              "      <th>0</th>\n",
              "      <th>1</th>\n",
              "      <th>2</th>\n",
              "      <th>3</th>\n",
              "      <th>4</th>\n",
              "      <th>5</th>\n",
              "      <th>6</th>\n",
              "      <th>7</th>\n",
              "      <th>8</th>\n",
              "      <th>9</th>\n",
              "      <th>10</th>\n",
              "      <th>11</th>\n",
              "      <th>12</th>\n",
              "      <th>13</th>\n",
              "      <th>14</th>\n",
              "      <th>15</th>\n",
              "      <th>16</th>\n",
              "      <th>17</th>\n",
              "      <th>18</th>\n",
              "      <th>19</th>\n",
              "    </tr>\n",
              "  </thead>\n",
              "  <tbody>\n",
              "    <tr>\n",
              "      <th>count</th>\n",
              "      <td>2.000000e+03</td>\n",
              "      <td>2.000000e+03</td>\n",
              "      <td>2.000000e+03</td>\n",
              "      <td>2.000000e+03</td>\n",
              "      <td>2.000000e+03</td>\n",
              "      <td>2.000000e+03</td>\n",
              "      <td>2.000000e+03</td>\n",
              "      <td>2.000000e+03</td>\n",
              "      <td>2.000000e+03</td>\n",
              "      <td>2.000000e+03</td>\n",
              "      <td>2.000000e+03</td>\n",
              "      <td>2.000000e+03</td>\n",
              "      <td>2.000000e+03</td>\n",
              "      <td>2.000000e+03</td>\n",
              "      <td>2.000000e+03</td>\n",
              "      <td>2.000000e+03</td>\n",
              "      <td>2.000000e+03</td>\n",
              "      <td>2.000000e+03</td>\n",
              "      <td>2.000000e+03</td>\n",
              "      <td>2.000000e+03</td>\n",
              "    </tr>\n",
              "    <tr>\n",
              "      <th>mean</th>\n",
              "      <td>2.149392e-16</td>\n",
              "      <td>-1.243450e-17</td>\n",
              "      <td>-1.545430e-16</td>\n",
              "      <td>8.082424e-17</td>\n",
              "      <td>5.861978e-17</td>\n",
              "      <td>1.048051e-16</td>\n",
              "      <td>-9.592327e-17</td>\n",
              "      <td>-1.030287e-16</td>\n",
              "      <td>1.278977e-16</td>\n",
              "      <td>-7.727152e-17</td>\n",
              "      <td>1.403322e-16</td>\n",
              "      <td>1.181277e-16</td>\n",
              "      <td>6.084022e-17</td>\n",
              "      <td>-1.811884e-16</td>\n",
              "      <td>4.884981e-17</td>\n",
              "      <td>-5.506706e-17</td>\n",
              "      <td>1.421085e-16</td>\n",
              "      <td>1.421085e-17</td>\n",
              "      <td>-5.417888e-17</td>\n",
              "      <td>1.421085e-17</td>\n",
              "    </tr>\n",
              "    <tr>\n",
              "      <th>std</th>\n",
              "      <td>1.000250e+00</td>\n",
              "      <td>1.000250e+00</td>\n",
              "      <td>1.000250e+00</td>\n",
              "      <td>1.000250e+00</td>\n",
              "      <td>1.000250e+00</td>\n",
              "      <td>1.000250e+00</td>\n",
              "      <td>1.000250e+00</td>\n",
              "      <td>1.000250e+00</td>\n",
              "      <td>1.000250e+00</td>\n",
              "      <td>1.000250e+00</td>\n",
              "      <td>1.000250e+00</td>\n",
              "      <td>1.000250e+00</td>\n",
              "      <td>1.000250e+00</td>\n",
              "      <td>1.000250e+00</td>\n",
              "      <td>1.000250e+00</td>\n",
              "      <td>1.000250e+00</td>\n",
              "      <td>1.000250e+00</td>\n",
              "      <td>1.000250e+00</td>\n",
              "      <td>1.000250e+00</td>\n",
              "      <td>1.000250e+00</td>\n",
              "    </tr>\n",
              "    <tr>\n",
              "      <th>min</th>\n",
              "      <td>-1.678817e+00</td>\n",
              "      <td>-9.900495e-01</td>\n",
              "      <td>-1.253064e+00</td>\n",
              "      <td>-1.019184e+00</td>\n",
              "      <td>-9.928904e-01</td>\n",
              "      <td>-1.043966e+00</td>\n",
              "      <td>-1.656260e+00</td>\n",
              "      <td>-1.393304e+00</td>\n",
              "      <td>-1.702391e+00</td>\n",
              "      <td>-1.539175e+00</td>\n",
              "      <td>-1.635631e+00</td>\n",
              "      <td>-1.454027e+00</td>\n",
              "      <td>-1.739251e+00</td>\n",
              "      <td>-1.722711e+00</td>\n",
              "      <td>-1.734608e+00</td>\n",
              "      <td>-1.324131e+00</td>\n",
              "      <td>-1.649584e+00</td>\n",
              "      <td>-1.786861e+00</td>\n",
              "      <td>-1.006018e+00</td>\n",
              "      <td>-1.014099e+00</td>\n",
              "    </tr>\n",
              "    <tr>\n",
              "      <th>25%</th>\n",
              "      <td>-8.804033e-01</td>\n",
              "      <td>-9.900495e-01</td>\n",
              "      <td>-1.007906e+00</td>\n",
              "      <td>-1.019184e+00</td>\n",
              "      <td>-7.624947e-01</td>\n",
              "      <td>-1.043966e+00</td>\n",
              "      <td>-8.845346e-01</td>\n",
              "      <td>-1.046495e+00</td>\n",
              "      <td>-8.829695e-01</td>\n",
              "      <td>-6.647678e-01</td>\n",
              "      <td>-8.109291e-01</td>\n",
              "      <td>-8.167289e-01</td>\n",
              "      <td>-8.719579e-01</td>\n",
              "      <td>-8.453168e-01</td>\n",
              "      <td>-7.849833e-01</td>\n",
              "      <td>-8.649215e-01</td>\n",
              "      <td>-9.173306e-01</td>\n",
              "      <td>5.596406e-01</td>\n",
              "      <td>-1.006018e+00</td>\n",
              "      <td>-1.014099e+00</td>\n",
              "    </tr>\n",
              "    <tr>\n",
              "      <th>50%</th>\n",
              "      <td>-2.849593e-02</td>\n",
              "      <td>-9.900495e-01</td>\n",
              "      <td>-2.727384e-02</td>\n",
              "      <td>9.811771e-01</td>\n",
              "      <td>-3.017032e-01</td>\n",
              "      <td>9.578860e-01</td>\n",
              "      <td>-2.563229e-03</td>\n",
              "      <td>-6.069151e-03</td>\n",
              "      <td>2.122020e-02</td>\n",
              "      <td>-2.275644e-01</td>\n",
              "      <td>1.377252e-02</td>\n",
              "      <td>-1.828116e-01</td>\n",
              "      <td>-1.045034e-02</td>\n",
              "      <td>2.055123e-02</td>\n",
              "      <td>-7.276497e-02</td>\n",
              "      <td>-1.761069e-01</td>\n",
              "      <td>-2.013697e-03</td>\n",
              "      <td>5.596406e-01</td>\n",
              "      <td>9.940179e-01</td>\n",
              "      <td>9.860966e-01</td>\n",
              "    </tr>\n",
              "    <tr>\n",
              "      <th>75%</th>\n",
              "      <td>8.575560e-01</td>\n",
              "      <td>1.010051e+00</td>\n",
              "      <td>8.307794e-01</td>\n",
              "      <td>9.811771e-01</td>\n",
              "      <td>6.198797e-01</td>\n",
              "      <td>9.578860e-01</td>\n",
              "      <td>8.794082e-01</td>\n",
              "      <td>1.034357e+00</td>\n",
              "      <td>8.406421e-01</td>\n",
              "      <td>1.084046e+00</td>\n",
              "      <td>8.384742e-01</td>\n",
              "      <td>6.810064e-01</td>\n",
              "      <td>8.828792e-01</td>\n",
              "      <td>8.670548e-01</td>\n",
              "      <td>8.768595e-01</td>\n",
              "      <td>7.423125e-01</td>\n",
              "      <td>9.133032e-01</td>\n",
              "      <td>5.596406e-01</td>\n",
              "      <td>9.940179e-01</td>\n",
              "      <td>9.860966e-01</td>\n",
              "    </tr>\n",
              "    <tr>\n",
              "      <th>max</th>\n",
              "      <td>1.728812e+00</td>\n",
              "      <td>1.010051e+00</td>\n",
              "      <td>1.811412e+00</td>\n",
              "      <td>9.811771e-01</td>\n",
              "      <td>3.384628e+00</td>\n",
              "      <td>9.578860e-01</td>\n",
              "      <td>1.761380e+00</td>\n",
              "      <td>1.727974e+00</td>\n",
              "      <td>1.688320e+00</td>\n",
              "      <td>1.521249e+00</td>\n",
              "      <td>1.663176e+00</td>\n",
              "      <td>2.963672e+00</td>\n",
              "      <td>1.727608e+00</td>\n",
              "      <td>1.727851e+00</td>\n",
              "      <td>1.589078e+00</td>\n",
              "      <td>2.808756e+00</td>\n",
              "      <td>1.645557e+00</td>\n",
              "      <td>5.596406e-01</td>\n",
              "      <td>9.940179e-01</td>\n",
              "      <td>9.860966e-01</td>\n",
              "    </tr>\n",
              "  </tbody>\n",
              "</table>\n",
              "</div>\n",
              "      <button class=\"colab-df-convert\" onclick=\"convertToInteractive('df-1b84f45c-8015-4883-912a-cdaf7e2284a3')\"\n",
              "              title=\"Convert this dataframe to an interactive table.\"\n",
              "              style=\"display:none;\">\n",
              "        \n",
              "  <svg xmlns=\"http://www.w3.org/2000/svg\" height=\"24px\"viewBox=\"0 0 24 24\"\n",
              "       width=\"24px\">\n",
              "    <path d=\"M0 0h24v24H0V0z\" fill=\"none\"/>\n",
              "    <path d=\"M18.56 5.44l.94 2.06.94-2.06 2.06-.94-2.06-.94-.94-2.06-.94 2.06-2.06.94zm-11 1L8.5 8.5l.94-2.06 2.06-.94-2.06-.94L8.5 2.5l-.94 2.06-2.06.94zm10 10l.94 2.06.94-2.06 2.06-.94-2.06-.94-.94-2.06-.94 2.06-2.06.94z\"/><path d=\"M17.41 7.96l-1.37-1.37c-.4-.4-.92-.59-1.43-.59-.52 0-1.04.2-1.43.59L10.3 9.45l-7.72 7.72c-.78.78-.78 2.05 0 2.83L4 21.41c.39.39.9.59 1.41.59.51 0 1.02-.2 1.41-.59l7.78-7.78 2.81-2.81c.8-.78.8-2.07 0-2.86zM5.41 20L4 18.59l7.72-7.72 1.47 1.35L5.41 20z\"/>\n",
              "  </svg>\n",
              "      </button>\n",
              "      \n",
              "  <style>\n",
              "    .colab-df-container {\n",
              "      display:flex;\n",
              "      flex-wrap:wrap;\n",
              "      gap: 12px;\n",
              "    }\n",
              "\n",
              "    .colab-df-convert {\n",
              "      background-color: #E8F0FE;\n",
              "      border: none;\n",
              "      border-radius: 50%;\n",
              "      cursor: pointer;\n",
              "      display: none;\n",
              "      fill: #1967D2;\n",
              "      height: 32px;\n",
              "      padding: 0 0 0 0;\n",
              "      width: 32px;\n",
              "    }\n",
              "\n",
              "    .colab-df-convert:hover {\n",
              "      background-color: #E2EBFA;\n",
              "      box-shadow: 0px 1px 2px rgba(60, 64, 67, 0.3), 0px 1px 3px 1px rgba(60, 64, 67, 0.15);\n",
              "      fill: #174EA6;\n",
              "    }\n",
              "\n",
              "    [theme=dark] .colab-df-convert {\n",
              "      background-color: #3B4455;\n",
              "      fill: #D2E3FC;\n",
              "    }\n",
              "\n",
              "    [theme=dark] .colab-df-convert:hover {\n",
              "      background-color: #434B5C;\n",
              "      box-shadow: 0px 1px 3px 1px rgba(0, 0, 0, 0.15);\n",
              "      filter: drop-shadow(0px 1px 2px rgba(0, 0, 0, 0.3));\n",
              "      fill: #FFFFFF;\n",
              "    }\n",
              "  </style>\n",
              "\n",
              "      <script>\n",
              "        const buttonEl =\n",
              "          document.querySelector('#df-1b84f45c-8015-4883-912a-cdaf7e2284a3 button.colab-df-convert');\n",
              "        buttonEl.style.display =\n",
              "          google.colab.kernel.accessAllowed ? 'block' : 'none';\n",
              "\n",
              "        async function convertToInteractive(key) {\n",
              "          const element = document.querySelector('#df-1b84f45c-8015-4883-912a-cdaf7e2284a3');\n",
              "          const dataTable =\n",
              "            await google.colab.kernel.invokeFunction('convertToInteractive',\n",
              "                                                     [key], {});\n",
              "          if (!dataTable) return;\n",
              "\n",
              "          const docLinkHtml = 'Like what you see? Visit the ' +\n",
              "            '<a target=\"_blank\" href=https://colab.research.google.com/notebooks/data_table.ipynb>data table notebook</a>'\n",
              "            + ' to learn more about interactive tables.';\n",
              "          element.innerHTML = '';\n",
              "          dataTable['output_type'] = 'display_data';\n",
              "          await google.colab.output.renderOutput(dataTable, element);\n",
              "          const docLink = document.createElement('div');\n",
              "          docLink.innerHTML = docLinkHtml;\n",
              "          element.appendChild(docLink);\n",
              "        }\n",
              "      </script>\n",
              "    </div>\n",
              "  </div>\n",
              "  "
            ]
          },
          "metadata": {},
          "execution_count": 33
        }
      ]
    },
    {
      "cell_type": "markdown",
      "source": [
        "# **Splitting the dataset for training and testing**"
      ],
      "metadata": {
        "id": "ghk_ID8h-vLr"
      }
    },
    {
      "cell_type": "code",
      "source": [
        "from sklearn.model_selection import train_test_split\n",
        "x_train, x_test, y_train, y_test = train_test_split(x, y, test_size=0.5, random_state=0)"
      ],
      "metadata": {
        "id": "ASobRuFW9iY8"
      },
      "execution_count": 34,
      "outputs": []
    },
    {
      "cell_type": "code",
      "source": [
        "x_train.shape"
      ],
      "metadata": {
        "id": "Yf6CG8UW-9C-",
        "colab": {
          "base_uri": "https://localhost:8080/"
        },
        "outputId": "bca07c8c-20f7-49c8-9ebf-010859fe665e"
      },
      "execution_count": 35,
      "outputs": [
        {
          "output_type": "execute_result",
          "data": {
            "text/plain": [
              "(1000, 20)"
            ]
          },
          "metadata": {},
          "execution_count": 35
        }
      ]
    },
    {
      "cell_type": "code",
      "source": [
        "x_test.shape"
      ],
      "metadata": {
        "id": "MRLoWcjq_CEo",
        "colab": {
          "base_uri": "https://localhost:8080/"
        },
        "outputId": "d91441fe-1099-4ba8-ea85-f4e497dbe5be"
      },
      "execution_count": 36,
      "outputs": [
        {
          "output_type": "execute_result",
          "data": {
            "text/plain": [
              "(1000, 20)"
            ]
          },
          "metadata": {},
          "execution_count": 36
        }
      ]
    },
    {
      "cell_type": "code",
      "source": [
        "y_train.shape"
      ],
      "metadata": {
        "id": "iaT9-7Co_CZl",
        "colab": {
          "base_uri": "https://localhost:8080/"
        },
        "outputId": "bda37401-fc0a-4687-faf8-7cc2e631d55f"
      },
      "execution_count": 37,
      "outputs": [
        {
          "output_type": "execute_result",
          "data": {
            "text/plain": [
              "(1000,)"
            ]
          },
          "metadata": {},
          "execution_count": 37
        }
      ]
    },
    {
      "cell_type": "code",
      "source": [
        "y_test.shape"
      ],
      "metadata": {
        "id": "AU_f6IDV_Cs0",
        "colab": {
          "base_uri": "https://localhost:8080/"
        },
        "outputId": "6fe40a56-2532-476e-c4e8-fc1a31a8dee8"
      },
      "execution_count": 38,
      "outputs": [
        {
          "output_type": "execute_result",
          "data": {
            "text/plain": [
              "(1000,)"
            ]
          },
          "metadata": {},
          "execution_count": 38
        }
      ]
    },
    {
      "cell_type": "markdown",
      "source": [
        "#**Logistic Regression**"
      ],
      "metadata": {
        "id": "b7RlCVIrIj72"
      }
    },
    {
      "cell_type": "code",
      "source": [
        "from sklearn.linear_model import LogisticRegression\n",
        "logit_model= LogisticRegression()\n",
        "logit_model.fit(x_train, y_train)\n",
        "y_pred = logit_model.predict(x_test)"
      ],
      "metadata": {
        "id": "dR_yiGNmIs9z"
      },
      "execution_count": 39,
      "outputs": []
    },
    {
      "cell_type": "code",
      "source": [
        "from sklearn.metrics import confusion_matrix, accuracy_score,classification_report,precision_score, recall_score, f1_score\n",
        "acc_lr=accuracy_score(y_test,y_pred)*100\n",
        "print(\"Accuracy is:{}%\".format(acc_lr))\n",
        "print('confusion_matrix:\\n',confusion_matrix(y_test,y_pred))\n",
        "result = classification_report(y_pred,y_test,output_dict=True)"
      ],
      "metadata": {
        "id": "Vuekf0CSJ7yH",
        "colab": {
          "base_uri": "https://localhost:8080/"
        },
        "outputId": "d01cad50-22d3-4e92-9664-8170ff507150"
      },
      "execution_count": 40,
      "outputs": [
        {
          "output_type": "stream",
          "name": "stdout",
          "text": [
            "Accuracy is:64.0%\n",
            "confusion_matrix:\n",
            " [[196  55   3   0]\n",
            " [ 27 133  62  15]\n",
            " [  0  65 121  64]\n",
            " [  0   1  68 190]]\n"
          ]
        }
      ]
    },
    {
      "cell_type": "markdown",
      "source": [
        "# **Decision Tree**"
      ],
      "metadata": {
        "id": "TZ98bS2HKybm"
      }
    },
    {
      "cell_type": "code",
      "source": [
        "from sklearn.tree import DecisionTreeClassifier\n",
        "dt=DecisionTreeClassifier(criterion='entropy')\n",
        "dt.fit(x_train,y_train) \n",
        "tree_pred=dt.predict(x_test)\n",
        "acc_dt=accuracy_score(y_test,tree_pred)*100\n",
        "print(\"Accuracy is:{}%\".format(acc_dt))\n",
        "print('confusion_matrix:\\n',confusion_matrix(y_test,tree_pred))\n",
        "result = classification_report(tree_pred,y_test,output_dict=True)"
      ],
      "metadata": {
        "id": "YjQCf8VYK8XC",
        "colab": {
          "base_uri": "https://localhost:8080/"
        },
        "outputId": "486e913e-2daf-4c73-c3ce-2d33ecd297a6"
      },
      "execution_count": 41,
      "outputs": [
        {
          "output_type": "stream",
          "name": "stdout",
          "text": [
            "Accuracy is:83.0%\n",
            "confusion_matrix:\n",
            " [[227  27   0   0]\n",
            " [ 24 180  33   0]\n",
            " [  0  27 192  31]\n",
            " [  0   0  28 231]]\n"
          ]
        }
      ]
    },
    {
      "cell_type": "markdown",
      "source": [
        "# **Random Forest Classifier**"
      ],
      "metadata": {
        "id": "mkzz96TaYLQE"
      }
    },
    {
      "cell_type": "code",
      "source": [
        "from sklearn.ensemble import RandomForestClassifier\n",
        "rf= RandomForestClassifier(n_estimators=300)\n",
        "rf.fit(x_train, y_train)\n",
        "RandomForestClassifier(n_estimators=300)\n",
        "rf_pred = rf.predict(x_test)\n",
        "acc_rf=accuracy_score(y_test,rf_pred)*100\n",
        "print(\"Accuracy is:{}%\".format(acc_rf))\n",
        "print('confusion_matrix:\\n',confusion_matrix(y_test,rf_pred))\n",
        "result = classification_report(rf_pred,y_test)"
      ],
      "metadata": {
        "id": "hDXBE6B3YSHr",
        "colab": {
          "base_uri": "https://localhost:8080/"
        },
        "outputId": "28b4d51a-7c95-49f7-d01b-598463d1914d"
      },
      "execution_count": 42,
      "outputs": [
        {
          "output_type": "stream",
          "name": "stdout",
          "text": [
            "Accuracy is:86.4%\n",
            "confusion_matrix:\n",
            " [[242  12   0   0]\n",
            " [ 15 192  30   0]\n",
            " [  0  36 188  26]\n",
            " [  0   0  17 242]]\n"
          ]
        }
      ]
    },
    {
      "cell_type": "markdown",
      "source": [
        "# **Gaussian NB**"
      ],
      "metadata": {
        "id": "iPRQhrThZAkM"
      }
    },
    {
      "cell_type": "code",
      "source": [
        "from sklearn.naive_bayes import GaussianNB\n",
        "nb=GaussianNB()\n",
        "nb.fit(x_train,y_train)\n",
        "nb_pred=nb.predict(x_test)\n",
        "acc_nb=accuracy_score(y_test,nb_pred)*100\n",
        "print(\"Accuracy is:{}%\".format(acc_nb))\n",
        "print('confusion_matrix:\\n',confusion_matrix(y_test,nb_pred))\n",
        "result = classification_report(nb_pred,y_test)"
      ],
      "metadata": {
        "id": "rlZ8-kcgY_3l",
        "colab": {
          "base_uri": "https://localhost:8080/"
        },
        "outputId": "c792be3b-92c6-4658-af35-4af1fab57eed"
      },
      "execution_count": 43,
      "outputs": [
        {
          "output_type": "stream",
          "name": "stdout",
          "text": [
            "Accuracy is:79.9%\n",
            "confusion_matrix:\n",
            " [[231  23   0   0]\n",
            " [ 18 166  53   0]\n",
            " [  0  46 167  37]\n",
            " [  0   0  24 235]]\n"
          ]
        }
      ]
    },
    {
      "cell_type": "markdown",
      "source": [
        "# **SVM**"
      ],
      "metadata": {
        "id": "F8smitfHl4d0"
      }
    },
    {
      "cell_type": "code",
      "source": [
        "from sklearn.svm import SVC\n",
        "svc=SVC(kernel='rbf')\n",
        "svc.fit(x_train,y_train)\n",
        "svc_pred=svc.predict(x_test)\n",
        "acc_svc=accuracy_score(y_test,svc_pred)*100\n",
        "print(\"Accuracy is:{}%\".format(acc_svc))\n",
        "print('confusion_matrix:\\n',confusion_matrix(y_test,svc_pred))\n",
        "result = classification_report(svc_pred,y_test)"
      ],
      "metadata": {
        "id": "Mybl0OKtl7CM",
        "colab": {
          "base_uri": "https://localhost:8080/"
        },
        "outputId": "6f480d06-e0c4-4363-f5dc-476565e42d1f"
      },
      "execution_count": 44,
      "outputs": [
        {
          "output_type": "stream",
          "name": "stdout",
          "text": [
            "Accuracy is:93.7%\n",
            "confusion_matrix:\n",
            " [[247   7   0   0]\n",
            " [  7 225   5   0]\n",
            " [  0  19 211  20]\n",
            " [  0   0   5 254]]\n"
          ]
        }
      ]
    },
    {
      "cell_type": "markdown",
      "source": [
        "# **Gradient boosting classifier**"
      ],
      "metadata": {
        "id": "K399VM_mpXpB"
      }
    },
    {
      "cell_type": "code",
      "source": [
        "from sklearn.ensemble import GradientBoostingClassifier\n",
        "gb=GradientBoostingClassifier()\n",
        "gb.fit(x_train,y_train)\n",
        "gb_pred=gb.predict(x_test)\n",
        "acc_gb=accuracy_score(y_test,gb_pred)*100\n",
        "print(\"Accuracy is:{}%\".format(acc_gb))\n",
        "print('confusion_matrix:\\n',confusion_matrix(y_test,gb_pred))\n",
        "result = classification_report(gb_pred,y_test)"
      ],
      "metadata": {
        "id": "seVECO3FpXM4",
        "colab": {
          "base_uri": "https://localhost:8080/"
        },
        "outputId": "3ddc7137-71b3-4c25-ae02-1aeb360f9a44"
      },
      "execution_count": 45,
      "outputs": [
        {
          "output_type": "stream",
          "name": "stdout",
          "text": [
            "Accuracy is:86.9%\n",
            "confusion_matrix:\n",
            " [[239  15   0   0]\n",
            " [ 15 196  26   0]\n",
            " [  0  32 194  24]\n",
            " [  0   0  19 240]]\n"
          ]
        }
      ]
    },
    {
      "cell_type": "markdown",
      "source": [
        "# **KNN**"
      ],
      "metadata": {
        "id": "w47nsJ0vqgso"
      }
    },
    {
      "cell_type": "code",
      "source": [
        "from sklearn.neighbors import KNeighborsClassifier\n",
        "acc_values = [] \n",
        "neighbors = np.arange(3,15)\n",
        "for k in neighbors:\n",
        "    classifier = KNeighborsClassifier(n_neighbors = k,metric = 'minkowski')\n",
        "    classifier.fit(x_train,y_train)\n",
        "    knn_pred = classifier.predict(x_test)\n",
        "    acc = accuracy_score(y_test,knn_pred)\n",
        "    acc_values.append(acc)\n",
        "print(acc_values)  "
      ],
      "metadata": {
        "id": "mtNpvx22qd5a",
        "colab": {
          "base_uri": "https://localhost:8080/"
        },
        "outputId": "5e7c27dc-03ac-4f72-bdb5-9512975d5132"
      },
      "execution_count": 46,
      "outputs": [
        {
          "output_type": "stream",
          "name": "stdout",
          "text": [
            "[0.909, 0.899, 0.911, 0.916, 0.917, 0.915, 0.926, 0.92, 0.921, 0.919, 0.923, 0.922]\n"
          ]
        }
      ]
    },
    {
      "cell_type": "code",
      "source": [
        "plt.plot(neighbors,acc_values, 'o-')\n",
        "plt.xlabel('k value')\n",
        "plt.ylabel('Accuracy')"
      ],
      "metadata": {
        "id": "OVU3Lduzq1WU",
        "colab": {
          "base_uri": "https://localhost:8080/",
          "height": 296
        },
        "outputId": "03f787d3-9e68-4c03-eab8-a21372ffaab3"
      },
      "execution_count": 47,
      "outputs": [
        {
          "output_type": "execute_result",
          "data": {
            "text/plain": [
              "Text(0, 0.5, 'Accuracy')"
            ]
          },
          "metadata": {},
          "execution_count": 47
        },
        {
          "output_type": "display_data",
          "data": {
            "text/plain": [
              "<Figure size 432x288 with 1 Axes>"
            ],
            "image/png": "[encoded data removed]"
          },
          "metadata": {
            "needs_background": "light"
          }
        }
      ]
    },
    {
      "cell_type": "code",
      "source": [
        "classifier = KNeighborsClassifier(n_neighbors = 12,metric = 'minkowski')\n",
        "classifier.fit(x_train,y_train)\n",
        "knn_pred = classifier.predict(x_test)\n",
        "acc_knn=accuracy_score(y_test,knn_pred)*100\n",
        "print(\"Accuracy is:{}%\".format(acc_knn))\n",
        "print('confusion_matrix:\\n',confusion_matrix(y_test,knn_pred))\n",
        "result = classification_report(knn_pred,y_test)"
      ],
      "metadata": {
        "id": "X6if30wWq6UW",
        "colab": {
          "base_uri": "https://localhost:8080/"
        },
        "outputId": "7c69a15f-ee7b-45b7-8ce6-46e698395197"
      },
      "execution_count": 48,
      "outputs": [
        {
          "output_type": "stream",
          "name": "stdout",
          "text": [
            "Accuracy is:91.9%\n",
            "confusion_matrix:\n",
            " [[253   1   0   0]\n",
            " [ 12 217   8   0]\n",
            " [  0  26 209  15]\n",
            " [  0   0  19 240]]\n"
          ]
        }
      ]
    },
    {
      "cell_type": "code",
      "source": [
        "#comparing various models based on accuracy\n",
        "classifiers=['Logistic Regression','Decision Tree','Random Forest','Naive Bayes','SVC','Gradient Boosting','KNN']\n",
        "lst_acc=[acc_lr,acc_dt,acc_rf,acc_nb,acc_svc,acc_gb,acc_knn]\n",
        "df=pd.DataFrame({'Model':classifiers,'Accuracy':lst_acc})\n",
        "px.histogram(data_frame=df,x='Model',y='Accuracy')"
      ],
      "metadata": {
        "id": "1iSJJmEUrWAK",
        "colab": {
          "base_uri": "https://localhost:8080/",
          "height": 542
        },
        "outputId": "790dc751-42a9-4355-840d-0c793fb84263"
      },
      "execution_count": 49,
      "outputs": [
        {
          "output_type": "display_data",
          "data": {
            "text/html": [
              "<html>\n",
              "<head><meta charset=\"utf-8\" /></head>\n",
              "<body>\n",
              "    <div>            <script src=\"https://cdnjs.cloudflare.com/ajax/libs/mathjax/2.7.5/MathJax.js?config=TeX-AMS-MML_SVG\"></script><script type=\"text/javascript\">if (window.MathJax) {MathJax.Hub.Config({SVG: {font: \"STIX-Web\"}});}</script>                <script type=\"text/javascript\">window.PlotlyConfig = {MathJaxConfig: 'local'};</script>\n",
              "        <script src=\"https://cdn.plot.ly/plotly-2.8.3.min.js\"></script>                <div id=\"d029e782-e380-48a8-bef6-995a2d7c5757\" class=\"plotly-graph-div\" style=\"height:525px; width:100%;\"></div>            <script type=\"text/javascript\">                                    window.PLOTLYENV=window.PLOTLYENV || {};                                    if (document.getElementById(\"d029e782-e380-48a8-bef6-995a2d7c5757\")) {                    Plotly.newPlot(                        \"d029e782-e380-48a8-bef6-995a2d7c5757\",                        [{\"alignmentgroup\":\"True\",\"bingroup\":\"x\",\"histfunc\":\"sum\",\"hovertemplate\":\"Model=%{x}<br>sum of Accuracy=%{y}<extra></extra>\",\"legendgroup\":\"\",\"marker\":{\"color\":\"#636efa\",\"pattern\":{\"shape\":\"\"}},\"name\":\"\",\"offsetgroup\":\"\",\"orientation\":\"v\",\"showlegend\":false,\"x\":[\"Logistic Regression\",\"Decision Tree\",\"Random Forest\",\"Naive Bayes\",\"SVC\",\"Gradient Boosting\",\"KNN\"],\"xaxis\":\"x\",\"y\":[64.0,83.0,86.4,79.9,93.7,86.9,91.9],\"yaxis\":\"y\",\"type\":\"histogram\"}],                        {\"template\":{\"data\":{\"bar\":[{\"error_x\":{\"color\":\"#2a3f5f\"},\"error_y\":{\"color\":\"#2a3f5f\"},\"marker\":{\"line\":{\"color\":\"#E5ECF6\",\"width\":0.5},\"pattern\":{\"fillmode\":\"overlay\",\"size\":10,\"solidity\":0.2}},\"type\":\"bar\"}],\"barpolar\":[{\"marker\":{\"line\":{\"color\":\"#E5ECF6\",\"width\":0.5},\"pattern\":{\"fillmode\":\"overlay\",\"size\":10,\"solidity\":0.2}},\"type\":\"barpolar\"}],\"carpet\":[{\"aaxis\":{\"endlinecolor\":\"#2a3f5f\",\"gridcolor\":\"white\",\"linecolor\":\"white\",\"minorgridcolor\":\"white\",\"startlinecolor\":\"#2a3f5f\"},\"baxis\":{\"endlinecolor\":\"#2a3f5f\",\"gridcolor\":\"white\",\"linecolor\":\"white\",\"minorgridcolor\":\"white\",\"startlinecolor\":\"#2a3f5f\"},\"type\":\"carpet\"}],\"choropleth\":[{\"colorbar\":{\"outlinewidth\":0,\"ticks\":\"\"},\"type\":\"choropleth\"}],\"contour\":[{\"colorbar\":{\"outlinewidth\":0,\"ticks\":\"\"},\"colorscale\":[[0.0,\"#0d0887\"],[0.1111111111111111,\"#46039f\"],[0.2222222222222222,\"#7201a8\"],[0.3333333333333333,\"#9c179e\"],[0.4444444444444444,\"#bd3786\"],[0.5555555555555556,\"#d8576b\"],[0.6666666666666666,\"#ed7953\"],[0.7777777777777778,\"#fb9f3a\"],[0.8888888888888888,\"#fdca26\"],[1.0,\"#f0f921\"]],\"type\":\"contour\"}],\"contourcarpet\":[{\"colorbar\":{\"outlinewidth\":0,\"ticks\":\"\"},\"type\":\"contourcarpet\"}],\"heatmap\":[{\"colorbar\":{\"outlinewidth\":0,\"ticks\":\"\"},\"colorscale\":[[0.0,\"#0d0887\"],[0.1111111111111111,\"#46039f\"],[0.2222222222222222,\"#7201a8\"],[0.3333333333333333,\"#9c179e\"],[0.4444444444444444,\"#bd3786\"],[0.5555555555555556,\"#d8576b\"],[0.6666666666666666,\"#ed7953\"],[0.7777777777777778,\"#fb9f3a\"],[0.8888888888888888,\"#fdca26\"],[1.0,\"#f0f921\"]],\"type\":\"heatmap\"}],\"heatmapgl\":[{\"colorbar\":{\"outlinewidth\":0,\"ticks\":\"\"},\"colorscale\":[[0.0,\"#0d0887\"],[0.1111111111111111,\"#46039f\"],[0.2222222222222222,\"#7201a8\"],[0.3333333333333333,\"#9c179e\"],[0.4444444444444444,\"#bd3786\"],[0.5555555555555556,\"#d8576b\"],[0.6666666666666666,\"#ed7953\"],[0.7777777777777778,\"#fb9f3a\"],[0.8888888888888888,\"#fdca26\"],[1.0,\"#f0f921\"]],\"type\":\"heatmapgl\"}],\"histogram\":[{\"marker\":{\"pattern\":{\"fillmode\":\"overlay\",\"size\":10,\"solidity\":0.2}},\"type\":\"histogram\"}],\"histogram2d\":[{\"colorbar\":{\"outlinewidth\":0,\"ticks\":\"\"},\"colorscale\":[[0.0,\"#0d0887\"],[0.1111111111111111,\"#46039f\"],[0.2222222222222222,\"#7201a8\"],[0.3333333333333333,\"#9c179e\"],[0.4444444444444444,\"#bd3786\"],[0.5555555555555556,\"#d8576b\"],[0.6666666666666666,\"#ed7953\"],[0.7777777777777778,\"#fb9f3a\"],[0.8888888888888888,\"#fdca26\"],[1.0,\"#f0f921\"]],\"type\":\"histogram2d\"}],\"histogram2dcontour\":[{\"colorbar\":{\"outlinewidth\":0,\"ticks\":\"\"},\"colorscale\":[[0.0,\"#0d0887\"],[0.1111111111111111,\"#46039f\"],[0.2222222222222222,\"#7201a8\"],[0.3333333333333333,\"#9c179e\"],[0.4444444444444444,\"#bd3786\"],[0.5555555555555556,\"#d8576b\"],[0.6666666666666666,\"#ed7953\"],[0.7777777777777778,\"#fb9f3a\"],[0.8888888888888888,\"#fdca26\"],[1.0,\"#f0f921\"]],\"type\":\"histogram2dcontour\"}],\"mesh3d\":[{\"colorbar\":{\"outlinewidth\":0,\"ticks\":\"\"},\"type\":\"mesh3d\"}],\"parcoords\":[{\"line\":{\"colorbar\":{\"outlinewidth\":0,\"ticks\":\"\"}},\"type\":\"parcoords\"}],\"pie\":[{\"automargin\":true,\"type\":\"pie\"}],\"scatter\":[{\"marker\":{\"colorbar\":{\"outlinewidth\":0,\"ticks\":\"\"}},\"type\":\"scatter\"}],\"scatter3d\":[{\"line\":{\"colorbar\":{\"outlinewidth\":0,\"ticks\":\"\"}},\"marker\":{\"colorbar\":{\"outlinewidth\":0,\"ticks\":\"\"}},\"type\":\"scatter3d\"}],\"scattercarpet\":[{\"marker\":{\"colorbar\":{\"outlinewidth\":0,\"ticks\":\"\"}},\"type\":\"scattercarpet\"}],\"scattergeo\":[{\"marker\":{\"colorbar\":{\"outlinewidth\":0,\"ticks\":\"\"}},\"type\":\"scattergeo\"}],\"scattergl\":[{\"marker\":{\"colorbar\":{\"outlinewidth\":0,\"ticks\":\"\"}},\"type\":\"scattergl\"}],\"scattermapbox\":[{\"marker\":{\"colorbar\":{\"outlinewidth\":0,\"ticks\":\"\"}},\"type\":\"scattermapbox\"}],\"scatterpolar\":[{\"marker\":{\"colorbar\":{\"outlinewidth\":0,\"ticks\":\"\"}},\"type\":\"scatterpolar\"}],\"scatterpolargl\":[{\"marker\":{\"colorbar\":{\"outlinewidth\":0,\"ticks\":\"\"}},\"type\":\"scatterpolargl\"}],\"scatterternary\":[{\"marker\":{\"colorbar\":{\"outlinewidth\":0,\"ticks\":\"\"}},\"type\":\"scatterternary\"}],\"surface\":[{\"colorbar\":{\"outlinewidth\":0,\"ticks\":\"\"},\"colorscale\":[[0.0,\"#0d0887\"],[0.1111111111111111,\"#46039f\"],[0.2222222222222222,\"#7201a8\"],[0.3333333333333333,\"#9c179e\"],[0.4444444444444444,\"#bd3786\"],[0.5555555555555556,\"#d8576b\"],[0.6666666666666666,\"#ed7953\"],[0.7777777777777778,\"#fb9f3a\"],[0.8888888888888888,\"#fdca26\"],[1.0,\"#f0f921\"]],\"type\":\"surface\"}],\"table\":[{\"cells\":{\"fill\":{\"color\":\"#EBF0F8\"},\"line\":{\"color\":\"white\"}},\"header\":{\"fill\":{\"color\":\"#C8D4E3\"},\"line\":{\"color\":\"white\"}},\"type\":\"table\"}]},\"layout\":{\"annotationdefaults\":{\"arrowcolor\":\"#2a3f5f\",\"arrowhead\":0,\"arrowwidth\":1},\"autotypenumbers\":\"strict\",\"coloraxis\":{\"colorbar\":{\"outlinewidth\":0,\"ticks\":\"\"}},\"colorscale\":{\"diverging\":[[0,\"#8e0152\"],[0.1,\"#c51b7d\"],[0.2,\"#de77ae\"],[0.3,\"#f1b6da\"],[0.4,\"#fde0ef\"],[0.5,\"#f7f7f7\"],[0.6,\"#e6f5d0\"],[0.7,\"#b8e186\"],[0.8,\"#7fbc41\"],[0.9,\"#4d9221\"],[1,\"#276419\"]],\"sequential\":[[0.0,\"#0d0887\"],[0.1111111111111111,\"#46039f\"],[0.2222222222222222,\"#7201a8\"],[0.3333333333333333,\"#9c179e\"],[0.4444444444444444,\"#bd3786\"],[0.5555555555555556,\"#d8576b\"],[0.6666666666666666,\"#ed7953\"],[0.7777777777777778,\"#fb9f3a\"],[0.8888888888888888,\"#fdca26\"],[1.0,\"#f0f921\"]],\"sequentialminus\":[[0.0,\"#0d0887\"],[0.1111111111111111,\"#46039f\"],[0.2222222222222222,\"#7201a8\"],[0.3333333333333333,\"#9c179e\"],[0.4444444444444444,\"#bd3786\"],[0.5555555555555556,\"#d8576b\"],[0.6666666666666666,\"#ed7953\"],[0.7777777777777778,\"#fb9f3a\"],[0.8888888888888888,\"#fdca26\"],[1.0,\"#f0f921\"]]},\"colorway\":[\"#636efa\",\"#EF553B\",\"#00cc96\",\"#ab63fa\",\"#FFA15A\",\"#19d3f3\",\"#FF6692\",\"#B6E880\",\"#FF97FF\",\"#FECB52\"],\"font\":{\"color\":\"#2a3f5f\"},\"geo\":{\"bgcolor\":\"white\",\"lakecolor\":\"white\",\"landcolor\":\"#E5ECF6\",\"showlakes\":true,\"showland\":true,\"subunitcolor\":\"white\"},\"hoverlabel\":{\"align\":\"left\"},\"hovermode\":\"closest\",\"mapbox\":{\"style\":\"light\"},\"paper_bgcolor\":\"white\",\"plot_bgcolor\":\"#E5ECF6\",\"polar\":{\"angularaxis\":{\"gridcolor\":\"white\",\"linecolor\":\"white\",\"ticks\":\"\"},\"bgcolor\":\"#E5ECF6\",\"radialaxis\":{\"gridcolor\":\"white\",\"linecolor\":\"white\",\"ticks\":\"\"}},\"scene\":{\"xaxis\":{\"backgroundcolor\":\"#E5ECF6\",\"gridcolor\":\"white\",\"gridwidth\":2,\"linecolor\":\"white\",\"showbackground\":true,\"ticks\":\"\",\"zerolinecolor\":\"white\"},\"yaxis\":{\"backgroundcolor\":\"#E5ECF6\",\"gridcolor\":\"white\",\"gridwidth\":2,\"linecolor\":\"white\",\"showbackground\":true,\"ticks\":\"\",\"zerolinecolor\":\"white\"},\"zaxis\":{\"backgroundcolor\":\"#E5ECF6\",\"gridcolor\":\"white\",\"gridwidth\":2,\"linecolor\":\"white\",\"showbackground\":true,\"ticks\":\"\",\"zerolinecolor\":\"white\"}},\"shapedefaults\":{\"line\":{\"color\":\"#2a3f5f\"}},\"ternary\":{\"aaxis\":{\"gridcolor\":\"white\",\"linecolor\":\"white\",\"ticks\":\"\"},\"baxis\":{\"gridcolor\":\"white\",\"linecolor\":\"white\",\"ticks\":\"\"},\"bgcolor\":\"#E5ECF6\",\"caxis\":{\"gridcolor\":\"white\",\"linecolor\":\"white\",\"ticks\":\"\"}},\"title\":{\"x\":0.05},\"xaxis\":{\"automargin\":true,\"gridcolor\":\"white\",\"linecolor\":\"white\",\"ticks\":\"\",\"title\":{\"standoff\":15},\"zerolinecolor\":\"white\",\"zerolinewidth\":2},\"yaxis\":{\"automargin\":true,\"gridcolor\":\"white\",\"linecolor\":\"white\",\"ticks\":\"\",\"title\":{\"standoff\":15},\"zerolinecolor\":\"white\",\"zerolinewidth\":2}}},\"xaxis\":{\"anchor\":\"y\",\"domain\":[0.0,1.0],\"title\":{\"text\":\"Model\"}},\"yaxis\":{\"anchor\":\"x\",\"domain\":[0.0,1.0],\"title\":{\"text\":\"sum of Accuracy\"}},\"legend\":{\"tracegroupgap\":0},\"margin\":{\"t\":60},\"barmode\":\"relative\"},                        {\"responsive\": true}                    ).then(function(){\n",
              "                            \n",
              "var gd = document.getElementById('d029e782-e380-48a8-bef6-995a2d7c5757');\n",
              "var x = new MutationObserver(function (mutations, observer) {{\n",
              "        var display = window.getComputedStyle(gd).display;\n",
              "        if (!display || display === 'none') {{\n",
              "            console.log([gd, 'removed!']);\n",
              "            Plotly.purge(gd);\n",
              "            observer.disconnect();\n",
              "        }}\n",
              "}});\n",
              "\n",
              "// Listen for the removal of the full notebook cells\n",
              "var notebookContainer = gd.closest('#notebook-container');\n",
              "if (notebookContainer) {{\n",
              "    x.observe(notebookContainer, {childList: true});\n",
              "}}\n",
              "\n",
              "// Listen for the clearing of the current output cell\n",
              "var outputEl = gd.closest('.output');\n",
              "if (outputEl) {{\n",
              "    x.observe(outputEl, {childList: true});\n",
              "}}\n",
              "\n",
              "                        })                };                            </script>        </div>\n",
              "</body>\n",
              "</html>"
            ]
          },
          "metadata": {}
        }
      ]
    },
    {
      "cell_type": "markdown",
      "source": [
        "Among the classification algorithms, svc is having high accuracy comparing to other models."
      ],
      "metadata": {
        "id": "AGcV2msatNNf"
      }
    },
    {
      "cell_type": "markdown",
      "source": [
        "# **Reading the test data**"
      ],
      "metadata": {
        "id": "oszqgOYwuA_t"
      }
    },
    {
      "cell_type": "code",
      "source": [
        "test = pd.read_csv('/content/gdrive/MyDrive/MobileTest.csv')\n",
        "test.head(5)"
      ],
      "metadata": {
        "id": "cUGpYdS_t8f6",
        "colab": {
          "base_uri": "https://localhost:8080/",
          "height": 236
        },
        "outputId": "a245fb91-2b19-4b78-c9c7-db469b3d74f2"
      },
      "execution_count": 50,
      "outputs": [
        {
          "output_type": "execute_result",
          "data": {
            "text/plain": [
              "   id  battery_power  blue  clock_speed  dual_sim  fc  four_g  int_memory  \\\n",
              "0   1           1043     1          1.8         1  14       0           5   \n",
              "1   2            841     1          0.5         1   4       1          61   \n",
              "2   3           1807     1          2.8         0   1       0          27   \n",
              "3   4           1546     0          0.5         1  18       1          25   \n",
              "4   5           1434     0          1.4         0  11       1          49   \n",
              "\n",
              "   m_dep  mobile_wt  ...  pc  px_height  px_width   ram  sc_h  sc_w  \\\n",
              "0    0.1        193  ...  16        226      1412  3476    12     7   \n",
              "1    0.8        191  ...  12        746       857  3895     6     0   \n",
              "2    0.9        186  ...   4       1270      1366  2396    17    10   \n",
              "3    0.5         96  ...  20        295      1752  3893    10     0   \n",
              "4    0.5        108  ...  18        749       810  1773    15     8   \n",
              "\n",
              "   talk_time  three_g  touch_screen  wifi  \n",
              "0          2        0             1     0  \n",
              "1          7        1             0     0  \n",
              "2         10        0             1     1  \n",
              "3          7        1             1     0  \n",
              "4          7        1             0     1  \n",
              "\n",
              "[5 rows x 21 columns]"
            ],
            "text/html": [
              "\n",
              "  <div id=\"df-d490c338-b353-4cd8-ae90-9192b5323cb6\">\n",
              "    <div class=\"colab-df-container\">\n",
              "      <div>\n",
              "<style scoped>\n",
              "    .dataframe tbody tr th:only-of-type {\n",
              "        vertical-align: middle;\n",
              "    }\n",
              "\n",
              "    .dataframe tbody tr th {\n",
              "        vertical-align: top;\n",
              "    }\n",
              "\n",
              "    .dataframe thead th {\n",
              "        text-align: right;\n",
              "    }\n",
              "</style>\n",
              "<table border=\"1\" class=\"dataframe\">\n",
              "  <thead>\n",
              "    <tr style=\"text-align: right;\">\n",
              "      <th></th>\n",
              "      <th>id</th>\n",
              "      <th>battery_power</th>\n",
              "      <th>blue</th>\n",
              "      <th>clock_speed</th>\n",
              "      <th>dual_sim</th>\n",
              "      <th>fc</th>\n",
              "      <th>four_g</th>\n",
              "      <th>int_memory</th>\n",
              "      <th>m_dep</th>\n",
              "      <th>mobile_wt</th>\n",
              "      <th>...</th>\n",
              "      <th>pc</th>\n",
              "      <th>px_height</th>\n",
              "      <th>px_width</th>\n",
              "      <th>ram</th>\n",
              "      <th>sc_h</th>\n",
              "      <th>sc_w</th>\n",
              "      <th>talk_time</th>\n",
              "      <th>three_g</th>\n",
              "      <th>touch_screen</th>\n",
              "      <th>wifi</th>\n",
              "    </tr>\n",
              "  </thead>\n",
              "  <tbody>\n",
              "    <tr>\n",
              "      <th>0</th>\n",
              "      <td>1</td>\n",
              "      <td>1043</td>\n",
              "      <td>1</td>\n",
              "      <td>1.8</td>\n",
              "      <td>1</td>\n",
              "      <td>14</td>\n",
              "      <td>0</td>\n",
              "      <td>5</td>\n",
              "      <td>0.1</td>\n",
              "      <td>193</td>\n",
              "      <td>...</td>\n",
              "      <td>16</td>\n",
              "      <td>226</td>\n",
              "      <td>1412</td>\n",
              "      <td>3476</td>\n",
              "      <td>12</td>\n",
              "      <td>7</td>\n",
              "      <td>2</td>\n",
              "      <td>0</td>\n",
              "      <td>1</td>\n",
              "      <td>0</td>\n",
              "    </tr>\n",
              "    <tr>\n",
              "      <th>1</th>\n",
              "      <td>2</td>\n",
              "      <td>841</td>\n",
              "      <td>1</td>\n",
              "      <td>0.5</td>\n",
              "      <td>1</td>\n",
              "      <td>4</td>\n",
              "      <td>1</td>\n",
              "      <td>61</td>\n",
              "      <td>0.8</td>\n",
              "      <td>191</td>\n",
              "      <td>...</td>\n",
              "      <td>12</td>\n",
              "      <td>746</td>\n",
              "      <td>857</td>\n",
              "      <td>3895</td>\n",
              "      <td>6</td>\n",
              "      <td>0</td>\n",
              "      <td>7</td>\n",
              "      <td>1</td>\n",
              "      <td>0</td>\n",
              "      <td>0</td>\n",
              "    </tr>\n",
              "    <tr>\n",
              "      <th>2</th>\n",
              "      <td>3</td>\n",
              "      <td>1807</td>\n",
              "      <td>1</td>\n",
              "      <td>2.8</td>\n",
              "      <td>0</td>\n",
              "      <td>1</td>\n",
              "      <td>0</td>\n",
              "      <td>27</td>\n",
              "      <td>0.9</td>\n",
              "      <td>186</td>\n",
              "      <td>...</td>\n",
              "      <td>4</td>\n",
              "      <td>1270</td>\n",
              "      <td>1366</td>\n",
              "      <td>2396</td>\n",
              "      <td>17</td>\n",
              "      <td>10</td>\n",
              "      <td>10</td>\n",
              "      <td>0</td>\n",
              "      <td>1</td>\n",
              "      <td>1</td>\n",
              "    </tr>\n",
              "    <tr>\n",
              "      <th>3</th>\n",
              "      <td>4</td>\n",
              "      <td>1546</td>\n",
              "      <td>0</td>\n",
              "      <td>0.5</td>\n",
              "      <td>1</td>\n",
              "      <td>18</td>\n",
              "      <td>1</td>\n",
              "      <td>25</td>\n",
              "      <td>0.5</td>\n",
              "      <td>96</td>\n",
              "      <td>...</td>\n",
              "      <td>20</td>\n",
              "      <td>295</td>\n",
              "      <td>1752</td>\n",
              "      <td>3893</td>\n",
              "      <td>10</td>\n",
              "      <td>0</td>\n",
              "      <td>7</td>\n",
              "      <td>1</td>\n",
              "      <td>1</td>\n",
              "      <td>0</td>\n",
              "    </tr>\n",
              "    <tr>\n",
              "      <th>4</th>\n",
              "      <td>5</td>\n",
              "      <td>1434</td>\n",
              "      <td>0</td>\n",
              "      <td>1.4</td>\n",
              "      <td>0</td>\n",
              "      <td>11</td>\n",
              "      <td>1</td>\n",
              "      <td>49</td>\n",
              "      <td>0.5</td>\n",
              "      <td>108</td>\n",
              "      <td>...</td>\n",
              "      <td>18</td>\n",
              "      <td>749</td>\n",
              "      <td>810</td>\n",
              "      <td>1773</td>\n",
              "      <td>15</td>\n",
              "      <td>8</td>\n",
              "      <td>7</td>\n",
              "      <td>1</td>\n",
              "      <td>0</td>\n",
              "      <td>1</td>\n",
              "    </tr>\n",
              "  </tbody>\n",
              "</table>\n",
              "<p>5 rows × 21 columns</p>\n",
              "</div>\n",
              "      <button class=\"colab-df-convert\" onclick=\"convertToInteractive('df-d490c338-b353-4cd8-ae90-9192b5323cb6')\"\n",
              "              title=\"Convert this dataframe to an interactive table.\"\n",
              "              style=\"display:none;\">\n",
              "        \n",
              "  <svg xmlns=\"http://www.w3.org/2000/svg\" height=\"24px\"viewBox=\"0 0 24 24\"\n",
              "       width=\"24px\">\n",
              "    <path d=\"M0 0h24v24H0V0z\" fill=\"none\"/>\n",
              "    <path d=\"M18.56 5.44l.94 2.06.94-2.06 2.06-.94-2.06-.94-.94-2.06-.94 2.06-2.06.94zm-11 1L8.5 8.5l.94-2.06 2.06-.94-2.06-.94L8.5 2.5l-.94 2.06-2.06.94zm10 10l.94 2.06.94-2.06 2.06-.94-2.06-.94-.94-2.06-.94 2.06-2.06.94z\"/><path d=\"M17.41 7.96l-1.37-1.37c-.4-.4-.92-.59-1.43-.59-.52 0-1.04.2-1.43.59L10.3 9.45l-7.72 7.72c-.78.78-.78 2.05 0 2.83L4 21.41c.39.39.9.59 1.41.59.51 0 1.02-.2 1.41-.59l7.78-7.78 2.81-2.81c.8-.78.8-2.07 0-2.86zM5.41 20L4 18.59l7.72-7.72 1.47 1.35L5.41 20z\"/>\n",
              "  </svg>\n",
              "      </button>\n",
              "      \n",
              "  <style>\n",
              "    .colab-df-container {\n",
              "      display:flex;\n",
              "      flex-wrap:wrap;\n",
              "      gap: 12px;\n",
              "    }\n",
              "\n",
              "    .colab-df-convert {\n",
              "      background-color: #E8F0FE;\n",
              "      border: none;\n",
              "      border-radius: 50%;\n",
              "      cursor: pointer;\n",
              "      display: none;\n",
              "      fill: #1967D2;\n",
              "      height: 32px;\n",
              "      padding: 0 0 0 0;\n",
              "      width: 32px;\n",
              "    }\n",
              "\n",
              "    .colab-df-convert:hover {\n",
              "      background-color: #E2EBFA;\n",
              "      box-shadow: 0px 1px 2px rgba(60, 64, 67, 0.3), 0px 1px 3px 1px rgba(60, 64, 67, 0.15);\n",
              "      fill: #174EA6;\n",
              "    }\n",
              "\n",
              "    [theme=dark] .colab-df-convert {\n",
              "      background-color: #3B4455;\n",
              "      fill: #D2E3FC;\n",
              "    }\n",
              "\n",
              "    [theme=dark] .colab-df-convert:hover {\n",
              "      background-color: #434B5C;\n",
              "      box-shadow: 0px 1px 3px 1px rgba(0, 0, 0, 0.15);\n",
              "      filter: drop-shadow(0px 1px 2px rgba(0, 0, 0, 0.3));\n",
              "      fill: #FFFFFF;\n",
              "    }\n",
              "  </style>\n",
              "\n",
              "      <script>\n",
              "        const buttonEl =\n",
              "          document.querySelector('#df-d490c338-b353-4cd8-ae90-9192b5323cb6 button.colab-df-convert');\n",
              "        buttonEl.style.display =\n",
              "          google.colab.kernel.accessAllowed ? 'block' : 'none';\n",
              "\n",
              "        async function convertToInteractive(key) {\n",
              "          const element = document.querySelector('#df-d490c338-b353-4cd8-ae90-9192b5323cb6');\n",
              "          const dataTable =\n",
              "            await google.colab.kernel.invokeFunction('convertToInteractive',\n",
              "                                                     [key], {});\n",
              "          if (!dataTable) return;\n",
              "\n",
              "          const docLinkHtml = 'Like what you see? Visit the ' +\n",
              "            '<a target=\"_blank\" href=https://colab.research.google.com/notebooks/data_table.ipynb>data table notebook</a>'\n",
              "            + ' to learn more about interactive tables.';\n",
              "          element.innerHTML = '';\n",
              "          dataTable['output_type'] = 'display_data';\n",
              "          await google.colab.output.renderOutput(dataTable, element);\n",
              "          const docLink = document.createElement('div');\n",
              "          docLink.innerHTML = docLinkHtml;\n",
              "          element.appendChild(docLink);\n",
              "        }\n",
              "      </script>\n",
              "    </div>\n",
              "  </div>\n",
              "  "
            ]
          },
          "metadata": {},
          "execution_count": 50
        }
      ]
    },
    {
      "cell_type": "code",
      "source": [
        "test.columns"
      ],
      "metadata": {
        "colab": {
          "base_uri": "https://localhost:8080/"
        },
        "id": "GYiOefK55EsR",
        "outputId": "b4d043e7-9b0e-4944-9a1d-1988619d310f"
      },
      "execution_count": 51,
      "outputs": [
        {
          "output_type": "execute_result",
          "data": {
            "text/plain": [
              "Index(['id', 'battery_power', 'blue', 'clock_speed', 'dual_sim', 'fc',\n",
              "       'four_g', 'int_memory', 'm_dep', 'mobile_wt', 'n_cores', 'pc',\n",
              "       'px_height', 'px_width', 'ram', 'sc_h', 'sc_w', 'talk_time', 'three_g',\n",
              "       'touch_screen', 'wifi'],\n",
              "      dtype='object')"
            ]
          },
          "metadata": {},
          "execution_count": 51
        }
      ]
    },
    {
      "cell_type": "code",
      "source": [
        "sub=[]\n",
        "sub=test['id']\n",
        "sub\n"
      ],
      "metadata": {
        "id": "yHoEDOYWxsN5",
        "colab": {
          "base_uri": "https://localhost:8080/"
        },
        "outputId": "f1dbddbc-f0e7-4b99-916d-f40755d5e545"
      },
      "execution_count": 52,
      "outputs": [
        {
          "output_type": "execute_result",
          "data": {
            "text/plain": [
              "0         1\n",
              "1         2\n",
              "2         3\n",
              "3         4\n",
              "4         5\n",
              "       ... \n",
              "995     996\n",
              "996     997\n",
              "997     998\n",
              "998     999\n",
              "999    1000\n",
              "Name: id, Length: 1000, dtype: int64"
            ]
          },
          "metadata": {},
          "execution_count": 52
        }
      ]
    },
    {
      "cell_type": "code",
      "source": [
        "test.columns"
      ],
      "metadata": {
        "colab": {
          "base_uri": "https://localhost:8080/"
        },
        "id": "OVcMnuK55i5m",
        "outputId": "e49ba5f3-b409-4c15-b8fb-e5e98e394bb0"
      },
      "execution_count": 53,
      "outputs": [
        {
          "output_type": "execute_result",
          "data": {
            "text/plain": [
              "Index(['id', 'battery_power', 'blue', 'clock_speed', 'dual_sim', 'fc',\n",
              "       'four_g', 'int_memory', 'm_dep', 'mobile_wt', 'n_cores', 'pc',\n",
              "       'px_height', 'px_width', 'ram', 'sc_h', 'sc_w', 'talk_time', 'three_g',\n",
              "       'touch_screen', 'wifi'],\n",
              "      dtype='object')"
            ]
          },
          "metadata": {},
          "execution_count": 53
        }
      ]
    },
    {
      "cell_type": "code",
      "source": [
        "test_data=test.drop('id',axis=1)"
      ],
      "metadata": {
        "id": "rFTORrD36VRS"
      },
      "execution_count": 54,
      "outputs": []
    },
    {
      "cell_type": "code",
      "source": [
        "#scaling test data\n",
        "test=scaler.fit_transform(test)\n",
        "test=pd.DataFrame(test)\n",
        "test.describe()"
      ],
      "metadata": {
        "id": "PeyeNP3TuYoY",
        "colab": {
          "base_uri": "https://localhost:8080/",
          "height": 446
        },
        "outputId": "9d8a08a3-daeb-4a4c-aa4f-1af374fde428"
      },
      "execution_count": 55,
      "outputs": [
        {
          "output_type": "execute_result",
          "data": {
            "text/plain": [
              "               0             1             2             3             4   \\\n",
              "count  1000.00000  1.000000e+03  1.000000e+03  1.000000e+03  1.000000e+03   \n",
              "mean      0.00000  2.309264e-17 -5.773160e-17 -1.811884e-16  1.421085e-17   \n",
              "std       1.00050  1.000500e+00  1.000500e+00  1.000500e+00  1.000500e+00   \n",
              "min      -1.73032 -1.731692e+00 -1.032529e+00 -1.255832e+00 -1.034598e+00   \n",
              "25%      -0.86516 -8.178521e-01 -1.032529e+00 -1.014535e+00 -1.034598e+00   \n",
              "50%       0.00000 -4.650173e-03  9.684960e-01 -4.934530e-02  9.665588e-01   \n",
              "75%       0.86516  8.808493e-01  9.684960e-01  9.158440e-01  9.665588e-01   \n",
              "max       1.73032  1.736273e+00  9.684960e-01  1.760385e+00  9.665588e-01   \n",
              "\n",
              "                 5             6             7             8             9   \\\n",
              "count  1.000000e+03  1.000000e+03  1.000000e+03  1.000000e+03  1.000000e+03   \n",
              "mean   2.087219e-17  8.881784e-17 -4.796163e-17  9.592327e-17  1.199041e-16   \n",
              "std    1.000500e+00  1.000500e+00  1.000500e+00  1.000500e+00  1.000500e+00   \n",
              "min   -1.029568e+00 -9.743294e-01 -1.746835e+00 -1.487247e+00 -1.708411e+00   \n",
              "25%   -8.054080e-01 -9.743294e-01 -8.638147e-01 -7.747932e-01 -8.543635e-01   \n",
              "50%   -3.570874e-01 -9.743294e-01  4.680008e-02 -6.233969e-02 -1.466953e-02   \n",
              "75%    5.395539e-01  1.026347e+00  8.470373e-01  1.006341e+00  8.752625e-01   \n",
              "max    3.229478e+00  1.026347e+00  1.674869e+00  1.718794e+00  1.736487e+00   \n",
              "\n",
              "       ...            11            12            13            14  \\\n",
              "count  ...  1.000000e+03  1.000000e+03  1.000000e+03  1.000000e+03   \n",
              "mean   ... -5.062617e-17  4.263256e-17  2.557954e-16 -4.263256e-17   \n",
              "std    ...  1.000500e+00  1.000500e+00  1.000500e+00  1.000500e+00   \n",
              "min    ... -1.650347e+00 -1.449276e+00 -1.681129e+00 -1.724979e+00   \n",
              "25%    ... -8.296057e-01 -8.397502e-01 -9.284856e-01 -8.291569e-01   \n",
              "50%    ... -8.864010e-03 -1.447171e-01  2.326994e-02  1.333458e-02   \n",
              "75%    ...  9.760260e-01  6.375563e-01  9.056207e-01  8.519182e-01   \n",
              "max    ...  1.632619e+00  2.957800e+00  1.725393e+00  1.701076e+00   \n",
              "\n",
              "                 15            16            17            18         19  \\\n",
              "count  1.000000e+03  1.000000e+03  1.000000e+03  1.000000e+03  1000.0000   \n",
              "mean   1.847411e-16  5.773160e-17 -1.669775e-16 -4.618528e-17     0.0000   \n",
              "std    1.000500e+00  1.000500e+00  1.000500e+00  1.000500e+00     1.0005   \n",
              "min   -1.619796e+00 -1.254383e+00 -1.653355e+00 -1.760216e+00    -1.0000   \n",
              "25%   -9.251013e-01 -7.824554e-01 -7.889153e-01  5.681121e-01    -1.0000   \n",
              "50%    1.157824e-03 -7.456451e-02 -1.546893e-02  5.681121e-01     0.0000   \n",
              "75%    9.274170e-01  6.333264e-01  8.944680e-01  5.681121e-01     1.0000   \n",
              "max    1.622111e+00  2.992963e+00  1.622418e+00  5.681121e-01     1.0000   \n",
              "\n",
              "                20  \n",
              "count  1000.000000  \n",
              "mean      0.000000  \n",
              "std       1.000500  \n",
              "min      -1.014099  \n",
              "25%      -1.014099  \n",
              "50%       0.986097  \n",
              "75%       0.986097  \n",
              "max       0.986097  \n",
              "\n",
              "[8 rows x 21 columns]"
            ],
            "text/html": [
              "\n",
              "  <div id=\"df-7fff9e38-1149-42f9-b320-ede8caf5f0f2\">\n",
              "    <div class=\"colab-df-container\">\n",
              "      <div>\n",
              "<style scoped>\n",
              "    .dataframe tbody tr th:only-of-type {\n",
              "        vertical-align: middle;\n",
              "    }\n",
              "\n",
              "    .dataframe tbody tr th {\n",
              "        vertical-align: top;\n",
              "    }\n",
              "\n",
              "    .dataframe thead th {\n",
              "        text-align: right;\n",
              "    }\n",
              "</style>\n",
              "<table border=\"1\" class=\"dataframe\">\n",
              "  <thead>\n",
              "    <tr style=\"text-align: right;\">\n",
              "      <th></th>\n",
              "      <th>0</th>\n",
              "      <th>1</th>\n",
              "      <th>2</th>\n",
              "      <th>3</th>\n",
              "      <th>4</th>\n",
              "      <th>5</th>\n",
              "      <th>6</th>\n",
              "      <th>7</th>\n",
              "      <th>8</th>\n",
              "      <th>9</th>\n",
              "      <th>...</th>\n",
              "      <th>11</th>\n",
              "      <th>12</th>\n",
              "      <th>13</th>\n",
              "      <th>14</th>\n",
              "      <th>15</th>\n",
              "      <th>16</th>\n",
              "      <th>17</th>\n",
              "      <th>18</th>\n",
              "      <th>19</th>\n",
              "      <th>20</th>\n",
              "    </tr>\n",
              "  </thead>\n",
              "  <tbody>\n",
              "    <tr>\n",
              "      <th>count</th>\n",
              "      <td>1000.00000</td>\n",
              "      <td>1.000000e+03</td>\n",
              "      <td>1.000000e+03</td>\n",
              "      <td>1.000000e+03</td>\n",
              "      <td>1.000000e+03</td>\n",
              "      <td>1.000000e+03</td>\n",
              "      <td>1.000000e+03</td>\n",
              "      <td>1.000000e+03</td>\n",
              "      <td>1.000000e+03</td>\n",
              "      <td>1.000000e+03</td>\n",
              "      <td>...</td>\n",
              "      <td>1.000000e+03</td>\n",
              "      <td>1.000000e+03</td>\n",
              "      <td>1.000000e+03</td>\n",
              "      <td>1.000000e+03</td>\n",
              "      <td>1.000000e+03</td>\n",
              "      <td>1.000000e+03</td>\n",
              "      <td>1.000000e+03</td>\n",
              "      <td>1.000000e+03</td>\n",
              "      <td>1000.0000</td>\n",
              "      <td>1000.000000</td>\n",
              "    </tr>\n",
              "    <tr>\n",
              "      <th>mean</th>\n",
              "      <td>0.00000</td>\n",
              "      <td>2.309264e-17</td>\n",
              "      <td>-5.773160e-17</td>\n",
              "      <td>-1.811884e-16</td>\n",
              "      <td>1.421085e-17</td>\n",
              "      <td>2.087219e-17</td>\n",
              "      <td>8.881784e-17</td>\n",
              "      <td>-4.796163e-17</td>\n",
              "      <td>9.592327e-17</td>\n",
              "      <td>1.199041e-16</td>\n",
              "      <td>...</td>\n",
              "      <td>-5.062617e-17</td>\n",
              "      <td>4.263256e-17</td>\n",
              "      <td>2.557954e-16</td>\n",
              "      <td>-4.263256e-17</td>\n",
              "      <td>1.847411e-16</td>\n",
              "      <td>5.773160e-17</td>\n",
              "      <td>-1.669775e-16</td>\n",
              "      <td>-4.618528e-17</td>\n",
              "      <td>0.0000</td>\n",
              "      <td>0.000000</td>\n",
              "    </tr>\n",
              "    <tr>\n",
              "      <th>std</th>\n",
              "      <td>1.00050</td>\n",
              "      <td>1.000500e+00</td>\n",
              "      <td>1.000500e+00</td>\n",
              "      <td>1.000500e+00</td>\n",
              "      <td>1.000500e+00</td>\n",
              "      <td>1.000500e+00</td>\n",
              "      <td>1.000500e+00</td>\n",
              "      <td>1.000500e+00</td>\n",
              "      <td>1.000500e+00</td>\n",
              "      <td>1.000500e+00</td>\n",
              "      <td>...</td>\n",
              "      <td>1.000500e+00</td>\n",
              "      <td>1.000500e+00</td>\n",
              "      <td>1.000500e+00</td>\n",
              "      <td>1.000500e+00</td>\n",
              "      <td>1.000500e+00</td>\n",
              "      <td>1.000500e+00</td>\n",
              "      <td>1.000500e+00</td>\n",
              "      <td>1.000500e+00</td>\n",
              "      <td>1.0005</td>\n",
              "      <td>1.000500</td>\n",
              "    </tr>\n",
              "    <tr>\n",
              "      <th>min</th>\n",
              "      <td>-1.73032</td>\n",
              "      <td>-1.731692e+00</td>\n",
              "      <td>-1.032529e+00</td>\n",
              "      <td>-1.255832e+00</td>\n",
              "      <td>-1.034598e+00</td>\n",
              "      <td>-1.029568e+00</td>\n",
              "      <td>-9.743294e-01</td>\n",
              "      <td>-1.746835e+00</td>\n",
              "      <td>-1.487247e+00</td>\n",
              "      <td>-1.708411e+00</td>\n",
              "      <td>...</td>\n",
              "      <td>-1.650347e+00</td>\n",
              "      <td>-1.449276e+00</td>\n",
              "      <td>-1.681129e+00</td>\n",
              "      <td>-1.724979e+00</td>\n",
              "      <td>-1.619796e+00</td>\n",
              "      <td>-1.254383e+00</td>\n",
              "      <td>-1.653355e+00</td>\n",
              "      <td>-1.760216e+00</td>\n",
              "      <td>-1.0000</td>\n",
              "      <td>-1.014099</td>\n",
              "    </tr>\n",
              "    <tr>\n",
              "      <th>25%</th>\n",
              "      <td>-0.86516</td>\n",
              "      <td>-8.178521e-01</td>\n",
              "      <td>-1.032529e+00</td>\n",
              "      <td>-1.014535e+00</td>\n",
              "      <td>-1.034598e+00</td>\n",
              "      <td>-8.054080e-01</td>\n",
              "      <td>-9.743294e-01</td>\n",
              "      <td>-8.638147e-01</td>\n",
              "      <td>-7.747932e-01</td>\n",
              "      <td>-8.543635e-01</td>\n",
              "      <td>...</td>\n",
              "      <td>-8.296057e-01</td>\n",
              "      <td>-8.397502e-01</td>\n",
              "      <td>-9.284856e-01</td>\n",
              "      <td>-8.291569e-01</td>\n",
              "      <td>-9.251013e-01</td>\n",
              "      <td>-7.824554e-01</td>\n",
              "      <td>-7.889153e-01</td>\n",
              "      <td>5.681121e-01</td>\n",
              "      <td>-1.0000</td>\n",
              "      <td>-1.014099</td>\n",
              "    </tr>\n",
              "    <tr>\n",
              "      <th>50%</th>\n",
              "      <td>0.00000</td>\n",
              "      <td>-4.650173e-03</td>\n",
              "      <td>9.684960e-01</td>\n",
              "      <td>-4.934530e-02</td>\n",
              "      <td>9.665588e-01</td>\n",
              "      <td>-3.570874e-01</td>\n",
              "      <td>-9.743294e-01</td>\n",
              "      <td>4.680008e-02</td>\n",
              "      <td>-6.233969e-02</td>\n",
              "      <td>-1.466953e-02</td>\n",
              "      <td>...</td>\n",
              "      <td>-8.864010e-03</td>\n",
              "      <td>-1.447171e-01</td>\n",
              "      <td>2.326994e-02</td>\n",
              "      <td>1.333458e-02</td>\n",
              "      <td>1.157824e-03</td>\n",
              "      <td>-7.456451e-02</td>\n",
              "      <td>-1.546893e-02</td>\n",
              "      <td>5.681121e-01</td>\n",
              "      <td>0.0000</td>\n",
              "      <td>0.986097</td>\n",
              "    </tr>\n",
              "    <tr>\n",
              "      <th>75%</th>\n",
              "      <td>0.86516</td>\n",
              "      <td>8.808493e-01</td>\n",
              "      <td>9.684960e-01</td>\n",
              "      <td>9.158440e-01</td>\n",
              "      <td>9.665588e-01</td>\n",
              "      <td>5.395539e-01</td>\n",
              "      <td>1.026347e+00</td>\n",
              "      <td>8.470373e-01</td>\n",
              "      <td>1.006341e+00</td>\n",
              "      <td>8.752625e-01</td>\n",
              "      <td>...</td>\n",
              "      <td>9.760260e-01</td>\n",
              "      <td>6.375563e-01</td>\n",
              "      <td>9.056207e-01</td>\n",
              "      <td>8.519182e-01</td>\n",
              "      <td>9.274170e-01</td>\n",
              "      <td>6.333264e-01</td>\n",
              "      <td>8.944680e-01</td>\n",
              "      <td>5.681121e-01</td>\n",
              "      <td>1.0000</td>\n",
              "      <td>0.986097</td>\n",
              "    </tr>\n",
              "    <tr>\n",
              "      <th>max</th>\n",
              "      <td>1.73032</td>\n",
              "      <td>1.736273e+00</td>\n",
              "      <td>9.684960e-01</td>\n",
              "      <td>1.760385e+00</td>\n",
              "      <td>9.665588e-01</td>\n",
              "      <td>3.229478e+00</td>\n",
              "      <td>1.026347e+00</td>\n",
              "      <td>1.674869e+00</td>\n",
              "      <td>1.718794e+00</td>\n",
              "      <td>1.736487e+00</td>\n",
              "      <td>...</td>\n",
              "      <td>1.632619e+00</td>\n",
              "      <td>2.957800e+00</td>\n",
              "      <td>1.725393e+00</td>\n",
              "      <td>1.701076e+00</td>\n",
              "      <td>1.622111e+00</td>\n",
              "      <td>2.992963e+00</td>\n",
              "      <td>1.622418e+00</td>\n",
              "      <td>5.681121e-01</td>\n",
              "      <td>1.0000</td>\n",
              "      <td>0.986097</td>\n",
              "    </tr>\n",
              "  </tbody>\n",
              "</table>\n",
              "<p>8 rows × 21 columns</p>\n",
              "</div>\n",
              "      <button class=\"colab-df-convert\" onclick=\"convertToInteractive('df-7fff9e38-1149-42f9-b320-ede8caf5f0f2')\"\n",
              "              title=\"Convert this dataframe to an interactive table.\"\n",
              "              style=\"display:none;\">\n",
              "        \n",
              "  <svg xmlns=\"http://www.w3.org/2000/svg\" height=\"24px\"viewBox=\"0 0 24 24\"\n",
              "       width=\"24px\">\n",
              "    <path d=\"M0 0h24v24H0V0z\" fill=\"none\"/>\n",
              "    <path d=\"M18.56 5.44l.94 2.06.94-2.06 2.06-.94-2.06-.94-.94-2.06-.94 2.06-2.06.94zm-11 1L8.5 8.5l.94-2.06 2.06-.94-2.06-.94L8.5 2.5l-.94 2.06-2.06.94zm10 10l.94 2.06.94-2.06 2.06-.94-2.06-.94-.94-2.06-.94 2.06-2.06.94z\"/><path d=\"M17.41 7.96l-1.37-1.37c-.4-.4-.92-.59-1.43-.59-.52 0-1.04.2-1.43.59L10.3 9.45l-7.72 7.72c-.78.78-.78 2.05 0 2.83L4 21.41c.39.39.9.59 1.41.59.51 0 1.02-.2 1.41-.59l7.78-7.78 2.81-2.81c.8-.78.8-2.07 0-2.86zM5.41 20L4 18.59l7.72-7.72 1.47 1.35L5.41 20z\"/>\n",
              "  </svg>\n",
              "      </button>\n",
              "      \n",
              "  <style>\n",
              "    .colab-df-container {\n",
              "      display:flex;\n",
              "      flex-wrap:wrap;\n",
              "      gap: 12px;\n",
              "    }\n",
              "\n",
              "    .colab-df-convert {\n",
              "      background-color: #E8F0FE;\n",
              "      border: none;\n",
              "      border-radius: 50%;\n",
              "      cursor: pointer;\n",
              "      display: none;\n",
              "      fill: #1967D2;\n",
              "      height: 32px;\n",
              "      padding: 0 0 0 0;\n",
              "      width: 32px;\n",
              "    }\n",
              "\n",
              "    .colab-df-convert:hover {\n",
              "      background-color: #E2EBFA;\n",
              "      box-shadow: 0px 1px 2px rgba(60, 64, 67, 0.3), 0px 1px 3px 1px rgba(60, 64, 67, 0.15);\n",
              "      fill: #174EA6;\n",
              "    }\n",
              "\n",
              "    [theme=dark] .colab-df-convert {\n",
              "      background-color: #3B4455;\n",
              "      fill: #D2E3FC;\n",
              "    }\n",
              "\n",
              "    [theme=dark] .colab-df-convert:hover {\n",
              "      background-color: #434B5C;\n",
              "      box-shadow: 0px 1px 3px 1px rgba(0, 0, 0, 0.15);\n",
              "      filter: drop-shadow(0px 1px 2px rgba(0, 0, 0, 0.3));\n",
              "      fill: #FFFFFF;\n",
              "    }\n",
              "  </style>\n",
              "\n",
              "      <script>\n",
              "        const buttonEl =\n",
              "          document.querySelector('#df-7fff9e38-1149-42f9-b320-ede8caf5f0f2 button.colab-df-convert');\n",
              "        buttonEl.style.display =\n",
              "          google.colab.kernel.accessAllowed ? 'block' : 'none';\n",
              "\n",
              "        async function convertToInteractive(key) {\n",
              "          const element = document.querySelector('#df-7fff9e38-1149-42f9-b320-ede8caf5f0f2');\n",
              "          const dataTable =\n",
              "            await google.colab.kernel.invokeFunction('convertToInteractive',\n",
              "                                                     [key], {});\n",
              "          if (!dataTable) return;\n",
              "\n",
              "          const docLinkHtml = 'Like what you see? Visit the ' +\n",
              "            '<a target=\"_blank\" href=https://colab.research.google.com/notebooks/data_table.ipynb>data table notebook</a>'\n",
              "            + ' to learn more about interactive tables.';\n",
              "          element.innerHTML = '';\n",
              "          dataTable['output_type'] = 'display_data';\n",
              "          await google.colab.output.renderOutput(dataTable, element);\n",
              "          const docLink = document.createElement('div');\n",
              "          docLink.innerHTML = docLinkHtml;\n",
              "          element.appendChild(docLink);\n",
              "        }\n",
              "      </script>\n",
              "    </div>\n",
              "  </div>\n",
              "  "
            ]
          },
          "metadata": {},
          "execution_count": 55
        }
      ]
    },
    {
      "cell_type": "code",
      "source": [
        "test_data.shape"
      ],
      "metadata": {
        "id": "-CC-ouc-y0-k",
        "colab": {
          "base_uri": "https://localhost:8080/"
        },
        "outputId": "f2e8664d-0047-46dd-da7a-cfd3c89aecbc"
      },
      "execution_count": 56,
      "outputs": [
        {
          "output_type": "execute_result",
          "data": {
            "text/plain": [
              "(1000, 20)"
            ]
          },
          "metadata": {},
          "execution_count": 56
        }
      ]
    },
    {
      "cell_type": "code",
      "source": [
        "test_pred=svc.predict(test_data)"
      ],
      "metadata": {
        "id": "hvZhzh3HyNW_"
      },
      "execution_count": 57,
      "outputs": []
    },
    {
      "cell_type": "code",
      "source": [
        "#checking the correctness between predicted and actual values\n",
        "print('predicted values using SVM Model',test_pred[:20])\n",
        "print('actual values',y_test[:20].values)"
      ],
      "metadata": {
        "colab": {
          "base_uri": "https://localhost:8080/"
        },
        "id": "7v5t6HFb6oex",
        "outputId": "a0d3e818-b165-4917-bbfb-351ace203221"
      },
      "execution_count": 58,
      "outputs": [
        {
          "output_type": "stream",
          "name": "stdout",
          "text": [
            "predicted values using SVM Model [3 3 2 3 1 3 3 1 3 0 3 3 0 0 2 0 2 1 3 2]\n",
            "actual values [3 0 2 2 2 0 0 3 3 1 1 3 0 2 3 0 3 2 2 1]\n"
          ]
        }
      ]
    },
    {
      "cell_type": "code",
      "source": [
        "submission=pd.DataFrame()\n",
        "submission['id']=sub\n",
        "submission['price_range']=svc_pred\n",
        "submission"
      ],
      "metadata": {
        "colab": {
          "base_uri": "https://localhost:8080/",
          "height": 424
        },
        "id": "yhvwZrsD89N0",
        "outputId": "65d1714a-8423-4201-a2e3-8ccd8515149b"
      },
      "execution_count": 59,
      "outputs": [
        {
          "output_type": "execute_result",
          "data": {
            "text/plain": [
              "       id  price_range\n",
              "0       1            3\n",
              "1       2            0\n",
              "2       3            2\n",
              "3       4            2\n",
              "4       5            2\n",
              "..    ...          ...\n",
              "995   996            1\n",
              "996   997            3\n",
              "997   998            1\n",
              "998   999            1\n",
              "999  1000            3\n",
              "\n",
              "[1000 rows x 2 columns]"
            ],
            "text/html": [
              "\n",
              "  <div id=\"df-66031069-a361-4728-9d26-7f5b50d93365\">\n",
              "    <div class=\"colab-df-container\">\n",
              "      <div>\n",
              "<style scoped>\n",
              "    .dataframe tbody tr th:only-of-type {\n",
              "        vertical-align: middle;\n",
              "    }\n",
              "\n",
              "    .dataframe tbody tr th {\n",
              "        vertical-align: top;\n",
              "    }\n",
              "\n",
              "    .dataframe thead th {\n",
              "        text-align: right;\n",
              "    }\n",
              "</style>\n",
              "<table border=\"1\" class=\"dataframe\">\n",
              "  <thead>\n",
              "    <tr style=\"text-align: right;\">\n",
              "      <th></th>\n",
              "      <th>id</th>\n",
              "      <th>price_range</th>\n",
              "    </tr>\n",
              "  </thead>\n",
              "  <tbody>\n",
              "    <tr>\n",
              "      <th>0</th>\n",
              "      <td>1</td>\n",
              "      <td>3</td>\n",
              "    </tr>\n",
              "    <tr>\n",
              "      <th>1</th>\n",
              "      <td>2</td>\n",
              "      <td>0</td>\n",
              "    </tr>\n",
              "    <tr>\n",
              "      <th>2</th>\n",
              "      <td>3</td>\n",
              "      <td>2</td>\n",
              "    </tr>\n",
              "    <tr>\n",
              "      <th>3</th>\n",
              "      <td>4</td>\n",
              "      <td>2</td>\n",
              "    </tr>\n",
              "    <tr>\n",
              "      <th>4</th>\n",
              "      <td>5</td>\n",
              "      <td>2</td>\n",
              "    </tr>\n",
              "    <tr>\n",
              "      <th>...</th>\n",
              "      <td>...</td>\n",
              "      <td>...</td>\n",
              "    </tr>\n",
              "    <tr>\n",
              "      <th>995</th>\n",
              "      <td>996</td>\n",
              "      <td>1</td>\n",
              "    </tr>\n",
              "    <tr>\n",
              "      <th>996</th>\n",
              "      <td>997</td>\n",
              "      <td>3</td>\n",
              "    </tr>\n",
              "    <tr>\n",
              "      <th>997</th>\n",
              "      <td>998</td>\n",
              "      <td>1</td>\n",
              "    </tr>\n",
              "    <tr>\n",
              "      <th>998</th>\n",
              "      <td>999</td>\n",
              "      <td>1</td>\n",
              "    </tr>\n",
              "    <tr>\n",
              "      <th>999</th>\n",
              "      <td>1000</td>\n",
              "      <td>3</td>\n",
              "    </tr>\n",
              "  </tbody>\n",
              "</table>\n",
              "<p>1000 rows × 2 columns</p>\n",
              "</div>\n",
              "      <button class=\"colab-df-convert\" onclick=\"convertToInteractive('df-66031069-a361-4728-9d26-7f5b50d93365')\"\n",
              "              title=\"Convert this dataframe to an interactive table.\"\n",
              "              style=\"display:none;\">\n",
              "        \n",
              "  <svg xmlns=\"http://www.w3.org/2000/svg\" height=\"24px\"viewBox=\"0 0 24 24\"\n",
              "       width=\"24px\">\n",
              "    <path d=\"M0 0h24v24H0V0z\" fill=\"none\"/>\n",
              "    <path d=\"M18.56 5.44l.94 2.06.94-2.06 2.06-.94-2.06-.94-.94-2.06-.94 2.06-2.06.94zm-11 1L8.5 8.5l.94-2.06 2.06-.94-2.06-.94L8.5 2.5l-.94 2.06-2.06.94zm10 10l.94 2.06.94-2.06 2.06-.94-2.06-.94-.94-2.06-.94 2.06-2.06.94z\"/><path d=\"M17.41 7.96l-1.37-1.37c-.4-.4-.92-.59-1.43-.59-.52 0-1.04.2-1.43.59L10.3 9.45l-7.72 7.72c-.78.78-.78 2.05 0 2.83L4 21.41c.39.39.9.59 1.41.59.51 0 1.02-.2 1.41-.59l7.78-7.78 2.81-2.81c.8-.78.8-2.07 0-2.86zM5.41 20L4 18.59l7.72-7.72 1.47 1.35L5.41 20z\"/>\n",
              "  </svg>\n",
              "      </button>\n",
              "      \n",
              "  <style>\n",
              "    .colab-df-container {\n",
              "      display:flex;\n",
              "      flex-wrap:wrap;\n",
              "      gap: 12px;\n",
              "    }\n",
              "\n",
              "    .colab-df-convert {\n",
              "      background-color: #E8F0FE;\n",
              "      border: none;\n",
              "      border-radius: 50%;\n",
              "      cursor: pointer;\n",
              "      display: none;\n",
              "      fill: #1967D2;\n",
              "      height: 32px;\n",
              "      padding: 0 0 0 0;\n",
              "      width: 32px;\n",
              "    }\n",
              "\n",
              "    .colab-df-convert:hover {\n",
              "      background-color: #E2EBFA;\n",
              "      box-shadow: 0px 1px 2px rgba(60, 64, 67, 0.3), 0px 1px 3px 1px rgba(60, 64, 67, 0.15);\n",
              "      fill: #174EA6;\n",
              "    }\n",
              "\n",
              "    [theme=dark] .colab-df-convert {\n",
              "      background-color: #3B4455;\n",
              "      fill: #D2E3FC;\n",
              "    }\n",
              "\n",
              "    [theme=dark] .colab-df-convert:hover {\n",
              "      background-color: #434B5C;\n",
              "      box-shadow: 0px 1px 3px 1px rgba(0, 0, 0, 0.15);\n",
              "      filter: drop-shadow(0px 1px 2px rgba(0, 0, 0, 0.3));\n",
              "      fill: #FFFFFF;\n",
              "    }\n",
              "  </style>\n",
              "\n",
              "      <script>\n",
              "        const buttonEl =\n",
              "          document.querySelector('#df-66031069-a361-4728-9d26-7f5b50d93365 button.colab-df-convert');\n",
              "        buttonEl.style.display =\n",
              "          google.colab.kernel.accessAllowed ? 'block' : 'none';\n",
              "\n",
              "        async function convertToInteractive(key) {\n",
              "          const element = document.querySelector('#df-66031069-a361-4728-9d26-7f5b50d93365');\n",
              "          const dataTable =\n",
              "            await google.colab.kernel.invokeFunction('convertToInteractive',\n",
              "                                                     [key], {});\n",
              "          if (!dataTable) return;\n",
              "\n",
              "          const docLinkHtml = 'Like what you see? Visit the ' +\n",
              "            '<a target=\"_blank\" href=https://colab.research.google.com/notebooks/data_table.ipynb>data table notebook</a>'\n",
              "            + ' to learn more about interactive tables.';\n",
              "          element.innerHTML = '';\n",
              "          dataTable['output_type'] = 'display_data';\n",
              "          await google.colab.output.renderOutput(dataTable, element);\n",
              "          const docLink = document.createElement('div');\n",
              "          docLink.innerHTML = docLinkHtml;\n",
              "          element.appendChild(docLink);\n",
              "        }\n",
              "      </script>\n",
              "    </div>\n",
              "  </div>\n",
              "  "
            ]
          },
          "metadata": {},
          "execution_count": 59
        }
      ]
    },
    {
      "cell_type": "code",
      "source": [
        "submission.nunique()"
      ],
      "metadata": {
        "colab": {
          "base_uri": "https://localhost:8080/"
        },
        "id": "P9LvCFzDA3fW",
        "outputId": "5a1ccae4-b488-4736-f62e-64fcb3162933"
      },
      "execution_count": 60,
      "outputs": [
        {
          "output_type": "execute_result",
          "data": {
            "text/plain": [
              "id             1000\n",
              "price_range       4\n",
              "dtype: int64"
            ]
          },
          "metadata": {},
          "execution_count": 60
        }
      ]
    },
    {
      "cell_type": "code",
      "source": [
        "submission['price_range'].value_counts()"
      ],
      "metadata": {
        "colab": {
          "base_uri": "https://localhost:8080/"
        },
        "id": "t41BrsJ9A5vR",
        "outputId": "fea8b8dc-b10a-429b-f88a-fffde635c22d"
      },
      "execution_count": 61,
      "outputs": [
        {
          "output_type": "execute_result",
          "data": {
            "text/plain": [
              "3    274\n",
              "0    254\n",
              "1    251\n",
              "2    221\n",
              "Name: price_range, dtype: int64"
            ]
          },
          "metadata": {},
          "execution_count": 61
        }
      ]
    },
    {
      "cell_type": "markdown",
      "source": [
        "Of the predicted values,274 smartphones are having very high cost."
      ],
      "metadata": {
        "id": "IgHqwNb_BC5Y"
      }
    },
    {
      "cell_type": "code",
      "source": [
        "submission.to_csv('submission_sample.csv',index=False)"
      ],
      "metadata": {
        "id": "EaJQey2yCVm1"
      },
      "execution_count": 62,
      "outputs": []
    },
    {
      "cell_type": "markdown",
      "source": [
        "# **Ranking**"
      ],
      "metadata": {
        "id": "SHbUmlTyC1vi"
      }
    },
    {
      "cell_type": "markdown",
      "source": [
        "# Ranking according to price range"
      ],
      "metadata": {
        "id": "Xtiq5AWuDJ9V"
      }
    },
    {
      "cell_type": "code",
      "source": [
        "data[\"rank_by_price\"] = data[\"price_range\"].rank()"
      ],
      "metadata": {
        "id": "O4cIiqnFCtMg"
      },
      "execution_count": 63,
      "outputs": []
    },
    {
      "cell_type": "code",
      "source": [
        "data1=data\n",
        "data1.head()"
      ],
      "metadata": {
        "colab": {
          "base_uri": "https://localhost:8080/",
          "height": 300
        },
        "id": "JHNmuB_-DzCh",
        "outputId": "3f247883-1431-4301-b3d4-fbef510453cd"
      },
      "execution_count": 64,
      "outputs": [
        {
          "output_type": "execute_result",
          "data": {
            "text/plain": [
              "   battery_power  blue  clock_speed  dual_sim  fc  four_g  int_memory  m_dep  \\\n",
              "0            842     0          2.2         0   1       0           7    0.6   \n",
              "1           1021     1          0.5         1   0       1          53    0.7   \n",
              "2            563     1          0.5         1   2       1          41    0.9   \n",
              "3            615     1          2.5         0   0       0          10    0.8   \n",
              "4           1821     1          1.2         0  13       1          44    0.6   \n",
              "\n",
              "   mobile_wt  n_cores  ...  px_width   ram  sc_h  sc_w  talk_time  three_g  \\\n",
              "0        188        2  ...       756  2549     9     7         19        0   \n",
              "1        136        3  ...      1988  2631    17     3          7        1   \n",
              "2        145        5  ...      1716  2603    11     2          9        1   \n",
              "3        131        6  ...      1786  2769    16     8         11        1   \n",
              "4        141        2  ...      1212  1411     8     2         15        1   \n",
              "\n",
              "   touch_screen  wifi  price_range  rank_by_price  \n",
              "0             0     1            1          750.5  \n",
              "1             1     0            2         1250.5  \n",
              "2             1     0            2         1250.5  \n",
              "3             0     0            2         1250.5  \n",
              "4             1     0            1          750.5  \n",
              "\n",
              "[5 rows x 22 columns]"
            ],
            "text/html": [
              "\n",
              "  <div id=\"df-fde01789-f5ab-4ee8-8cda-b8ff61fa0547\">\n",
              "    <div class=\"colab-df-container\">\n",
              "      <div>\n",
              "<style scoped>\n",
              "    .dataframe tbody tr th:only-of-type {\n",
              "        vertical-align: middle;\n",
              "    }\n",
              "\n",
              "    .dataframe tbody tr th {\n",
              "        vertical-align: top;\n",
              "    }\n",
              "\n",
              "    .dataframe thead th {\n",
              "        text-align: right;\n",
              "    }\n",
              "</style>\n",
              "<table border=\"1\" class=\"dataframe\">\n",
              "  <thead>\n",
              "    <tr style=\"text-align: right;\">\n",
              "      <th></th>\n",
              "      <th>battery_power</th>\n",
              "      <th>blue</th>\n",
              "      <th>clock_speed</th>\n",
              "      <th>dual_sim</th>\n",
              "      <th>fc</th>\n",
              "      <th>four_g</th>\n",
              "      <th>int_memory</th>\n",
              "      <th>m_dep</th>\n",
              "      <th>mobile_wt</th>\n",
              "      <th>n_cores</th>\n",
              "      <th>...</th>\n",
              "      <th>px_width</th>\n",
              "      <th>ram</th>\n",
              "      <th>sc_h</th>\n",
              "      <th>sc_w</th>\n",
              "      <th>talk_time</th>\n",
              "      <th>three_g</th>\n",
              "      <th>touch_screen</th>\n",
              "      <th>wifi</th>\n",
              "      <th>price_range</th>\n",
              "      <th>rank_by_price</th>\n",
              "    </tr>\n",
              "  </thead>\n",
              "  <tbody>\n",
              "    <tr>\n",
              "      <th>0</th>\n",
              "      <td>842</td>\n",
              "      <td>0</td>\n",
              "      <td>2.2</td>\n",
              "      <td>0</td>\n",
              "      <td>1</td>\n",
              "      <td>0</td>\n",
              "      <td>7</td>\n",
              "      <td>0.6</td>\n",
              "      <td>188</td>\n",
              "      <td>2</td>\n",
              "      <td>...</td>\n",
              "      <td>756</td>\n",
              "      <td>2549</td>\n",
              "      <td>9</td>\n",
              "      <td>7</td>\n",
              "      <td>19</td>\n",
              "      <td>0</td>\n",
              "      <td>0</td>\n",
              "      <td>1</td>\n",
              "      <td>1</td>\n",
              "      <td>750.5</td>\n",
              "    </tr>\n",
              "    <tr>\n",
              "      <th>1</th>\n",
              "      <td>1021</td>\n",
              "      <td>1</td>\n",
              "      <td>0.5</td>\n",
              "      <td>1</td>\n",
              "      <td>0</td>\n",
              "      <td>1</td>\n",
              "      <td>53</td>\n",
              "      <td>0.7</td>\n",
              "      <td>136</td>\n",
              "      <td>3</td>\n",
              "      <td>...</td>\n",
              "      <td>1988</td>\n",
              "      <td>2631</td>\n",
              "      <td>17</td>\n",
              "      <td>3</td>\n",
              "      <td>7</td>\n",
              "      <td>1</td>\n",
              "      <td>1</td>\n",
              "      <td>0</td>\n",
              "      <td>2</td>\n",
              "      <td>1250.5</td>\n",
              "    </tr>\n",
              "    <tr>\n",
              "      <th>2</th>\n",
              "      <td>563</td>\n",
              "      <td>1</td>\n",
              "      <td>0.5</td>\n",
              "      <td>1</td>\n",
              "      <td>2</td>\n",
              "      <td>1</td>\n",
              "      <td>41</td>\n",
              "      <td>0.9</td>\n",
              "      <td>145</td>\n",
              "      <td>5</td>\n",
              "      <td>...</td>\n",
              "      <td>1716</td>\n",
              "      <td>2603</td>\n",
              "      <td>11</td>\n",
              "      <td>2</td>\n",
              "      <td>9</td>\n",
              "      <td>1</td>\n",
              "      <td>1</td>\n",
              "      <td>0</td>\n",
              "      <td>2</td>\n",
              "      <td>1250.5</td>\n",
              "    </tr>\n",
              "    <tr>\n",
              "      <th>3</th>\n",
              "      <td>615</td>\n",
              "      <td>1</td>\n",
              "      <td>2.5</td>\n",
              "      <td>0</td>\n",
              "      <td>0</td>\n",
              "      <td>0</td>\n",
              "      <td>10</td>\n",
              "      <td>0.8</td>\n",
              "      <td>131</td>\n",
              "      <td>6</td>\n",
              "      <td>...</td>\n",
              "      <td>1786</td>\n",
              "      <td>2769</td>\n",
              "      <td>16</td>\n",
              "      <td>8</td>\n",
              "      <td>11</td>\n",
              "      <td>1</td>\n",
              "      <td>0</td>\n",
              "      <td>0</td>\n",
              "      <td>2</td>\n",
              "      <td>1250.5</td>\n",
              "    </tr>\n",
              "    <tr>\n",
              "      <th>4</th>\n",
              "      <td>1821</td>\n",
              "      <td>1</td>\n",
              "      <td>1.2</td>\n",
              "      <td>0</td>\n",
              "      <td>13</td>\n",
              "      <td>1</td>\n",
              "      <td>44</td>\n",
              "      <td>0.6</td>\n",
              "      <td>141</td>\n",
              "      <td>2</td>\n",
              "      <td>...</td>\n",
              "      <td>1212</td>\n",
              "      <td>1411</td>\n",
              "      <td>8</td>\n",
              "      <td>2</td>\n",
              "      <td>15</td>\n",
              "      <td>1</td>\n",
              "      <td>1</td>\n",
              "      <td>0</td>\n",
              "      <td>1</td>\n",
              "      <td>750.5</td>\n",
              "    </tr>\n",
              "  </tbody>\n",
              "</table>\n",
              "<p>5 rows × 22 columns</p>\n",
              "</div>\n",
              "      <button class=\"colab-df-convert\" onclick=\"convertToInteractive('df-fde01789-f5ab-4ee8-8cda-b8ff61fa0547')\"\n",
              "              title=\"Convert this dataframe to an interactive table.\"\n",
              "              style=\"display:none;\">\n",
              "        \n",
              "  <svg xmlns=\"http://www.w3.org/2000/svg\" height=\"24px\"viewBox=\"0 0 24 24\"\n",
              "       width=\"24px\">\n",
              "    <path d=\"M0 0h24v24H0V0z\" fill=\"none\"/>\n",
              "    <path d=\"M18.56 5.44l.94 2.06.94-2.06 2.06-.94-2.06-.94-.94-2.06-.94 2.06-2.06.94zm-11 1L8.5 8.5l.94-2.06 2.06-.94-2.06-.94L8.5 2.5l-.94 2.06-2.06.94zm10 10l.94 2.06.94-2.06 2.06-.94-2.06-.94-.94-2.06-.94 2.06-2.06.94z\"/><path d=\"M17.41 7.96l-1.37-1.37c-.4-.4-.92-.59-1.43-.59-.52 0-1.04.2-1.43.59L10.3 9.45l-7.72 7.72c-.78.78-.78 2.05 0 2.83L4 21.41c.39.39.9.59 1.41.59.51 0 1.02-.2 1.41-.59l7.78-7.78 2.81-2.81c.8-.78.8-2.07 0-2.86zM5.41 20L4 18.59l7.72-7.72 1.47 1.35L5.41 20z\"/>\n",
              "  </svg>\n",
              "      </button>\n",
              "      \n",
              "  <style>\n",
              "    .colab-df-container {\n",
              "      display:flex;\n",
              "      flex-wrap:wrap;\n",
              "      gap: 12px;\n",
              "    }\n",
              "\n",
              "    .colab-df-convert {\n",
              "      background-color: #E8F0FE;\n",
              "      border: none;\n",
              "      border-radius: 50%;\n",
              "      cursor: pointer;\n",
              "      display: none;\n",
              "      fill: #1967D2;\n",
              "      height: 32px;\n",
              "      padding: 0 0 0 0;\n",
              "      width: 32px;\n",
              "    }\n",
              "\n",
              "    .colab-df-convert:hover {\n",
              "      background-color: #E2EBFA;\n",
              "      box-shadow: 0px 1px 2px rgba(60, 64, 67, 0.3), 0px 1px 3px 1px rgba(60, 64, 67, 0.15);\n",
              "      fill: #174EA6;\n",
              "    }\n",
              "\n",
              "    [theme=dark] .colab-df-convert {\n",
              "      background-color: #3B4455;\n",
              "      fill: #D2E3FC;\n",
              "    }\n",
              "\n",
              "    [theme=dark] .colab-df-convert:hover {\n",
              "      background-color: #434B5C;\n",
              "      box-shadow: 0px 1px 3px 1px rgba(0, 0, 0, 0.15);\n",
              "      filter: drop-shadow(0px 1px 2px rgba(0, 0, 0, 0.3));\n",
              "      fill: #FFFFFF;\n",
              "    }\n",
              "  </style>\n",
              "\n",
              "      <script>\n",
              "        const buttonEl =\n",
              "          document.querySelector('#df-fde01789-f5ab-4ee8-8cda-b8ff61fa0547 button.colab-df-convert');\n",
              "        buttonEl.style.display =\n",
              "          google.colab.kernel.accessAllowed ? 'block' : 'none';\n",
              "\n",
              "        async function convertToInteractive(key) {\n",
              "          const element = document.querySelector('#df-fde01789-f5ab-4ee8-8cda-b8ff61fa0547');\n",
              "          const dataTable =\n",
              "            await google.colab.kernel.invokeFunction('convertToInteractive',\n",
              "                                                     [key], {});\n",
              "          if (!dataTable) return;\n",
              "\n",
              "          const docLinkHtml = 'Like what you see? Visit the ' +\n",
              "            '<a target=\"_blank\" href=https://colab.research.google.com/notebooks/data_table.ipynb>data table notebook</a>'\n",
              "            + ' to learn more about interactive tables.';\n",
              "          element.innerHTML = '';\n",
              "          dataTable['output_type'] = 'display_data';\n",
              "          await google.colab.output.renderOutput(dataTable, element);\n",
              "          const docLink = document.createElement('div');\n",
              "          docLink.innerHTML = docLinkHtml;\n",
              "          element.appendChild(docLink);\n",
              "        }\n",
              "      </script>\n",
              "    </div>\n",
              "  </div>\n",
              "  "
            ]
          },
          "metadata": {},
          "execution_count": 64
        }
      ]
    },
    {
      "cell_type": "code",
      "source": [
        "#sorting ranked dataset\n",
        "data1.sort_values(by=[\"rank_by_price\"])"
      ],
      "metadata": {
        "colab": {
          "base_uri": "https://localhost:8080/",
          "height": 488
        },
        "id": "lPCMrdM5ECJ2",
        "outputId": "9bb113ae-3b90-4505-828b-d255af53400e"
      },
      "execution_count": 65,
      "outputs": [
        {
          "output_type": "execute_result",
          "data": {
            "text/plain": [
              "      battery_power  blue  clock_speed  dual_sim  fc  four_g  int_memory  \\\n",
              "1838            720     1          0.9         1  12       1          14   \n",
              "1762            808     1          0.5         1   3       0          46   \n",
              "419             914     1          0.9         0   2       0           4   \n",
              "846            1489     0          2.4         1   8       0          32   \n",
              "845            1907     0          2.0         0  13       0          55   \n",
              "...             ...   ...          ...       ...  ..     ...         ...   \n",
              "981            1046     1          2.8         1   0       1          58   \n",
              "982            1035     0          0.6         1   2       1          44   \n",
              "987            1688     0          2.5         0   0       1          21   \n",
              "956             862     0          2.3         0   9       1           6   \n",
              "1999            510     1          2.0         1   5       1          45   \n",
              "\n",
              "      m_dep  mobile_wt  n_cores  ...  px_width   ram  sc_h  sc_w  talk_time  \\\n",
              "1838    0.8        165        4  ...      1234  1086    14     7          3   \n",
              "1762    0.5        105        8  ...       529  1082    15     5         10   \n",
              "419     0.8        100        2  ...      1495   808    11     7          5   \n",
              "846     0.6        200        1  ...       812   776     7     6          8   \n",
              "845     0.9        105        7  ...      1513   286    14     4         17   \n",
              "...     ...        ...      ...  ...       ...   ...   ...   ...        ...   \n",
              "981     0.2        100        8  ...      1040  3863    17    12          9   \n",
              "982     0.5         99        3  ...      1960  3506    14     5         12   \n",
              "987     0.2        170        7  ...       864  3984    17    14          8   \n",
              "956     0.1        107        8  ...      1977  3458     9     4          9   \n",
              "1999    0.9        168        6  ...       754  3919    19     4          2   \n",
              "\n",
              "      three_g  touch_screen  wifi  price_range  rank_by_price  \n",
              "1838        1             1     0            0          250.5  \n",
              "1762        1             0     1            0          250.5  \n",
              "419         1             1     0            0          250.5  \n",
              "846         0             0     0            0          250.5  \n",
              "845         1             0     1            0          250.5  \n",
              "...       ...           ...   ...          ...            ...  \n",
              "981         1             1     1            3         1750.5  \n",
              "982         1             1     0            3         1750.5  \n",
              "987         1             1     1            3         1750.5  \n",
              "956         1             1     1            3         1750.5  \n",
              "1999        1             1     1            3         1750.5  \n",
              "\n",
              "[2000 rows x 22 columns]"
            ],
            "text/html": [
              "\n",
              "  <div id=\"df-8a9d485b-77c6-456c-9320-cd3df582ed7f\">\n",
              "    <div class=\"colab-df-container\">\n",
              "      <div>\n",
              "<style scoped>\n",
              "    .dataframe tbody tr th:only-of-type {\n",
              "        vertical-align: middle;\n",
              "    }\n",
              "\n",
              "    .dataframe tbody tr th {\n",
              "        vertical-align: top;\n",
              "    }\n",
              "\n",
              "    .dataframe thead th {\n",
              "        text-align: right;\n",
              "    }\n",
              "</style>\n",
              "<table border=\"1\" class=\"dataframe\">\n",
              "  <thead>\n",
              "    <tr style=\"text-align: right;\">\n",
              "      <th></th>\n",
              "      <th>battery_power</th>\n",
              "      <th>blue</th>\n",
              "      <th>clock_speed</th>\n",
              "      <th>dual_sim</th>\n",
              "      <th>fc</th>\n",
              "      <th>four_g</th>\n",
              "      <th>int_memory</th>\n",
              "      <th>m_dep</th>\n",
              "      <th>mobile_wt</th>\n",
              "      <th>n_cores</th>\n",
              "      <th>...</th>\n",
              "      <th>px_width</th>\n",
              "      <th>ram</th>\n",
              "      <th>sc_h</th>\n",
              "      <th>sc_w</th>\n",
              "      <th>talk_time</th>\n",
              "      <th>three_g</th>\n",
              "      <th>touch_screen</th>\n",
              "      <th>wifi</th>\n",
              "      <th>price_range</th>\n",
              "      <th>rank_by_price</th>\n",
              "    </tr>\n",
              "  </thead>\n",
              "  <tbody>\n",
              "    <tr>\n",
              "      <th>1838</th>\n",
              "      <td>720</td>\n",
              "      <td>1</td>\n",
              "      <td>0.9</td>\n",
              "      <td>1</td>\n",
              "      <td>12</td>\n",
              "      <td>1</td>\n",
              "      <td>14</td>\n",
              "      <td>0.8</td>\n",
              "      <td>165</td>\n",
              "      <td>4</td>\n",
              "      <td>...</td>\n",
              "      <td>1234</td>\n",
              "      <td>1086</td>\n",
              "      <td>14</td>\n",
              "      <td>7</td>\n",
              "      <td>3</td>\n",
              "      <td>1</td>\n",
              "      <td>1</td>\n",
              "      <td>0</td>\n",
              "      <td>0</td>\n",
              "      <td>250.5</td>\n",
              "    </tr>\n",
              "    <tr>\n",
              "      <th>1762</th>\n",
              "      <td>808</td>\n",
              "      <td>1</td>\n",
              "      <td>0.5</td>\n",
              "      <td>1</td>\n",
              "      <td>3</td>\n",
              "      <td>0</td>\n",
              "      <td>46</td>\n",
              "      <td>0.5</td>\n",
              "      <td>105</td>\n",
              "      <td>8</td>\n",
              "      <td>...</td>\n",
              "      <td>529</td>\n",
              "      <td>1082</td>\n",
              "      <td>15</td>\n",
              "      <td>5</td>\n",
              "      <td>10</td>\n",
              "      <td>1</td>\n",
              "      <td>0</td>\n",
              "      <td>1</td>\n",
              "      <td>0</td>\n",
              "      <td>250.5</td>\n",
              "    </tr>\n",
              "    <tr>\n",
              "      <th>419</th>\n",
              "      <td>914</td>\n",
              "      <td>1</td>\n",
              "      <td>0.9</td>\n",
              "      <td>0</td>\n",
              "      <td>2</td>\n",
              "      <td>0</td>\n",
              "      <td>4</td>\n",
              "      <td>0.8</td>\n",
              "      <td>100</td>\n",
              "      <td>2</td>\n",
              "      <td>...</td>\n",
              "      <td>1495</td>\n",
              "      <td>808</td>\n",
              "      <td>11</td>\n",
              "      <td>7</td>\n",
              "      <td>5</td>\n",
              "      <td>1</td>\n",
              "      <td>1</td>\n",
              "      <td>0</td>\n",
              "      <td>0</td>\n",
              "      <td>250.5</td>\n",
              "    </tr>\n",
              "    <tr>\n",
              "      <th>846</th>\n",
              "      <td>1489</td>\n",
              "      <td>0</td>\n",
              "      <td>2.4</td>\n",
              "      <td>1</td>\n",
              "      <td>8</td>\n",
              "      <td>0</td>\n",
              "      <td>32</td>\n",
              "      <td>0.6</td>\n",
              "      <td>200</td>\n",
              "      <td>1</td>\n",
              "      <td>...</td>\n",
              "      <td>812</td>\n",
              "      <td>776</td>\n",
              "      <td>7</td>\n",
              "      <td>6</td>\n",
              "      <td>8</td>\n",
              "      <td>0</td>\n",
              "      <td>0</td>\n",
              "      <td>0</td>\n",
              "      <td>0</td>\n",
              "      <td>250.5</td>\n",
              "    </tr>\n",
              "    <tr>\n",
              "      <th>845</th>\n",
              "      <td>1907</td>\n",
              "      <td>0</td>\n",
              "      <td>2.0</td>\n",
              "      <td>0</td>\n",
              "      <td>13</td>\n",
              "      <td>0</td>\n",
              "      <td>55</td>\n",
              "      <td>0.9</td>\n",
              "      <td>105</td>\n",
              "      <td>7</td>\n",
              "      <td>...</td>\n",
              "      <td>1513</td>\n",
              "      <td>286</td>\n",
              "      <td>14</td>\n",
              "      <td>4</td>\n",
              "      <td>17</td>\n",
              "      <td>1</td>\n",
              "      <td>0</td>\n",
              "      <td>1</td>\n",
              "      <td>0</td>\n",
              "      <td>250.5</td>\n",
              "    </tr>\n",
              "    <tr>\n",
              "      <th>...</th>\n",
              "      <td>...</td>\n",
              "      <td>...</td>\n",
              "      <td>...</td>\n",
              "      <td>...</td>\n",
              "      <td>...</td>\n",
              "      <td>...</td>\n",
              "      <td>...</td>\n",
              "      <td>...</td>\n",
              "      <td>...</td>\n",
              "      <td>...</td>\n",
              "      <td>...</td>\n",
              "      <td>...</td>\n",
              "      <td>...</td>\n",
              "      <td>...</td>\n",
              "      <td>...</td>\n",
              "      <td>...</td>\n",
              "      <td>...</td>\n",
              "      <td>...</td>\n",
              "      <td>...</td>\n",
              "      <td>...</td>\n",
              "      <td>...</td>\n",
              "    </tr>\n",
              "    <tr>\n",
              "      <th>981</th>\n",
              "      <td>1046</td>\n",
              "      <td>1</td>\n",
              "      <td>2.8</td>\n",
              "      <td>1</td>\n",
              "      <td>0</td>\n",
              "      <td>1</td>\n",
              "      <td>58</td>\n",
              "      <td>0.2</td>\n",
              "      <td>100</td>\n",
              "      <td>8</td>\n",
              "      <td>...</td>\n",
              "      <td>1040</td>\n",
              "      <td>3863</td>\n",
              "      <td>17</td>\n",
              "      <td>12</td>\n",
              "      <td>9</td>\n",
              "      <td>1</td>\n",
              "      <td>1</td>\n",
              "      <td>1</td>\n",
              "      <td>3</td>\n",
              "      <td>1750.5</td>\n",
              "    </tr>\n",
              "    <tr>\n",
              "      <th>982</th>\n",
              "      <td>1035</td>\n",
              "      <td>0</td>\n",
              "      <td>0.6</td>\n",
              "      <td>1</td>\n",
              "      <td>2</td>\n",
              "      <td>1</td>\n",
              "      <td>44</td>\n",
              "      <td>0.5</td>\n",
              "      <td>99</td>\n",
              "      <td>3</td>\n",
              "      <td>...</td>\n",
              "      <td>1960</td>\n",
              "      <td>3506</td>\n",
              "      <td>14</td>\n",
              "      <td>5</td>\n",
              "      <td>12</td>\n",
              "      <td>1</td>\n",
              "      <td>1</td>\n",
              "      <td>0</td>\n",
              "      <td>3</td>\n",
              "      <td>1750.5</td>\n",
              "    </tr>\n",
              "    <tr>\n",
              "      <th>987</th>\n",
              "      <td>1688</td>\n",
              "      <td>0</td>\n",
              "      <td>2.5</td>\n",
              "      <td>0</td>\n",
              "      <td>0</td>\n",
              "      <td>1</td>\n",
              "      <td>21</td>\n",
              "      <td>0.2</td>\n",
              "      <td>170</td>\n",
              "      <td>7</td>\n",
              "      <td>...</td>\n",
              "      <td>864</td>\n",
              "      <td>3984</td>\n",
              "      <td>17</td>\n",
              "      <td>14</td>\n",
              "      <td>8</td>\n",
              "      <td>1</td>\n",
              "      <td>1</td>\n",
              "      <td>1</td>\n",
              "      <td>3</td>\n",
              "      <td>1750.5</td>\n",
              "    </tr>\n",
              "    <tr>\n",
              "      <th>956</th>\n",
              "      <td>862</td>\n",
              "      <td>0</td>\n",
              "      <td>2.3</td>\n",
              "      <td>0</td>\n",
              "      <td>9</td>\n",
              "      <td>1</td>\n",
              "      <td>6</td>\n",
              "      <td>0.1</td>\n",
              "      <td>107</td>\n",
              "      <td>8</td>\n",
              "      <td>...</td>\n",
              "      <td>1977</td>\n",
              "      <td>3458</td>\n",
              "      <td>9</td>\n",
              "      <td>4</td>\n",
              "      <td>9</td>\n",
              "      <td>1</td>\n",
              "      <td>1</td>\n",
              "      <td>1</td>\n",
              "      <td>3</td>\n",
              "      <td>1750.5</td>\n",
              "    </tr>\n",
              "    <tr>\n",
              "      <th>1999</th>\n",
              "      <td>510</td>\n",
              "      <td>1</td>\n",
              "      <td>2.0</td>\n",
              "      <td>1</td>\n",
              "      <td>5</td>\n",
              "      <td>1</td>\n",
              "      <td>45</td>\n",
              "      <td>0.9</td>\n",
              "      <td>168</td>\n",
              "      <td>6</td>\n",
              "      <td>...</td>\n",
              "      <td>754</td>\n",
              "      <td>3919</td>\n",
              "      <td>19</td>\n",
              "      <td>4</td>\n",
              "      <td>2</td>\n",
              "      <td>1</td>\n",
              "      <td>1</td>\n",
              "      <td>1</td>\n",
              "      <td>3</td>\n",
              "      <td>1750.5</td>\n",
              "    </tr>\n",
              "  </tbody>\n",
              "</table>\n",
              "<p>2000 rows × 22 columns</p>\n",
              "</div>\n",
              "      <button class=\"colab-df-convert\" onclick=\"convertToInteractive('df-8a9d485b-77c6-456c-9320-cd3df582ed7f')\"\n",
              "              title=\"Convert this dataframe to an interactive table.\"\n",
              "              style=\"display:none;\">\n",
              "        \n",
              "  <svg xmlns=\"http://www.w3.org/2000/svg\" height=\"24px\"viewBox=\"0 0 24 24\"\n",
              "       width=\"24px\">\n",
              "    <path d=\"M0 0h24v24H0V0z\" fill=\"none\"/>\n",
              "    <path d=\"M18.56 5.44l.94 2.06.94-2.06 2.06-.94-2.06-.94-.94-2.06-.94 2.06-2.06.94zm-11 1L8.5 8.5l.94-2.06 2.06-.94-2.06-.94L8.5 2.5l-.94 2.06-2.06.94zm10 10l.94 2.06.94-2.06 2.06-.94-2.06-.94-.94-2.06-.94 2.06-2.06.94z\"/><path d=\"M17.41 7.96l-1.37-1.37c-.4-.4-.92-.59-1.43-.59-.52 0-1.04.2-1.43.59L10.3 9.45l-7.72 7.72c-.78.78-.78 2.05 0 2.83L4 21.41c.39.39.9.59 1.41.59.51 0 1.02-.2 1.41-.59l7.78-7.78 2.81-2.81c.8-.78.8-2.07 0-2.86zM5.41 20L4 18.59l7.72-7.72 1.47 1.35L5.41 20z\"/>\n",
              "  </svg>\n",
              "      </button>\n",
              "      \n",
              "  <style>\n",
              "    .colab-df-container {\n",
              "      display:flex;\n",
              "      flex-wrap:wrap;\n",
              "      gap: 12px;\n",
              "    }\n",
              "\n",
              "    .colab-df-convert {\n",
              "      background-color: #E8F0FE;\n",
              "      border: none;\n",
              "      border-radius: 50%;\n",
              "      cursor: pointer;\n",
              "      display: none;\n",
              "      fill: #1967D2;\n",
              "      height: 32px;\n",
              "      padding: 0 0 0 0;\n",
              "      width: 32px;\n",
              "    }\n",
              "\n",
              "    .colab-df-convert:hover {\n",
              "      background-color: #E2EBFA;\n",
              "      box-shadow: 0px 1px 2px rgba(60, 64, 67, 0.3), 0px 1px 3px 1px rgba(60, 64, 67, 0.15);\n",
              "      fill: #174EA6;\n",
              "    }\n",
              "\n",
              "    [theme=dark] .colab-df-convert {\n",
              "      background-color: #3B4455;\n",
              "      fill: #D2E3FC;\n",
              "    }\n",
              "\n",
              "    [theme=dark] .colab-df-convert:hover {\n",
              "      background-color: #434B5C;\n",
              "      box-shadow: 0px 1px 3px 1px rgba(0, 0, 0, 0.15);\n",
              "      filter: drop-shadow(0px 1px 2px rgba(0, 0, 0, 0.3));\n",
              "      fill: #FFFFFF;\n",
              "    }\n",
              "  </style>\n",
              "\n",
              "      <script>\n",
              "        const buttonEl =\n",
              "          document.querySelector('#df-8a9d485b-77c6-456c-9320-cd3df582ed7f button.colab-df-convert');\n",
              "        buttonEl.style.display =\n",
              "          google.colab.kernel.accessAllowed ? 'block' : 'none';\n",
              "\n",
              "        async function convertToInteractive(key) {\n",
              "          const element = document.querySelector('#df-8a9d485b-77c6-456c-9320-cd3df582ed7f');\n",
              "          const dataTable =\n",
              "            await google.colab.kernel.invokeFunction('convertToInteractive',\n",
              "                                                     [key], {});\n",
              "          if (!dataTable) return;\n",
              "\n",
              "          const docLinkHtml = 'Like what you see? Visit the ' +\n",
              "            '<a target=\"_blank\" href=https://colab.research.google.com/notebooks/data_table.ipynb>data table notebook</a>'\n",
              "            + ' to learn more about interactive tables.';\n",
              "          element.innerHTML = '';\n",
              "          dataTable['output_type'] = 'display_data';\n",
              "          await google.colab.output.renderOutput(dataTable, element);\n",
              "          const docLink = document.createElement('div');\n",
              "          docLink.innerHTML = docLinkHtml;\n",
              "          element.appendChild(docLink);\n",
              "        }\n",
              "      </script>\n",
              "    </div>\n",
              "  </div>\n",
              "  "
            ]
          },
          "metadata": {},
          "execution_count": 65
        }
      ]
    },
    {
      "cell_type": "markdown",
      "source": [
        "# Ranking all the features"
      ],
      "metadata": {
        "id": "Dgufu2VtfEJ_"
      }
    },
    {
      "cell_type": "code",
      "source": [
        "df=pd.read_csv('/content/gdrive/MyDrive/MobileTrain.csv')"
      ],
      "metadata": {
        "id": "a_r-G0aVEdtY"
      },
      "execution_count": 66,
      "outputs": []
    },
    {
      "cell_type": "code",
      "source": [
        "df1=df.rank()"
      ],
      "metadata": {
        "id": "vVjSDMt5iM4c"
      },
      "execution_count": 67,
      "outputs": []
    },
    {
      "cell_type": "code",
      "source": [
        "df1.sort_values(by=\"price_range\")"
      ],
      "metadata": {
        "colab": {
          "base_uri": "https://localhost:8080/",
          "height": 488
        },
        "id": "KfzG1UfKiqQU",
        "outputId": "5bc5a28e-be44-47ec-ea02-dd64b0928621"
      },
      "execution_count": 68,
      "outputs": [
        {
          "output_type": "execute_result",
          "data": {
            "text/plain": [
              "      battery_power    blue  clock_speed  dual_sim      fc  four_g  \\\n",
              "1838          320.5  1505.5        638.5    1491.0  1853.0  1479.0   \n",
              "1762          435.5  1505.5        207.0    1491.0   993.5   479.0   \n",
              "419           589.0  1505.5        638.5     491.0   814.0   479.0   \n",
              "846          1323.5   505.5       1612.5    1491.0  1601.0   479.0   \n",
              "845          1875.0   505.5       1337.0     491.0  1895.5   479.0   \n",
              "...             ...     ...          ...       ...     ...     ...   \n",
              "981           753.0  1505.5       1868.0    1491.0   237.5  1479.0   \n",
              "982           737.5   505.5        450.5    1491.0   814.0  1479.0   \n",
              "987          1583.0   505.5       1678.5     491.0   237.5  1479.0   \n",
              "956           515.5   505.5       1544.5     491.0  1678.5  1479.0   \n",
              "1999           21.0  1505.5       1337.0    1491.0  1281.0  1479.0   \n",
              "\n",
              "      int_memory   m_dep  mobile_wt  n_cores  ...  px_height  px_width  \\\n",
              "1838       432.0  1595.5     1414.5    872.5  ...      657.5     978.0   \n",
              "1762      1451.5  1003.0      436.0   1872.5  ...      189.0      45.0   \n",
              "419         77.5  1595.5      325.5    366.0  ...      329.5    1341.0   \n",
              "846       1011.0  1198.5     1991.0    121.5  ...      288.0     408.0   \n",
              "845       1727.0  1797.0      436.0   1615.0  ...     1231.5    1363.0   \n",
              "...          ...     ...        ...      ...  ...        ...       ...   \n",
              "981       1828.5   427.0      325.5   1872.5  ...      455.0     728.0   \n",
              "982       1382.0  1003.0      309.0    612.5  ...      419.5    1937.0   \n",
              "987        669.5   427.0     1496.0   1615.0  ...     1134.0     481.5   \n",
              "956        142.0   160.5      472.5   1872.5  ...     1371.0    1966.0   \n",
              "1999      1418.0  1797.0     1457.5   1370.5  ...      868.0     331.5   \n",
              "\n",
              "         ram    sc_h    sc_w  talk_time  three_g  touch_screen    wifi  \\\n",
              "1838   445.5  1214.0  1284.5      146.5   1239.0        1497.5   493.5   \n",
              "1762   442.0  1353.0  1008.0      901.0   1239.0         497.5  1493.5   \n",
              "419    306.0   791.5  1284.5      363.0   1239.0        1497.5   493.5   \n",
              "846    292.0   287.0  1153.5      696.5    239.0         497.5   493.5   \n",
              "845     16.0  1214.0   836.5     1636.5   1239.0         497.5  1493.5   \n",
              "...      ...     ...     ...        ...      ...           ...     ...   \n",
              "981   1919.0  1660.0  1797.5      798.5   1239.0        1497.5  1493.5   \n",
              "982   1732.0  1214.0  1008.0     1106.0   1239.0        1497.5   493.5   \n",
              "987   1994.0  1660.0  1897.0      696.5   1239.0        1497.5  1493.5   \n",
              "956   1703.5   541.5   836.5      798.5   1239.0        1497.5  1493.5   \n",
              "1999  1959.0  1938.5   836.5       50.0   1239.0        1497.5  1493.5   \n",
              "\n",
              "      price_range  \n",
              "1838        250.5  \n",
              "1762        250.5  \n",
              "419         250.5  \n",
              "846         250.5  \n",
              "845         250.5  \n",
              "...           ...  \n",
              "981        1750.5  \n",
              "982        1750.5  \n",
              "987        1750.5  \n",
              "956        1750.5  \n",
              "1999       1750.5  \n",
              "\n",
              "[2000 rows x 21 columns]"
            ],
            "text/html": [
              "\n",
              "  <div id=\"df-1a2c4db1-89f4-45bd-854b-e9afc0da9768\">\n",
              "    <div class=\"colab-df-container\">\n",
              "      <div>\n",
              "<style scoped>\n",
              "    .dataframe tbody tr th:only-of-type {\n",
              "        vertical-align: middle;\n",
              "    }\n",
              "\n",
              "    .dataframe tbody tr th {\n",
              "        vertical-align: top;\n",
              "    }\n",
              "\n",
              "    .dataframe thead th {\n",
              "        text-align: right;\n",
              "    }\n",
              "</style>\n",
              "<table border=\"1\" class=\"dataframe\">\n",
              "  <thead>\n",
              "    <tr style=\"text-align: right;\">\n",
              "      <th></th>\n",
              "      <th>battery_power</th>\n",
              "      <th>blue</th>\n",
              "      <th>clock_speed</th>\n",
              "      <th>dual_sim</th>\n",
              "      <th>fc</th>\n",
              "      <th>four_g</th>\n",
              "      <th>int_memory</th>\n",
              "      <th>m_dep</th>\n",
              "      <th>mobile_wt</th>\n",
              "      <th>n_cores</th>\n",
              "      <th>...</th>\n",
              "      <th>px_height</th>\n",
              "      <th>px_width</th>\n",
              "      <th>ram</th>\n",
              "      <th>sc_h</th>\n",
              "      <th>sc_w</th>\n",
              "      <th>talk_time</th>\n",
              "      <th>three_g</th>\n",
              "      <th>touch_screen</th>\n",
              "      <th>wifi</th>\n",
              "      <th>price_range</th>\n",
              "    </tr>\n",
              "  </thead>\n",
              "  <tbody>\n",
              "    <tr>\n",
              "      <th>1838</th>\n",
              "      <td>320.5</td>\n",
              "      <td>1505.5</td>\n",
              "      <td>638.5</td>\n",
              "      <td>1491.0</td>\n",
              "      <td>1853.0</td>\n",
              "      <td>1479.0</td>\n",
              "      <td>432.0</td>\n",
              "      <td>1595.5</td>\n",
              "      <td>1414.5</td>\n",
              "      <td>872.5</td>\n",
              "      <td>...</td>\n",
              "      <td>657.5</td>\n",
              "      <td>978.0</td>\n",
              "      <td>445.5</td>\n",
              "      <td>1214.0</td>\n",
              "      <td>1284.5</td>\n",
              "      <td>146.5</td>\n",
              "      <td>1239.0</td>\n",
              "      <td>1497.5</td>\n",
              "      <td>493.5</td>\n",
              "      <td>250.5</td>\n",
              "    </tr>\n",
              "    <tr>\n",
              "      <th>1762</th>\n",
              "      <td>435.5</td>\n",
              "      <td>1505.5</td>\n",
              "      <td>207.0</td>\n",
              "      <td>1491.0</td>\n",
              "      <td>993.5</td>\n",
              "      <td>479.0</td>\n",
              "      <td>1451.5</td>\n",
              "      <td>1003.0</td>\n",
              "      <td>436.0</td>\n",
              "      <td>1872.5</td>\n",
              "      <td>...</td>\n",
              "      <td>189.0</td>\n",
              "      <td>45.0</td>\n",
              "      <td>442.0</td>\n",
              "      <td>1353.0</td>\n",
              "      <td>1008.0</td>\n",
              "      <td>901.0</td>\n",
              "      <td>1239.0</td>\n",
              "      <td>497.5</td>\n",
              "      <td>1493.5</td>\n",
              "      <td>250.5</td>\n",
              "    </tr>\n",
              "    <tr>\n",
              "      <th>419</th>\n",
              "      <td>589.0</td>\n",
              "      <td>1505.5</td>\n",
              "      <td>638.5</td>\n",
              "      <td>491.0</td>\n",
              "      <td>814.0</td>\n",
              "      <td>479.0</td>\n",
              "      <td>77.5</td>\n",
              "      <td>1595.5</td>\n",
              "      <td>325.5</td>\n",
              "      <td>366.0</td>\n",
              "      <td>...</td>\n",
              "      <td>329.5</td>\n",
              "      <td>1341.0</td>\n",
              "      <td>306.0</td>\n",
              "      <td>791.5</td>\n",
              "      <td>1284.5</td>\n",
              "      <td>363.0</td>\n",
              "      <td>1239.0</td>\n",
              "      <td>1497.5</td>\n",
              "      <td>493.5</td>\n",
              "      <td>250.5</td>\n",
              "    </tr>\n",
              "    <tr>\n",
              "      <th>846</th>\n",
              "      <td>1323.5</td>\n",
              "      <td>505.5</td>\n",
              "      <td>1612.5</td>\n",
              "      <td>1491.0</td>\n",
              "      <td>1601.0</td>\n",
              "      <td>479.0</td>\n",
              "      <td>1011.0</td>\n",
              "      <td>1198.5</td>\n",
              "      <td>1991.0</td>\n",
              "      <td>121.5</td>\n",
              "      <td>...</td>\n",
              "      <td>288.0</td>\n",
              "      <td>408.0</td>\n",
              "      <td>292.0</td>\n",
              "      <td>287.0</td>\n",
              "      <td>1153.5</td>\n",
              "      <td>696.5</td>\n",
              "      <td>239.0</td>\n",
              "      <td>497.5</td>\n",
              "      <td>493.5</td>\n",
              "      <td>250.5</td>\n",
              "    </tr>\n",
              "    <tr>\n",
              "      <th>845</th>\n",
              "      <td>1875.0</td>\n",
              "      <td>505.5</td>\n",
              "      <td>1337.0</td>\n",
              "      <td>491.0</td>\n",
              "      <td>1895.5</td>\n",
              "      <td>479.0</td>\n",
              "      <td>1727.0</td>\n",
              "      <td>1797.0</td>\n",
              "      <td>436.0</td>\n",
              "      <td>1615.0</td>\n",
              "      <td>...</td>\n",
              "      <td>1231.5</td>\n",
              "      <td>1363.0</td>\n",
              "      <td>16.0</td>\n",
              "      <td>1214.0</td>\n",
              "      <td>836.5</td>\n",
              "      <td>1636.5</td>\n",
              "      <td>1239.0</td>\n",
              "      <td>497.5</td>\n",
              "      <td>1493.5</td>\n",
              "      <td>250.5</td>\n",
              "    </tr>\n",
              "    <tr>\n",
              "      <th>...</th>\n",
              "      <td>...</td>\n",
              "      <td>...</td>\n",
              "      <td>...</td>\n",
              "      <td>...</td>\n",
              "      <td>...</td>\n",
              "      <td>...</td>\n",
              "      <td>...</td>\n",
              "      <td>...</td>\n",
              "      <td>...</td>\n",
              "      <td>...</td>\n",
              "      <td>...</td>\n",
              "      <td>...</td>\n",
              "      <td>...</td>\n",
              "      <td>...</td>\n",
              "      <td>...</td>\n",
              "      <td>...</td>\n",
              "      <td>...</td>\n",
              "      <td>...</td>\n",
              "      <td>...</td>\n",
              "      <td>...</td>\n",
              "      <td>...</td>\n",
              "    </tr>\n",
              "    <tr>\n",
              "      <th>981</th>\n",
              "      <td>753.0</td>\n",
              "      <td>1505.5</td>\n",
              "      <td>1868.0</td>\n",
              "      <td>1491.0</td>\n",
              "      <td>237.5</td>\n",
              "      <td>1479.0</td>\n",
              "      <td>1828.5</td>\n",
              "      <td>427.0</td>\n",
              "      <td>325.5</td>\n",
              "      <td>1872.5</td>\n",
              "      <td>...</td>\n",
              "      <td>455.0</td>\n",
              "      <td>728.0</td>\n",
              "      <td>1919.0</td>\n",
              "      <td>1660.0</td>\n",
              "      <td>1797.5</td>\n",
              "      <td>798.5</td>\n",
              "      <td>1239.0</td>\n",
              "      <td>1497.5</td>\n",
              "      <td>1493.5</td>\n",
              "      <td>1750.5</td>\n",
              "    </tr>\n",
              "    <tr>\n",
              "      <th>982</th>\n",
              "      <td>737.5</td>\n",
              "      <td>505.5</td>\n",
              "      <td>450.5</td>\n",
              "      <td>1491.0</td>\n",
              "      <td>814.0</td>\n",
              "      <td>1479.0</td>\n",
              "      <td>1382.0</td>\n",
              "      <td>1003.0</td>\n",
              "      <td>309.0</td>\n",
              "      <td>612.5</td>\n",
              "      <td>...</td>\n",
              "      <td>419.5</td>\n",
              "      <td>1937.0</td>\n",
              "      <td>1732.0</td>\n",
              "      <td>1214.0</td>\n",
              "      <td>1008.0</td>\n",
              "      <td>1106.0</td>\n",
              "      <td>1239.0</td>\n",
              "      <td>1497.5</td>\n",
              "      <td>493.5</td>\n",
              "      <td>1750.5</td>\n",
              "    </tr>\n",
              "    <tr>\n",
              "      <th>987</th>\n",
              "      <td>1583.0</td>\n",
              "      <td>505.5</td>\n",
              "      <td>1678.5</td>\n",
              "      <td>491.0</td>\n",
              "      <td>237.5</td>\n",
              "      <td>1479.0</td>\n",
              "      <td>669.5</td>\n",
              "      <td>427.0</td>\n",
              "      <td>1496.0</td>\n",
              "      <td>1615.0</td>\n",
              "      <td>...</td>\n",
              "      <td>1134.0</td>\n",
              "      <td>481.5</td>\n",
              "      <td>1994.0</td>\n",
              "      <td>1660.0</td>\n",
              "      <td>1897.0</td>\n",
              "      <td>696.5</td>\n",
              "      <td>1239.0</td>\n",
              "      <td>1497.5</td>\n",
              "      <td>1493.5</td>\n",
              "      <td>1750.5</td>\n",
              "    </tr>\n",
              "    <tr>\n",
              "      <th>956</th>\n",
              "      <td>515.5</td>\n",
              "      <td>505.5</td>\n",
              "      <td>1544.5</td>\n",
              "      <td>491.0</td>\n",
              "      <td>1678.5</td>\n",
              "      <td>1479.0</td>\n",
              "      <td>142.0</td>\n",
              "      <td>160.5</td>\n",
              "      <td>472.5</td>\n",
              "      <td>1872.5</td>\n",
              "      <td>...</td>\n",
              "      <td>1371.0</td>\n",
              "      <td>1966.0</td>\n",
              "      <td>1703.5</td>\n",
              "      <td>541.5</td>\n",
              "      <td>836.5</td>\n",
              "      <td>798.5</td>\n",
              "      <td>1239.0</td>\n",
              "      <td>1497.5</td>\n",
              "      <td>1493.5</td>\n",
              "      <td>1750.5</td>\n",
              "    </tr>\n",
              "    <tr>\n",
              "      <th>1999</th>\n",
              "      <td>21.0</td>\n",
              "      <td>1505.5</td>\n",
              "      <td>1337.0</td>\n",
              "      <td>1491.0</td>\n",
              "      <td>1281.0</td>\n",
              "      <td>1479.0</td>\n",
              "      <td>1418.0</td>\n",
              "      <td>1797.0</td>\n",
              "      <td>1457.5</td>\n",
              "      <td>1370.5</td>\n",
              "      <td>...</td>\n",
              "      <td>868.0</td>\n",
              "      <td>331.5</td>\n",
              "      <td>1959.0</td>\n",
              "      <td>1938.5</td>\n",
              "      <td>836.5</td>\n",
              "      <td>50.0</td>\n",
              "      <td>1239.0</td>\n",
              "      <td>1497.5</td>\n",
              "      <td>1493.5</td>\n",
              "      <td>1750.5</td>\n",
              "    </tr>\n",
              "  </tbody>\n",
              "</table>\n",
              "<p>2000 rows × 21 columns</p>\n",
              "</div>\n",
              "      <button class=\"colab-df-convert\" onclick=\"convertToInteractive('df-1a2c4db1-89f4-45bd-854b-e9afc0da9768')\"\n",
              "              title=\"Convert this dataframe to an interactive table.\"\n",
              "              style=\"display:none;\">\n",
              "        \n",
              "  <svg xmlns=\"http://www.w3.org/2000/svg\" height=\"24px\"viewBox=\"0 0 24 24\"\n",
              "       width=\"24px\">\n",
              "    <path d=\"M0 0h24v24H0V0z\" fill=\"none\"/>\n",
              "    <path d=\"M18.56 5.44l.94 2.06.94-2.06 2.06-.94-2.06-.94-.94-2.06-.94 2.06-2.06.94zm-11 1L8.5 8.5l.94-2.06 2.06-.94-2.06-.94L8.5 2.5l-.94 2.06-2.06.94zm10 10l.94 2.06.94-2.06 2.06-.94-2.06-.94-.94-2.06-.94 2.06-2.06.94z\"/><path d=\"M17.41 7.96l-1.37-1.37c-.4-.4-.92-.59-1.43-.59-.52 0-1.04.2-1.43.59L10.3 9.45l-7.72 7.72c-.78.78-.78 2.05 0 2.83L4 21.41c.39.39.9.59 1.41.59.51 0 1.02-.2 1.41-.59l7.78-7.78 2.81-2.81c.8-.78.8-2.07 0-2.86zM5.41 20L4 18.59l7.72-7.72 1.47 1.35L5.41 20z\"/>\n",
              "  </svg>\n",
              "      </button>\n",
              "      \n",
              "  <style>\n",
              "    .colab-df-container {\n",
              "      display:flex;\n",
              "      flex-wrap:wrap;\n",
              "      gap: 12px;\n",
              "    }\n",
              "\n",
              "    .colab-df-convert {\n",
              "      background-color: #E8F0FE;\n",
              "      border: none;\n",
              "      border-radius: 50%;\n",
              "      cursor: pointer;\n",
              "      display: none;\n",
              "      fill: #1967D2;\n",
              "      height: 32px;\n",
              "      padding: 0 0 0 0;\n",
              "      width: 32px;\n",
              "    }\n",
              "\n",
              "    .colab-df-convert:hover {\n",
              "      background-color: #E2EBFA;\n",
              "      box-shadow: 0px 1px 2px rgba(60, 64, 67, 0.3), 0px 1px 3px 1px rgba(60, 64, 67, 0.15);\n",
              "      fill: #174EA6;\n",
              "    }\n",
              "\n",
              "    [theme=dark] .colab-df-convert {\n",
              "      background-color: #3B4455;\n",
              "      fill: #D2E3FC;\n",
              "    }\n",
              "\n",
              "    [theme=dark] .colab-df-convert:hover {\n",
              "      background-color: #434B5C;\n",
              "      box-shadow: 0px 1px 3px 1px rgba(0, 0, 0, 0.15);\n",
              "      filter: drop-shadow(0px 1px 2px rgba(0, 0, 0, 0.3));\n",
              "      fill: #FFFFFF;\n",
              "    }\n",
              "  </style>\n",
              "\n",
              "      <script>\n",
              "        const buttonEl =\n",
              "          document.querySelector('#df-1a2c4db1-89f4-45bd-854b-e9afc0da9768 button.colab-df-convert');\n",
              "        buttonEl.style.display =\n",
              "          google.colab.kernel.accessAllowed ? 'block' : 'none';\n",
              "\n",
              "        async function convertToInteractive(key) {\n",
              "          const element = document.querySelector('#df-1a2c4db1-89f4-45bd-854b-e9afc0da9768');\n",
              "          const dataTable =\n",
              "            await google.colab.kernel.invokeFunction('convertToInteractive',\n",
              "                                                     [key], {});\n",
              "          if (!dataTable) return;\n",
              "\n",
              "          const docLinkHtml = 'Like what you see? Visit the ' +\n",
              "            '<a target=\"_blank\" href=https://colab.research.google.com/notebooks/data_table.ipynb>data table notebook</a>'\n",
              "            + ' to learn more about interactive tables.';\n",
              "          element.innerHTML = '';\n",
              "          dataTable['output_type'] = 'display_data';\n",
              "          await google.colab.output.renderOutput(dataTable, element);\n",
              "          const docLink = document.createElement('div');\n",
              "          docLink.innerHTML = docLinkHtml;\n",
              "          element.appendChild(docLink);\n",
              "        }\n",
              "      </script>\n",
              "    </div>\n",
              "  </div>\n",
              "  "
            ]
          },
          "metadata": {},
          "execution_count": 68
        }
      ]
    },
    {
      "cell_type": "markdown",
      "source": [
        "# Ranking all features seperately"
      ],
      "metadata": {
        "id": "4vnZLWl3i5I1"
      }
    },
    {
      "cell_type": "code",
      "source": [
        "d_rank = df1\n",
        "d_rank[\"rank_by_price\"] = d_rank[\"price_range\"].rank()\n",
        "d_rank[\"rank_by_battery\"] = d_rank[\"battery_power\"].rank(ascending=False)\n",
        "d_rank[\"rank_by_blueooth\"] = d_rank[\"blue\"].rank(ascending=False)\n",
        "d_rank[\"rank_by_clockspeed\"] = d_rank[\"clock_speed\"].rank(ascending=False)\n",
        "d_rank[\"rank_by_DualSIM\"] = d_rank[\"dual_sim\"].rank(ascending=False)\n",
        "d_rank[\"rank_by_fc\"] = d_rank[\"fc\"].rank(ascending=False)\n",
        "d_rank[\"rank_by_4G\"] = d_rank[\"four_g\"].rank(ascending=False)\n",
        "d_rank[\"rank_by_InternalMemory\"] = d_rank[\"int_memory\"].rank(ascending=False)\n",
        "d_rank[\"rank_by_mdep\"] = d_rank[\"m_dep\"].rank(ascending=False)\n",
        "d_rank[\"rank_by_weight\"] = d_rank[\"mobile_wt\"].rank(ascending=True)\n",
        "d_rank[\"rank_by_ncores\"] = d_rank[\"n_cores\"].rank(ascending=False)\n",
        "d_rank[\"rank_by_pc\"] = d_rank[\"pc\"].rank(ascending=False)\n",
        "d_rank[\"rank_by_height\"] = d_rank[\"px_height\"].rank(ascending=False)\n",
        "d_rank[\"rank_by_width\"] = d_rank[\"px_width\"].rank(ascending=False)\n",
        "d_rank[\"rank_by_ram\"] = d_rank[\"ram\"].rank(ascending=False)\n",
        "d_rank[\"rank_by_sch\"] = d_rank[\"sc_h\"].rank(ascending=False)\n",
        "d_rank[\"rank_by_scw\"] = d_rank[\"sc_w\"].rank(ascending=False)\n",
        "d_rank[\"rank_by_talktime\"] = d_rank[\"talk_time\"].rank(ascending=False)\n",
        "d_rank[\"rank_by_3G\"] = d_rank[\"three_g\"].rank(ascending=False)\n",
        "d_rank[\"rank_by_touchscreen\"] = d_rank[\"touch_screen\"].rank(ascending=False)\n",
        "d_rank[\"rank_by_wifi\"] = d_rank[\"wifi\"].rank(ascending=False)\n",
        "d_rank.head()"
      ],
      "metadata": {
        "colab": {
          "base_uri": "https://localhost:8080/",
          "height": 300
        },
        "id": "VMoqPXCpiu8V",
        "outputId": "bd66a77d-541d-48b7-9dff-1af6e60aed5c"
      },
      "execution_count": 69,
      "outputs": [
        {
          "output_type": "execute_result",
          "data": {
            "text/plain": [
              "   battery_power    blue  clock_speed  dual_sim      fc  four_g  int_memory  \\\n",
              "0          488.5   505.5       1476.0     491.0   597.0   479.0       180.5   \n",
              "1          722.5  1505.5        207.0    1491.0   237.5  1479.0      1666.5   \n",
              "2           91.5  1505.5        207.0    1491.0   814.0  1479.0      1281.0   \n",
              "3          171.0  1505.5       1678.5     491.0   237.5   479.0       290.5   \n",
              "4         1759.0  1505.5        807.5     491.0  1895.5  1479.0      1382.0   \n",
              "\n",
              "    m_dep  mobile_wt  n_cores  ...  rank_by_pc  rank_by_height  rank_by_width  \\\n",
              "0  1198.5     1783.5    366.0  ...      1746.0          1972.5         1664.5   \n",
              "1  1391.5      932.5    612.5  ...      1402.0           545.5           17.0   \n",
              "2  1797.0     1069.0   1132.5  ...      1402.0           212.0          386.5   \n",
              "3  1595.5      846.0   1370.5  ...      1090.5           250.0          287.0   \n",
              "4  1198.5     1006.0    366.0  ...       606.5           261.5         1054.0   \n",
              "\n",
              "   rank_by_ram  rank_by_sch  rank_by_scw  rank_by_talktime  rank_by_3G  \\\n",
              "0        762.5       1459.5        716.5             159.0      1762.0   \n",
              "1        714.0        341.0       1355.0            1418.5       762.0   \n",
              "2        732.0       1209.5       1532.5            1202.5       762.0   \n",
              "3        639.0        509.0        588.0             996.0       762.0   \n",
              "4       1375.0       1580.0       1532.5             587.0       762.0   \n",
              "\n",
              "   rank_by_touchscreen  rank_by_wifi  \n",
              "0               1503.5         507.5  \n",
              "1                503.5        1507.5  \n",
              "2                503.5        1507.5  \n",
              "3               1503.5        1507.5  \n",
              "4                503.5        1507.5  \n",
              "\n",
              "[5 rows x 42 columns]"
            ],
            "text/html": [
              "\n",
              "  <div id=\"df-31328178-48a1-4cbf-8d29-c505edbf2a1f\">\n",
              "    <div class=\"colab-df-container\">\n",
              "      <div>\n",
              "<style scoped>\n",
              "    .dataframe tbody tr th:only-of-type {\n",
              "        vertical-align: middle;\n",
              "    }\n",
              "\n",
              "    .dataframe tbody tr th {\n",
              "        vertical-align: top;\n",
              "    }\n",
              "\n",
              "    .dataframe thead th {\n",
              "        text-align: right;\n",
              "    }\n",
              "</style>\n",
              "<table border=\"1\" class=\"dataframe\">\n",
              "  <thead>\n",
              "    <tr style=\"text-align: right;\">\n",
              "      <th></th>\n",
              "      <th>battery_power</th>\n",
              "      <th>blue</th>\n",
              "      <th>clock_speed</th>\n",
              "      <th>dual_sim</th>\n",
              "      <th>fc</th>\n",
              "      <th>four_g</th>\n",
              "      <th>int_memory</th>\n",
              "      <th>m_dep</th>\n",
              "      <th>mobile_wt</th>\n",
              "      <th>n_cores</th>\n",
              "      <th>...</th>\n",
              "      <th>rank_by_pc</th>\n",
              "      <th>rank_by_height</th>\n",
              "      <th>rank_by_width</th>\n",
              "      <th>rank_by_ram</th>\n",
              "      <th>rank_by_sch</th>\n",
              "      <th>rank_by_scw</th>\n",
              "      <th>rank_by_talktime</th>\n",
              "      <th>rank_by_3G</th>\n",
              "      <th>rank_by_touchscreen</th>\n",
              "      <th>rank_by_wifi</th>\n",
              "    </tr>\n",
              "  </thead>\n",
              "  <tbody>\n",
              "    <tr>\n",
              "      <th>0</th>\n",
              "      <td>488.5</td>\n",
              "      <td>505.5</td>\n",
              "      <td>1476.0</td>\n",
              "      <td>491.0</td>\n",
              "      <td>597.0</td>\n",
              "      <td>479.0</td>\n",
              "      <td>180.5</td>\n",
              "      <td>1198.5</td>\n",
              "      <td>1783.5</td>\n",
              "      <td>366.0</td>\n",
              "      <td>...</td>\n",
              "      <td>1746.0</td>\n",
              "      <td>1972.5</td>\n",
              "      <td>1664.5</td>\n",
              "      <td>762.5</td>\n",
              "      <td>1459.5</td>\n",
              "      <td>716.5</td>\n",
              "      <td>159.0</td>\n",
              "      <td>1762.0</td>\n",
              "      <td>1503.5</td>\n",
              "      <td>507.5</td>\n",
              "    </tr>\n",
              "    <tr>\n",
              "      <th>1</th>\n",
              "      <td>722.5</td>\n",
              "      <td>1505.5</td>\n",
              "      <td>207.0</td>\n",
              "      <td>1491.0</td>\n",
              "      <td>237.5</td>\n",
              "      <td>1479.0</td>\n",
              "      <td>1666.5</td>\n",
              "      <td>1391.5</td>\n",
              "      <td>932.5</td>\n",
              "      <td>612.5</td>\n",
              "      <td>...</td>\n",
              "      <td>1402.0</td>\n",
              "      <td>545.5</td>\n",
              "      <td>17.0</td>\n",
              "      <td>714.0</td>\n",
              "      <td>341.0</td>\n",
              "      <td>1355.0</td>\n",
              "      <td>1418.5</td>\n",
              "      <td>762.0</td>\n",
              "      <td>503.5</td>\n",
              "      <td>1507.5</td>\n",
              "    </tr>\n",
              "    <tr>\n",
              "      <th>2</th>\n",
              "      <td>91.5</td>\n",
              "      <td>1505.5</td>\n",
              "      <td>207.0</td>\n",
              "      <td>1491.0</td>\n",
              "      <td>814.0</td>\n",
              "      <td>1479.0</td>\n",
              "      <td>1281.0</td>\n",
              "      <td>1797.0</td>\n",
              "      <td>1069.0</td>\n",
              "      <td>1132.5</td>\n",
              "      <td>...</td>\n",
              "      <td>1402.0</td>\n",
              "      <td>212.0</td>\n",
              "      <td>386.5</td>\n",
              "      <td>732.0</td>\n",
              "      <td>1209.5</td>\n",
              "      <td>1532.5</td>\n",
              "      <td>1202.5</td>\n",
              "      <td>762.0</td>\n",
              "      <td>503.5</td>\n",
              "      <td>1507.5</td>\n",
              "    </tr>\n",
              "    <tr>\n",
              "      <th>3</th>\n",
              "      <td>171.0</td>\n",
              "      <td>1505.5</td>\n",
              "      <td>1678.5</td>\n",
              "      <td>491.0</td>\n",
              "      <td>237.5</td>\n",
              "      <td>479.0</td>\n",
              "      <td>290.5</td>\n",
              "      <td>1595.5</td>\n",
              "      <td>846.0</td>\n",
              "      <td>1370.5</td>\n",
              "      <td>...</td>\n",
              "      <td>1090.5</td>\n",
              "      <td>250.0</td>\n",
              "      <td>287.0</td>\n",
              "      <td>639.0</td>\n",
              "      <td>509.0</td>\n",
              "      <td>588.0</td>\n",
              "      <td>996.0</td>\n",
              "      <td>762.0</td>\n",
              "      <td>1503.5</td>\n",
              "      <td>1507.5</td>\n",
              "    </tr>\n",
              "    <tr>\n",
              "      <th>4</th>\n",
              "      <td>1759.0</td>\n",
              "      <td>1505.5</td>\n",
              "      <td>807.5</td>\n",
              "      <td>491.0</td>\n",
              "      <td>1895.5</td>\n",
              "      <td>1479.0</td>\n",
              "      <td>1382.0</td>\n",
              "      <td>1198.5</td>\n",
              "      <td>1006.0</td>\n",
              "      <td>366.0</td>\n",
              "      <td>...</td>\n",
              "      <td>606.5</td>\n",
              "      <td>261.5</td>\n",
              "      <td>1054.0</td>\n",
              "      <td>1375.0</td>\n",
              "      <td>1580.0</td>\n",
              "      <td>1532.5</td>\n",
              "      <td>587.0</td>\n",
              "      <td>762.0</td>\n",
              "      <td>503.5</td>\n",
              "      <td>1507.5</td>\n",
              "    </tr>\n",
              "  </tbody>\n",
              "</table>\n",
              "<p>5 rows × 42 columns</p>\n",
              "</div>\n",
              "      <button class=\"colab-df-convert\" onclick=\"convertToInteractive('df-31328178-48a1-4cbf-8d29-c505edbf2a1f')\"\n",
              "              title=\"Convert this dataframe to an interactive table.\"\n",
              "              style=\"display:none;\">\n",
              "        \n",
              "  <svg xmlns=\"http://www.w3.org/2000/svg\" height=\"24px\"viewBox=\"0 0 24 24\"\n",
              "       width=\"24px\">\n",
              "    <path d=\"M0 0h24v24H0V0z\" fill=\"none\"/>\n",
              "    <path d=\"M18.56 5.44l.94 2.06.94-2.06 2.06-.94-2.06-.94-.94-2.06-.94 2.06-2.06.94zm-11 1L8.5 8.5l.94-2.06 2.06-.94-2.06-.94L8.5 2.5l-.94 2.06-2.06.94zm10 10l.94 2.06.94-2.06 2.06-.94-2.06-.94-.94-2.06-.94 2.06-2.06.94z\"/><path d=\"M17.41 7.96l-1.37-1.37c-.4-.4-.92-.59-1.43-.59-.52 0-1.04.2-1.43.59L10.3 9.45l-7.72 7.72c-.78.78-.78 2.05 0 2.83L4 21.41c.39.39.9.59 1.41.59.51 0 1.02-.2 1.41-.59l7.78-7.78 2.81-2.81c.8-.78.8-2.07 0-2.86zM5.41 20L4 18.59l7.72-7.72 1.47 1.35L5.41 20z\"/>\n",
              "  </svg>\n",
              "      </button>\n",
              "      \n",
              "  <style>\n",
              "    .colab-df-container {\n",
              "      display:flex;\n",
              "      flex-wrap:wrap;\n",
              "      gap: 12px;\n",
              "    }\n",
              "\n",
              "    .colab-df-convert {\n",
              "      background-color: #E8F0FE;\n",
              "      border: none;\n",
              "      border-radius: 50%;\n",
              "      cursor: pointer;\n",
              "      display: none;\n",
              "      fill: #1967D2;\n",
              "      height: 32px;\n",
              "      padding: 0 0 0 0;\n",
              "      width: 32px;\n",
              "    }\n",
              "\n",
              "    .colab-df-convert:hover {\n",
              "      background-color: #E2EBFA;\n",
              "      box-shadow: 0px 1px 2px rgba(60, 64, 67, 0.3), 0px 1px 3px 1px rgba(60, 64, 67, 0.15);\n",
              "      fill: #174EA6;\n",
              "    }\n",
              "\n",
              "    [theme=dark] .colab-df-convert {\n",
              "      background-color: #3B4455;\n",
              "      fill: #D2E3FC;\n",
              "    }\n",
              "\n",
              "    [theme=dark] .colab-df-convert:hover {\n",
              "      background-color: #434B5C;\n",
              "      box-shadow: 0px 1px 3px 1px rgba(0, 0, 0, 0.15);\n",
              "      filter: drop-shadow(0px 1px 2px rgba(0, 0, 0, 0.3));\n",
              "      fill: #FFFFFF;\n",
              "    }\n",
              "  </style>\n",
              "\n",
              "      <script>\n",
              "        const buttonEl =\n",
              "          document.querySelector('#df-31328178-48a1-4cbf-8d29-c505edbf2a1f button.colab-df-convert');\n",
              "        buttonEl.style.display =\n",
              "          google.colab.kernel.accessAllowed ? 'block' : 'none';\n",
              "\n",
              "        async function convertToInteractive(key) {\n",
              "          const element = document.querySelector('#df-31328178-48a1-4cbf-8d29-c505edbf2a1f');\n",
              "          const dataTable =\n",
              "            await google.colab.kernel.invokeFunction('convertToInteractive',\n",
              "                                                     [key], {});\n",
              "          if (!dataTable) return;\n",
              "\n",
              "          const docLinkHtml = 'Like what you see? Visit the ' +\n",
              "            '<a target=\"_blank\" href=https://colab.research.google.com/notebooks/data_table.ipynb>data table notebook</a>'\n",
              "            + ' to learn more about interactive tables.';\n",
              "          element.innerHTML = '';\n",
              "          dataTable['output_type'] = 'display_data';\n",
              "          await google.colab.output.renderOutput(dataTable, element);\n",
              "          const docLink = document.createElement('div');\n",
              "          docLink.innerHTML = docLinkHtml;\n",
              "          element.appendChild(docLink);\n",
              "        }\n",
              "      </script>\n",
              "    </div>\n",
              "  </div>\n",
              "  "
            ]
          },
          "metadata": {},
          "execution_count": 69
        }
      ]
    },
    {
      "cell_type": "code",
      "source": [
        "df1 = d_rank.iloc[:,21:]\n",
        "df1"
      ],
      "metadata": {
        "colab": {
          "base_uri": "https://localhost:8080/",
          "height": 488
        },
        "id": "I82T9IE1j3Nr",
        "outputId": "9ddab09c-ecf9-470c-9cf8-2414403c544a"
      },
      "execution_count": 70,
      "outputs": [
        {
          "output_type": "execute_result",
          "data": {
            "text/plain": [
              "      rank_by_price  rank_by_battery  rank_by_blueooth  rank_by_clockspeed  \\\n",
              "0             750.5           1512.5            1495.5               525.0   \n",
              "1            1250.5           1278.5             495.5              1794.0   \n",
              "2            1250.5           1909.5             495.5              1794.0   \n",
              "3            1250.5           1830.0             495.5               322.5   \n",
              "4             750.5            242.0             495.5              1193.5   \n",
              "...             ...              ...               ...                 ...   \n",
              "1995          250.5           1587.5             495.5              1794.0   \n",
              "1996         1250.5             58.0             495.5               258.0   \n",
              "1997         1750.5            121.5            1495.5              1362.5   \n",
              "1998          250.5            648.0            1495.5              1362.5   \n",
              "1999         1750.5           1980.0             495.5               664.0   \n",
              "\n",
              "      rank_by_DualSIM  rank_by_fc  rank_by_4G  rank_by_InternalMemory  \\\n",
              "0              1510.0      1404.0      1522.0                  1820.5   \n",
              "1               510.0      1763.5       522.0                   334.5   \n",
              "2               510.0      1187.0       522.0                   720.0   \n",
              "3              1510.0      1763.5      1522.0                  1710.5   \n",
              "4              1510.0       105.5       522.0                   619.0   \n",
              "...               ...         ...         ...                     ...   \n",
              "1995            510.0      1763.5       522.0                  1979.5   \n",
              "1996            510.0      1763.5      1522.0                   784.5   \n",
              "1997            510.0      1404.0       522.0                   860.0   \n",
              "1998           1510.0       856.0       522.0                   549.5   \n",
              "1999            510.0       720.0       522.0                   583.0   \n",
              "\n",
              "      rank_by_mdep  rank_by_weight  ...  rank_by_pc  rank_by_height  \\\n",
              "0            802.5          1783.5  ...      1746.0          1972.5   \n",
              "1            609.5           932.5  ...      1402.0           545.5   \n",
              "2            204.0          1069.0  ...      1402.0           212.0   \n",
              "3            405.5           846.0  ...      1090.5           250.0   \n",
              "4            802.5          1006.0  ...       606.5           261.5   \n",
              "...            ...             ...  ...         ...             ...   \n",
              "1995         405.5           456.0  ...       606.5           244.5   \n",
              "1996        1574.0          1766.5  ...      1650.0           536.0   \n",
              "1997         609.5           486.5  ...      1650.0           583.5   \n",
              "1998        1840.5          1069.0  ...      1479.0          1395.5   \n",
              "1999         204.0          1457.5  ...       418.5          1133.0   \n",
              "\n",
              "      rank_by_width  rank_by_ram  rank_by_sch  rank_by_scw  rank_by_talktime  \\\n",
              "0            1664.5        762.5       1459.5        716.5             159.0   \n",
              "1              17.0        714.0        341.0       1355.0            1418.5   \n",
              "2             386.5        732.0       1209.5       1532.5            1202.5   \n",
              "3             287.0        639.0        509.0        588.0             996.0   \n",
              "4            1054.0       1375.0       1580.0       1532.5             587.0   \n",
              "...             ...          ...          ...          ...               ...   \n",
              "1995          163.0       1767.0        924.0       1164.5             159.0   \n",
              "1996           54.5       1062.0       1209.5        375.0             471.5   \n",
              "1997          502.0        504.0       1459.5       1715.5            1638.0   \n",
              "1998         1792.5       1664.5        184.5        375.0             159.0   \n",
              "1999         1669.5         42.0         62.5       1164.5            1951.0   \n",
              "\n",
              "      rank_by_3G  rank_by_touchscreen  rank_by_wifi  \n",
              "0         1762.0               1503.5         507.5  \n",
              "1          762.0                503.5        1507.5  \n",
              "2          762.0                503.5        1507.5  \n",
              "3          762.0               1503.5        1507.5  \n",
              "4          762.0                503.5        1507.5  \n",
              "...          ...                  ...           ...  \n",
              "1995       762.0                503.5        1507.5  \n",
              "1996       762.0                503.5         507.5  \n",
              "1997       762.0                503.5        1507.5  \n",
              "1998       762.0                503.5         507.5  \n",
              "1999       762.0                503.5         507.5  \n",
              "\n",
              "[2000 rows x 21 columns]"
            ],
            "text/html": [
              "\n",
              "  <div id=\"df-64b5bf04-aabc-45d5-bb41-b48f7f290726\">\n",
              "    <div class=\"colab-df-container\">\n",
              "      <div>\n",
              "<style scoped>\n",
              "    .dataframe tbody tr th:only-of-type {\n",
              "        vertical-align: middle;\n",
              "    }\n",
              "\n",
              "    .dataframe tbody tr th {\n",
              "        vertical-align: top;\n",
              "    }\n",
              "\n",
              "    .dataframe thead th {\n",
              "        text-align: right;\n",
              "    }\n",
              "</style>\n",
              "<table border=\"1\" class=\"dataframe\">\n",
              "  <thead>\n",
              "    <tr style=\"text-align: right;\">\n",
              "      <th></th>\n",
              "      <th>rank_by_price</th>\n",
              "      <th>rank_by_battery</th>\n",
              "      <th>rank_by_blueooth</th>\n",
              "      <th>rank_by_clockspeed</th>\n",
              "      <th>rank_by_DualSIM</th>\n",
              "      <th>rank_by_fc</th>\n",
              "      <th>rank_by_4G</th>\n",
              "      <th>rank_by_InternalMemory</th>\n",
              "      <th>rank_by_mdep</th>\n",
              "      <th>rank_by_weight</th>\n",
              "      <th>...</th>\n",
              "      <th>rank_by_pc</th>\n",
              "      <th>rank_by_height</th>\n",
              "      <th>rank_by_width</th>\n",
              "      <th>rank_by_ram</th>\n",
              "      <th>rank_by_sch</th>\n",
              "      <th>rank_by_scw</th>\n",
              "      <th>rank_by_talktime</th>\n",
              "      <th>rank_by_3G</th>\n",
              "      <th>rank_by_touchscreen</th>\n",
              "      <th>rank_by_wifi</th>\n",
              "    </tr>\n",
              "  </thead>\n",
              "  <tbody>\n",
              "    <tr>\n",
              "      <th>0</th>\n",
              "      <td>750.5</td>\n",
              "      <td>1512.5</td>\n",
              "      <td>1495.5</td>\n",
              "      <td>525.0</td>\n",
              "      <td>1510.0</td>\n",
              "      <td>1404.0</td>\n",
              "      <td>1522.0</td>\n",
              "      <td>1820.5</td>\n",
              "      <td>802.5</td>\n",
              "      <td>1783.5</td>\n",
              "      <td>...</td>\n",
              "      <td>1746.0</td>\n",
              "      <td>1972.5</td>\n",
              "      <td>1664.5</td>\n",
              "      <td>762.5</td>\n",
              "      <td>1459.5</td>\n",
              "      <td>716.5</td>\n",
              "      <td>159.0</td>\n",
              "      <td>1762.0</td>\n",
              "      <td>1503.5</td>\n",
              "      <td>507.5</td>\n",
              "    </tr>\n",
              "    <tr>\n",
              "      <th>1</th>\n",
              "      <td>1250.5</td>\n",
              "      <td>1278.5</td>\n",
              "      <td>495.5</td>\n",
              "      <td>1794.0</td>\n",
              "      <td>510.0</td>\n",
              "      <td>1763.5</td>\n",
              "      <td>522.0</td>\n",
              "      <td>334.5</td>\n",
              "      <td>609.5</td>\n",
              "      <td>932.5</td>\n",
              "      <td>...</td>\n",
              "      <td>1402.0</td>\n",
              "      <td>545.5</td>\n",
              "      <td>17.0</td>\n",
              "      <td>714.0</td>\n",
              "      <td>341.0</td>\n",
              "      <td>1355.0</td>\n",
              "      <td>1418.5</td>\n",
              "      <td>762.0</td>\n",
              "      <td>503.5</td>\n",
              "      <td>1507.5</td>\n",
              "    </tr>\n",
              "    <tr>\n",
              "      <th>2</th>\n",
              "      <td>1250.5</td>\n",
              "      <td>1909.5</td>\n",
              "      <td>495.5</td>\n",
              "      <td>1794.0</td>\n",
              "      <td>510.0</td>\n",
              "      <td>1187.0</td>\n",
              "      <td>522.0</td>\n",
              "      <td>720.0</td>\n",
              "      <td>204.0</td>\n",
              "      <td>1069.0</td>\n",
              "      <td>...</td>\n",
              "      <td>1402.0</td>\n",
              "      <td>212.0</td>\n",
              "      <td>386.5</td>\n",
              "      <td>732.0</td>\n",
              "      <td>1209.5</td>\n",
              "      <td>1532.5</td>\n",
              "      <td>1202.5</td>\n",
              "      <td>762.0</td>\n",
              "      <td>503.5</td>\n",
              "      <td>1507.5</td>\n",
              "    </tr>\n",
              "    <tr>\n",
              "      <th>3</th>\n",
              "      <td>1250.5</td>\n",
              "      <td>1830.0</td>\n",
              "      <td>495.5</td>\n",
              "      <td>322.5</td>\n",
              "      <td>1510.0</td>\n",
              "      <td>1763.5</td>\n",
              "      <td>1522.0</td>\n",
              "      <td>1710.5</td>\n",
              "      <td>405.5</td>\n",
              "      <td>846.0</td>\n",
              "      <td>...</td>\n",
              "      <td>1090.5</td>\n",
              "      <td>250.0</td>\n",
              "      <td>287.0</td>\n",
              "      <td>639.0</td>\n",
              "      <td>509.0</td>\n",
              "      <td>588.0</td>\n",
              "      <td>996.0</td>\n",
              "      <td>762.0</td>\n",
              "      <td>1503.5</td>\n",
              "      <td>1507.5</td>\n",
              "    </tr>\n",
              "    <tr>\n",
              "      <th>4</th>\n",
              "      <td>750.5</td>\n",
              "      <td>242.0</td>\n",
              "      <td>495.5</td>\n",
              "      <td>1193.5</td>\n",
              "      <td>1510.0</td>\n",
              "      <td>105.5</td>\n",
              "      <td>522.0</td>\n",
              "      <td>619.0</td>\n",
              "      <td>802.5</td>\n",
              "      <td>1006.0</td>\n",
              "      <td>...</td>\n",
              "      <td>606.5</td>\n",
              "      <td>261.5</td>\n",
              "      <td>1054.0</td>\n",
              "      <td>1375.0</td>\n",
              "      <td>1580.0</td>\n",
              "      <td>1532.5</td>\n",
              "      <td>587.0</td>\n",
              "      <td>762.0</td>\n",
              "      <td>503.5</td>\n",
              "      <td>1507.5</td>\n",
              "    </tr>\n",
              "    <tr>\n",
              "      <th>...</th>\n",
              "      <td>...</td>\n",
              "      <td>...</td>\n",
              "      <td>...</td>\n",
              "      <td>...</td>\n",
              "      <td>...</td>\n",
              "      <td>...</td>\n",
              "      <td>...</td>\n",
              "      <td>...</td>\n",
              "      <td>...</td>\n",
              "      <td>...</td>\n",
              "      <td>...</td>\n",
              "      <td>...</td>\n",
              "      <td>...</td>\n",
              "      <td>...</td>\n",
              "      <td>...</td>\n",
              "      <td>...</td>\n",
              "      <td>...</td>\n",
              "      <td>...</td>\n",
              "      <td>...</td>\n",
              "      <td>...</td>\n",
              "      <td>...</td>\n",
              "    </tr>\n",
              "    <tr>\n",
              "      <th>1995</th>\n",
              "      <td>250.5</td>\n",
              "      <td>1587.5</td>\n",
              "      <td>495.5</td>\n",
              "      <td>1794.0</td>\n",
              "      <td>510.0</td>\n",
              "      <td>1763.5</td>\n",
              "      <td>522.0</td>\n",
              "      <td>1979.5</td>\n",
              "      <td>405.5</td>\n",
              "      <td>456.0</td>\n",
              "      <td>...</td>\n",
              "      <td>606.5</td>\n",
              "      <td>244.5</td>\n",
              "      <td>163.0</td>\n",
              "      <td>1767.0</td>\n",
              "      <td>924.0</td>\n",
              "      <td>1164.5</td>\n",
              "      <td>159.0</td>\n",
              "      <td>762.0</td>\n",
              "      <td>503.5</td>\n",
              "      <td>1507.5</td>\n",
              "    </tr>\n",
              "    <tr>\n",
              "      <th>1996</th>\n",
              "      <td>1250.5</td>\n",
              "      <td>58.0</td>\n",
              "      <td>495.5</td>\n",
              "      <td>258.0</td>\n",
              "      <td>510.0</td>\n",
              "      <td>1763.5</td>\n",
              "      <td>1522.0</td>\n",
              "      <td>784.5</td>\n",
              "      <td>1574.0</td>\n",
              "      <td>1766.5</td>\n",
              "      <td>...</td>\n",
              "      <td>1650.0</td>\n",
              "      <td>536.0</td>\n",
              "      <td>54.5</td>\n",
              "      <td>1062.0</td>\n",
              "      <td>1209.5</td>\n",
              "      <td>375.0</td>\n",
              "      <td>471.5</td>\n",
              "      <td>762.0</td>\n",
              "      <td>503.5</td>\n",
              "      <td>507.5</td>\n",
              "    </tr>\n",
              "    <tr>\n",
              "      <th>1997</th>\n",
              "      <td>1750.5</td>\n",
              "      <td>121.5</td>\n",
              "      <td>1495.5</td>\n",
              "      <td>1362.5</td>\n",
              "      <td>510.0</td>\n",
              "      <td>1404.0</td>\n",
              "      <td>522.0</td>\n",
              "      <td>860.0</td>\n",
              "      <td>609.5</td>\n",
              "      <td>486.5</td>\n",
              "      <td>...</td>\n",
              "      <td>1650.0</td>\n",
              "      <td>583.5</td>\n",
              "      <td>502.0</td>\n",
              "      <td>504.0</td>\n",
              "      <td>1459.5</td>\n",
              "      <td>1715.5</td>\n",
              "      <td>1638.0</td>\n",
              "      <td>762.0</td>\n",
              "      <td>503.5</td>\n",
              "      <td>1507.5</td>\n",
              "    </tr>\n",
              "    <tr>\n",
              "      <th>1998</th>\n",
              "      <td>250.5</td>\n",
              "      <td>648.0</td>\n",
              "      <td>1495.5</td>\n",
              "      <td>1362.5</td>\n",
              "      <td>1510.0</td>\n",
              "      <td>856.0</td>\n",
              "      <td>522.0</td>\n",
              "      <td>549.5</td>\n",
              "      <td>1840.5</td>\n",
              "      <td>1069.0</td>\n",
              "      <td>...</td>\n",
              "      <td>1479.0</td>\n",
              "      <td>1395.5</td>\n",
              "      <td>1792.5</td>\n",
              "      <td>1664.5</td>\n",
              "      <td>184.5</td>\n",
              "      <td>375.0</td>\n",
              "      <td>159.0</td>\n",
              "      <td>762.0</td>\n",
              "      <td>503.5</td>\n",
              "      <td>507.5</td>\n",
              "    </tr>\n",
              "    <tr>\n",
              "      <th>1999</th>\n",
              "      <td>1750.5</td>\n",
              "      <td>1980.0</td>\n",
              "      <td>495.5</td>\n",
              "      <td>664.0</td>\n",
              "      <td>510.0</td>\n",
              "      <td>720.0</td>\n",
              "      <td>522.0</td>\n",
              "      <td>583.0</td>\n",
              "      <td>204.0</td>\n",
              "      <td>1457.5</td>\n",
              "      <td>...</td>\n",
              "      <td>418.5</td>\n",
              "      <td>1133.0</td>\n",
              "      <td>1669.5</td>\n",
              "      <td>42.0</td>\n",
              "      <td>62.5</td>\n",
              "      <td>1164.5</td>\n",
              "      <td>1951.0</td>\n",
              "      <td>762.0</td>\n",
              "      <td>503.5</td>\n",
              "      <td>507.5</td>\n",
              "    </tr>\n",
              "  </tbody>\n",
              "</table>\n",
              "<p>2000 rows × 21 columns</p>\n",
              "</div>\n",
              "      <button class=\"colab-df-convert\" onclick=\"convertToInteractive('df-64b5bf04-aabc-45d5-bb41-b48f7f290726')\"\n",
              "              title=\"Convert this dataframe to an interactive table.\"\n",
              "              style=\"display:none;\">\n",
              "        \n",
              "  <svg xmlns=\"http://www.w3.org/2000/svg\" height=\"24px\"viewBox=\"0 0 24 24\"\n",
              "       width=\"24px\">\n",
              "    <path d=\"M0 0h24v24H0V0z\" fill=\"none\"/>\n",
              "    <path d=\"M18.56 5.44l.94 2.06.94-2.06 2.06-.94-2.06-.94-.94-2.06-.94 2.06-2.06.94zm-11 1L8.5 8.5l.94-2.06 2.06-.94-2.06-.94L8.5 2.5l-.94 2.06-2.06.94zm10 10l.94 2.06.94-2.06 2.06-.94-2.06-.94-.94-2.06-.94 2.06-2.06.94z\"/><path d=\"M17.41 7.96l-1.37-1.37c-.4-.4-.92-.59-1.43-.59-.52 0-1.04.2-1.43.59L10.3 9.45l-7.72 7.72c-.78.78-.78 2.05 0 2.83L4 21.41c.39.39.9.59 1.41.59.51 0 1.02-.2 1.41-.59l7.78-7.78 2.81-2.81c.8-.78.8-2.07 0-2.86zM5.41 20L4 18.59l7.72-7.72 1.47 1.35L5.41 20z\"/>\n",
              "  </svg>\n",
              "      </button>\n",
              "      \n",
              "  <style>\n",
              "    .colab-df-container {\n",
              "      display:flex;\n",
              "      flex-wrap:wrap;\n",
              "      gap: 12px;\n",
              "    }\n",
              "\n",
              "    .colab-df-convert {\n",
              "      background-color: #E8F0FE;\n",
              "      border: none;\n",
              "      border-radius: 50%;\n",
              "      cursor: pointer;\n",
              "      display: none;\n",
              "      fill: #1967D2;\n",
              "      height: 32px;\n",
              "      padding: 0 0 0 0;\n",
              "      width: 32px;\n",
              "    }\n",
              "\n",
              "    .colab-df-convert:hover {\n",
              "      background-color: #E2EBFA;\n",
              "      box-shadow: 0px 1px 2px rgba(60, 64, 67, 0.3), 0px 1px 3px 1px rgba(60, 64, 67, 0.15);\n",
              "      fill: #174EA6;\n",
              "    }\n",
              "\n",
              "    [theme=dark] .colab-df-convert {\n",
              "      background-color: #3B4455;\n",
              "      fill: #D2E3FC;\n",
              "    }\n",
              "\n",
              "    [theme=dark] .colab-df-convert:hover {\n",
              "      background-color: #434B5C;\n",
              "      box-shadow: 0px 1px 3px 1px rgba(0, 0, 0, 0.15);\n",
              "      filter: drop-shadow(0px 1px 2px rgba(0, 0, 0, 0.3));\n",
              "      fill: #FFFFFF;\n",
              "    }\n",
              "  </style>\n",
              "\n",
              "      <script>\n",
              "        const buttonEl =\n",
              "          document.querySelector('#df-64b5bf04-aabc-45d5-bb41-b48f7f290726 button.colab-df-convert');\n",
              "        buttonEl.style.display =\n",
              "          google.colab.kernel.accessAllowed ? 'block' : 'none';\n",
              "\n",
              "        async function convertToInteractive(key) {\n",
              "          const element = document.querySelector('#df-64b5bf04-aabc-45d5-bb41-b48f7f290726');\n",
              "          const dataTable =\n",
              "            await google.colab.kernel.invokeFunction('convertToInteractive',\n",
              "                                                     [key], {});\n",
              "          if (!dataTable) return;\n",
              "\n",
              "          const docLinkHtml = 'Like what you see? Visit the ' +\n",
              "            '<a target=\"_blank\" href=https://colab.research.google.com/notebooks/data_table.ipynb>data table notebook</a>'\n",
              "            + ' to learn more about interactive tables.';\n",
              "          element.innerHTML = '';\n",
              "          dataTable['output_type'] = 'display_data';\n",
              "          await google.colab.output.renderOutput(dataTable, element);\n",
              "          const docLink = document.createElement('div');\n",
              "          docLink.innerHTML = docLinkHtml;\n",
              "          element.appendChild(docLink);\n",
              "        }\n",
              "      </script>\n",
              "    </div>\n",
              "  </div>\n",
              "  "
            ]
          },
          "metadata": {},
          "execution_count": 70
        }
      ]
    },
    {
      "cell_type": "markdown",
      "source": [
        "Ranked the features of a smartphone."
      ],
      "metadata": {
        "id": "GL0Nsw-4krKu"
      }
    }
  ]
}